{
 "cells": [
  {
   "cell_type": "markdown",
   "metadata": {},
   "source": [
    "### Debug environment for the MARL process"
   ]
  },
  {
   "cell_type": "code",
   "execution_count": 1,
   "metadata": {},
   "outputs": [],
   "source": [
    "%matplotlib inline\n",
    "import gym\n",
    "import math\n",
    "import random\n",
    "import numpy as np\n",
    "import matplotlib\n",
    "import matplotlib.pyplot as plt\n",
    "from collections import namedtuple\n",
    "from itertools import count\n",
    "from PIL import Image\n",
    "\n",
    "import torch\n",
    "import torch.nn as nn\n",
    "import torch.optim as optim\n",
    "import torch.nn.functional as F\n",
    "import torchvision.transforms as T\n",
    "from torch.autograd import Variable\n",
    "\n",
    "# set up matplotlib\n",
    "is_ipython = 'inline' in matplotlib.get_backend()\n",
    "if is_ipython:\n",
    "    from IPython import display\n",
    "\n",
    "plt.ion()\n",
    "\n",
    "# if gpu is to be used\n",
    "device = torch.device(\"cuda\" if torch.cuda.is_available() else \"cpu\")\n",
    "\n",
    "from utils.ReplayMemory import * \n",
    "from utils.networks import *\n",
    "from utils.agents import *\n",
    "from utils.plotting import *\n",
    "from utils.train_test_methods import *\n",
    "from utils.params import *\n",
    "from utils.retrieve_sim import *\n",
    "\n",
    "from importlib import reload\n",
    "import utils\n",
    "\n",
    "input_type = U_VELOCITY\n",
    "observe_type = O_VELOCITY\n",
    "observe_action = O_ACTION\n",
    "reward_mode=ALL_REWARD\n",
    "\n",
    "import os\n",
    "try:\n",
    "    os.mkdir('screencaps')\n",
    "except:\n",
    "    pass\n"
   ]
  },
  {
   "cell_type": "code",
   "execution_count": 4,
   "metadata": {},
   "outputs": [
    {
     "name": "stdout",
     "output_type": "stream",
     "text": [
      "Loading model from models/AC2Agent_AC2_dist_reward_posGauss_fixed0_m1208_soft_bound_cumu_posReward_N2_749\n"
     ]
    },
    {
     "ename": "RuntimeError",
     "evalue": "Error(s) in loading state_dict for ValueNet:\n\tMissing key(s) in state_dict: \"VNlayers.0.weight\", \"VNlayers.0.bias\", \"VNlayers.2.weight\", \"VNlayers.2.bias\", \"VNlayers.4.weight\", \"VNlayers.4.bias\". \n\tUnexpected key(s) in state_dict: \"RNlayers.0.weight\", \"RNlayers.0.bias\", \"RNlayers.1.weight\", \"RNlayers.1.bias\", \"RNlayers.1.running_mean\", \"RNlayers.1.running_var\", \"RNlayers.1.num_batches_tracked\", \"RNlayers.3.weight\", \"RNlayers.3.bias\", \"RNlayers.4.weight\", \"RNlayers.4.bias\", \"RNlayers.4.running_mean\", \"RNlayers.4.running_var\", \"RNlayers.4.num_batches_tracked\", \"RNlayers.6.weight\", \"RNlayers.6.bias\". ",
     "output_type": "error",
     "traceback": [
      "\u001b[0;31m---------------------------------------------------------------------------\u001b[0m",
      "\u001b[0;31mRuntimeError\u001b[0m                              Traceback (most recent call last)",
      "\u001b[0;32m<ipython-input-4-1dfaf512c6aa>\u001b[0m in \u001b[0;36m<module>\u001b[0;34m\u001b[0m\n\u001b[1;32m     34\u001b[0m agent = AC5Agent(device, env.N, env.nf, env.na, hidden, rand_modeA=rand_mode,\n\u001b[1;32m     35\u001b[0m                  learning_rateA=0.01, learning_rateC=0.02, mode=1208)\n\u001b[0;32m---> 36\u001b[0;31m \u001b[0magent\u001b[0m\u001b[0;34m.\u001b[0m\u001b[0mload_model\u001b[0m\u001b[0;34m(\u001b[0m\u001b[0;34m'models/AC2Agent_AC2_dist_reward_posGauss_fixed0_m1208_soft_bound_cumu_posReward_N2_749'\u001b[0m\u001b[0;34m)\u001b[0m\u001b[0;34m\u001b[0m\u001b[0m\n\u001b[0m\u001b[1;32m     37\u001b[0m \u001b[0msteps\u001b[0m \u001b[0;34m=\u001b[0m \u001b[0;36m0\u001b[0m\u001b[0;34m\u001b[0m\u001b[0m\n",
      "\u001b[0;32m~/Documents/GT 20F/7000/GNN_experiments/utils/agents.py\u001b[0m in \u001b[0;36mload_model\u001b[0;34m(self, agent_path)\u001b[0m\n\u001b[1;32m   1565\u001b[0m         \u001b[0;32mif\u001b[0m \u001b[0magent_path\u001b[0m \u001b[0;32mis\u001b[0m \u001b[0;32mnot\u001b[0m \u001b[0;32mNone\u001b[0m\u001b[0;34m:\u001b[0m\u001b[0;34m\u001b[0m\u001b[0m\n\u001b[1;32m   1566\u001b[0m             \u001b[0mself\u001b[0m\u001b[0;34m.\u001b[0m\u001b[0mnetA\u001b[0m\u001b[0;34m.\u001b[0m\u001b[0mload_state_dict\u001b[0m\u001b[0;34m(\u001b[0m\u001b[0mtorch\u001b[0m\u001b[0;34m.\u001b[0m\u001b[0mload\u001b[0m\u001b[0;34m(\u001b[0m\u001b[0magent_path\u001b[0m\u001b[0;34m+\u001b[0m\u001b[0;34m'_A'\u001b[0m\u001b[0;34m)\u001b[0m\u001b[0;34m)\u001b[0m\u001b[0;34m\u001b[0m\u001b[0m\n\u001b[0;32m-> 1567\u001b[0;31m             \u001b[0mself\u001b[0m\u001b[0;34m.\u001b[0m\u001b[0mnetC\u001b[0m\u001b[0;34m.\u001b[0m\u001b[0mload_state_dict\u001b[0m\u001b[0;34m(\u001b[0m\u001b[0mtorch\u001b[0m\u001b[0;34m.\u001b[0m\u001b[0mload\u001b[0m\u001b[0;34m(\u001b[0m\u001b[0magent_path\u001b[0m\u001b[0;34m+\u001b[0m\u001b[0;34m'_C'\u001b[0m\u001b[0;34m)\u001b[0m\u001b[0;34m)\u001b[0m\u001b[0;34m\u001b[0m\u001b[0m\n\u001b[0m\u001b[1;32m   1568\u001b[0m \u001b[0;34m\u001b[0m\u001b[0m\n\u001b[1;32m   1569\u001b[0m \u001b[0;31m# DDPG attempt\u001b[0m\u001b[0;34m\u001b[0m\u001b[0;34m\u001b[0m\u001b[0m\n",
      "\u001b[0;32m/Library/Frameworks/Python.framework/Versions/3.6/lib/python3.6/site-packages/torch/nn/modules/module.py\u001b[0m in \u001b[0;36mload_state_dict\u001b[0;34m(self, state_dict, strict)\u001b[0m\n\u001b[1;32m    845\u001b[0m         \u001b[0;32mif\u001b[0m \u001b[0mlen\u001b[0m\u001b[0;34m(\u001b[0m\u001b[0merror_msgs\u001b[0m\u001b[0;34m)\u001b[0m \u001b[0;34m>\u001b[0m \u001b[0;36m0\u001b[0m\u001b[0;34m:\u001b[0m\u001b[0;34m\u001b[0m\u001b[0m\n\u001b[1;32m    846\u001b[0m             raise RuntimeError('Error(s) in loading state_dict for {}:\\n\\t{}'.format(\n\u001b[0;32m--> 847\u001b[0;31m                                self.__class__.__name__, \"\\n\\t\".join(error_msgs)))\n\u001b[0m\u001b[1;32m    848\u001b[0m         \u001b[0;32mreturn\u001b[0m \u001b[0m_IncompatibleKeys\u001b[0m\u001b[0;34m(\u001b[0m\u001b[0mmissing_keys\u001b[0m\u001b[0;34m,\u001b[0m \u001b[0munexpected_keys\u001b[0m\u001b[0;34m)\u001b[0m\u001b[0;34m\u001b[0m\u001b[0m\n\u001b[1;32m    849\u001b[0m \u001b[0;34m\u001b[0m\u001b[0m\n",
      "\u001b[0;31mRuntimeError\u001b[0m: Error(s) in loading state_dict for ValueNet:\n\tMissing key(s) in state_dict: \"VNlayers.0.weight\", \"VNlayers.0.bias\", \"VNlayers.2.weight\", \"VNlayers.2.bias\", \"VNlayers.4.weight\", \"VNlayers.4.bias\". \n\tUnexpected key(s) in state_dict: \"RNlayers.0.weight\", \"RNlayers.0.bias\", \"RNlayers.1.weight\", \"RNlayers.1.bias\", \"RNlayers.1.running_mean\", \"RNlayers.1.running_var\", \"RNlayers.1.num_batches_tracked\", \"RNlayers.3.weight\", \"RNlayers.3.bias\", \"RNlayers.4.weight\", \"RNlayers.4.bias\", \"RNlayers.4.running_mean\", \"RNlayers.4.running_var\", \"RNlayers.4.num_batches_tracked\", \"RNlayers.6.weight\", \"RNlayers.6.bias\". "
     ]
    }
   ],
   "source": [
    "# Load the model and make the right environment\n",
    "reload(utils.ReplayMemory)\n",
    "reload(utils.networks)\n",
    "reload(utils.agents)\n",
    "reload(utils.plotting)\n",
    "reload(utils.train_test_methods)\n",
    "from utils.ReplayMemory import * \n",
    "from utils.networks import *\n",
    "from utils.agents import *\n",
    "from utils.plotting import *\n",
    "from utils.train_test_methods import *\n",
    "\n",
    "num_episode=500#250#500\n",
    "test_interval=10#0\n",
    "num_test=10#50\n",
    "num_iteration=200\n",
    "BATCH_SIZE=128#64#128\n",
    "save_sim_intv=50\n",
    "debug=False\n",
    "num_sample=50\n",
    "seed=22222\n",
    "hidden=32\n",
    "action_space=[-1,1]\n",
    "\n",
    "# rand_mode = NO_RAND\n",
    "rand_mode = GAUSS_RAND\n",
    "N = 2\n",
    "env = gym.make('ConsensusEnv:ConsensusContEnv-v0', N=N, dt=0.1, Delta=0.05, #o_radius=40000,\n",
    "              input_type=input_type, observe_type=observe_type, observe_action=O_ACTION, reward_mode=DIST_REWARD,\n",
    "                 boundary_policy=SOFT_PENALTY, finish_reward_policy=REWARD_IF_CONSENSUS, \n",
    "                 uses_boundary=False\n",
    "#                  uses_boundary=True\n",
    "        ).unwrapped\n",
    "agent = AC2Agent(device, env.N, env.nf, env.na, hidden, rand_modeA=rand_mode,\n",
    "                 learning_rateA=0.01, learning_rateC=0.02, mode=1208)\n",
    "agent.load_model('models/AC2Agent_AC2_dist_reward_posGauss_fixed0_m1208_soft_bound_cumu_posReward_N2_749')\n",
    "steps = 0"
   ]
  },
  {
   "cell_type": "code",
   "execution_count": 104,
   "metadata": {},
   "outputs": [
    {
     "data": {
      "text/plain": [
       "<matplotlib.image.AxesImage at 0x1609e6c18>"
      ]
     },
     "execution_count": 104,
     "metadata": {},
     "output_type": "execute_result"
    },
    {
     "data": {
      "image/png": "[encoded data removed]",
      "text/plain": [
       "<Figure size 432x288 with 1 Axes>"
      ]
     },
     "metadata": {
      "needs_background": "light"
     },
     "output_type": "display_data"
    }
   ],
   "source": [
    "# Copy the code from train and test functions, and prepare to run it\n",
    "agent.set_train(False)\n",
    "cum_reward = 0\n",
    "reward_hist = []\n",
    "\n",
    "state = env.reset()\n",
    "if agent.centralized:\n",
    "    state = env.state\n",
    "state = torch.from_numpy(state).float()\n",
    "state = Variable(state)\n",
    "\n",
    "img = env.render(mode=\"rgb_array\")\n",
    "env.close()\n",
    "plt.imshow(img)"
   ]
  },
  {
   "cell_type": "code",
   "execution_count": 105,
   "metadata": {},
   "outputs": [
    {
     "name": "stdout",
     "output_type": "stream",
     "text": [
      "Current env state: (loc in x, loc in y, vel in x, vel in y) \n",
      " [[ 0.          0.17738344]\n",
      " [ 0.         -0.15457512]\n",
      " [ 0.99999988  0.99999988]\n",
      " [-0.99999982 -0.99999988]] \n",
      " Observed state: (4x relative states, 2x self and neighbor actions, 1x time count)\n",
      " [[[ 0.00000000e+00 -1.77383442e-01]\n",
      "  [ 0.00000000e+00  1.54575116e-01]\n",
      "  [ 0.00000000e+00  0.00000000e+00]\n",
      "  [ 0.00000000e+00  5.96046448e-08]\n",
      "  [ 9.99999881e-01  9.99999881e-01]\n",
      "  [-9.99999821e-01 -9.99999881e-01]\n",
      "  [ 0.00000000e+00  0.00000000e+00]]\n",
      "\n",
      " [[ 1.77383442e-01  0.00000000e+00]\n",
      "  [-1.54575116e-01  0.00000000e+00]\n",
      "  [ 0.00000000e+00  0.00000000e+00]\n",
      "  [-5.96046448e-08  0.00000000e+00]\n",
      "  [ 9.99999881e-01  9.99999881e-01]\n",
      "  [-9.99999821e-01 -9.99999881e-01]\n",
      "  [ 0.00000000e+00  0.00000000e+00]]] \n",
      "Reward: \n",
      " [-94.1134224 -94.1134224]\n"
     ]
    },
    {
     "data": {
      "image/png": "[encoded data removed]",
      "text/plain": [
       "<Figure size 432x288 with 1 Axes>"
      ]
     },
     "metadata": {
      "needs_background": "light"
     },
     "output_type": "display_data"
    }
   ],
   "source": [
    "# Copy the code from train and test functions, and run it iteration by iteration\n",
    "with torch.no_grad():  \n",
    "    # Try to pick an action, react, and store the resulting behavior in the pool here\n",
    "    if agent.centralized:\n",
    "        action = agent.select_action(state, **{\n",
    "                'steps_done':steps, 'rand':False, 'num_sample':50, 'action_space':action_space\n",
    "            }).T\n",
    "    else:\n",
    "        actions = []\n",
    "        for i in range(N):\n",
    "            action = agent.select_action(state[i], **{\n",
    "                'steps_done':steps, 'rand':False, 'num_sample':50, 'action_space':action_space\n",
    "            })\n",
    "            actions.append(action)\n",
    "        action = np.array(actions).T \n",
    "\n",
    "    next_state, reward, done, _ = env.step(action)\n",
    "    img = env.render(mode=\"rgb_array\")\n",
    "    env.close()\n",
    "    plt.imshow(img)\n",
    "    \n",
    "    if agent.centralized:\n",
    "        next_state = env.state\n",
    "    print(\"Current env state: (loc in x, loc in y, vel in x, vel in y) \\n\", env.state[:4], \n",
    "          \"\\n Observed state: (4x relative states, 2x self and neighbor actions, 1x time count)\\n\", next_state, \n",
    "          \"\\nReward: \\n\", reward)\n",
    "    \n",
    "    next_state = Variable(torch.from_numpy(next_state).float()) # The float() probably avoids bug in net.forward()\n",
    "    state = next_state\n",
    "    cum_reward += sum(reward)\n",
    "    reward_hist.append(reward)\n",
    "    steps += 1\n",
    "\n",
    "    if done:\n",
    "        print(\"Took \", steps, \" steps to converge\")\n",
    "        "
   ]
  },
  {
   "cell_type": "code",
   "execution_count": 106,
   "metadata": {},
   "outputs": [
    {
     "data": {
      "text/plain": [
       "array([[0., 1.],\n",
       "       [1., 0.]])"
      ]
     },
     "execution_count": 106,
     "metadata": {},
     "output_type": "execute_result"
    }
   ],
   "source": [
    "env.Adj"
   ]
  },
  {
   "cell_type": "code",
   "execution_count": 111,
   "metadata": {},
   "outputs": [
    {
     "data": {
      "text/plain": [
       "array([[0.        , 0.23528356],\n",
       "       [0.23528356, 0.        ]])"
      ]
     },
     "execution_count": 111,
     "metadata": {},
     "output_type": "execute_result"
    }
   ],
   "source": [
    "diff = env.state.T.reshape((env.N,env.ns,1)) - env.state.reshape((1,env.ns,env.N))\n",
    "\n",
    "diff_norm = np.linalg.norm(diff[:,:2,:], ord=2, axis=1)\n",
    "\n",
    "diff_norm"
   ]
  },
  {
   "cell_type": "code",
   "execution_count": 108,
   "metadata": {},
   "outputs": [
    {
     "data": {
      "text/plain": [
       "array([[ 0.9999999,  0.9999999],\n",
       "       [-0.9999998, -0.9999999]], dtype=float32)"
      ]
     },
     "execution_count": 108,
     "metadata": {},
     "output_type": "execute_result"
    }
   ],
   "source": [
    "action"
   ]
  },
  {
   "cell_type": "code",
   "execution_count": 107,
   "metadata": {},
   "outputs": [
    {
     "data": {
      "text/plain": [
       "array([[ 0.        ,  0.17738344],\n",
       "       [ 0.        , -0.15457512],\n",
       "       [ 0.99999988,  0.99999988],\n",
       "       [-0.99999982, -0.99999988],\n",
       "       [ 0.        ,  0.        ],\n",
       "       [ 0.        ,  0.        ]])"
      ]
     },
     "execution_count": 107,
     "metadata": {},
     "output_type": "execute_result"
    }
   ],
   "source": [
    "env.state"
   ]
  },
  {
   "cell_type": "code",
   "execution_count": 110,
   "metadata": {},
   "outputs": [
    {
     "data": {
      "text/plain": [
       "tensor([[ 1., -1.,  1.,  1.]], grad_fn=<CatBackward>)"
      ]
     },
     "execution_count": 110,
     "metadata": {},
     "output_type": "execute_result"
    }
   ],
   "source": [
    "act_params = agent.netA(Variable(next_state[1].view(1, -1, N)))\n",
    "act_params"
   ]
  },
  {
   "cell_type": "code",
   "execution_count": 95,
   "metadata": {},
   "outputs": [
    {
     "data": {
      "text/plain": [
       "tensor([[ 0.7810, -1.2545]])"
      ]
     },
     "execution_count": 95,
     "metadata": {},
     "output_type": "execute_result"
    }
   ],
   "source": [
    "pred_action = torch.zeros(1,agent.na)\n",
    "pred_probs = torch.zeros(1)\n",
    "\n",
    "distrb = torch.distributions.Normal(\n",
    "    act_params[:,:agent.na],\n",
    "    torch.diag( nn.functional.softplus( act_params[:,agent.na:] ) )\n",
    ")\n",
    "aa = distrb.sample()\n",
    "aa"
   ]
  },
  {
   "cell_type": "code",
   "execution_count": 96,
   "metadata": {},
   "outputs": [
    {
     "data": {
      "text/plain": [
       "(tensor([[ 0.7810, -1.0000]]),\n",
       " tensor([[-1.2054, -1.1915]], grad_fn=<SubBackward0>))"
      ]
     },
     "execution_count": 96,
     "metadata": {},
     "output_type": "execute_result"
    }
   ],
   "source": [
    "pred_action = torch.clamp( aa, agent.action_range[0], agent.action_range[1] )\n",
    "pred_probs = distrb.log_prob(pred_action)\n",
    "pred_action, pred_probs"
   ]
  },
  {
   "cell_type": "code",
   "execution_count": 90,
   "metadata": {},
   "outputs": [
    {
     "data": {
      "text/plain": [
       "tensor([[1.3133, 1.3133]], grad_fn=<SoftplusBackward>)"
      ]
     },
     "execution_count": 90,
     "metadata": {},
     "output_type": "execute_result"
    }
   ],
   "source": [
    "nn.functional.softplus( act_params[:,agent.na:] )"
   ]
  },
  {
   "cell_type": "code",
   "execution_count": 91,
   "metadata": {},
   "outputs": [
    {
     "data": {
      "text/plain": [
       "tensor([[-0.4820, -2.4129]])"
      ]
     },
     "execution_count": 91,
     "metadata": {},
     "output_type": "execute_result"
    }
   ],
   "source": [
    "aa = distrb.sample()\n",
    "aa"
   ]
  },
  {
   "cell_type": "code",
   "execution_count": 92,
   "metadata": {},
   "outputs": [
    {
     "data": {
      "text/plain": [
       "tensor([[-0.4820, -1.0000]])"
      ]
     },
     "execution_count": 92,
     "metadata": {},
     "output_type": "execute_result"
    }
   ],
   "source": [
    "torch.clamp( aa, agent.action_range[0], agent.action_range[1] )"
   ]
  },
  {
   "cell_type": "code",
   "execution_count": 34,
   "metadata": {},
   "outputs": [
    {
     "data": {
      "text/plain": [
       "[2, 1]"
      ]
     },
     "execution_count": 34,
     "metadata": {},
     "output_type": "execute_result"
    }
   ],
   "source": [
    "import random\n",
    "random.sample([1,2,3],2)"
   ]
  },
  {
   "cell_type": "code",
   "execution_count": 7,
   "metadata": {},
   "outputs": [
    {
     "name": "stdout",
     "output_type": "stream",
     "text": [
      "Updated mean and stdev: -198288.9271350663 and 99667.43256874384\n",
      "torch.Size([24, 3]) torch.Size([4, 3, 2])\n",
      "torch.Size([24, 3]) torch.Size([4, 6])\n"
     ]
    },
    {
     "ename": "RuntimeError",
     "evalue": "Sizes of tensors must match except in dimension 1. Got 24 and 4 in dimension 0",
     "output_type": "error",
     "traceback": [
      "\u001b[0;31m---------------------------------------------------------------------------\u001b[0m",
      "\u001b[0;31mRuntimeError\u001b[0m                              Traceback (most recent call last)",
      "\u001b[0;32m<ipython-input-7-de427e4ab6fd>\u001b[0m in \u001b[0;36m<module>\u001b[0;34m\u001b[0m\n\u001b[1;32m     65\u001b[0m               \u001b[0mloss_history\u001b[0m\u001b[0;34m=\u001b[0m\u001b[0mAC2_loss\u001b[0m\u001b[0;34m[\u001b[0m\u001b[0mi\u001b[0m\u001b[0;34m]\u001b[0m\u001b[0;34m,\u001b[0m\u001b[0;34m\u001b[0m\u001b[0m\n\u001b[1;32m     66\u001b[0m               \u001b[0msave_sim_intv\u001b[0m\u001b[0;34m=\u001b[0m\u001b[0msave_sim_intv\u001b[0m\u001b[0;34m,\u001b[0m \u001b[0msave_sim_fnames\u001b[0m\u001b[0;34m=\u001b[0m\u001b[0;34m[\u001b[0m\u001b[0msim_fnames\u001b[0m\u001b[0;34m[\u001b[0m\u001b[0mi\u001b[0m\u001b[0;34m]\u001b[0m\u001b[0;34m]\u001b[0m\u001b[0;34m,\u001b[0m\u001b[0;34m\u001b[0m\u001b[0m\n\u001b[0;32m---> 67\u001b[0;31m               imdir='screencaps/', useVid=False)\n\u001b[0m\u001b[1;32m     68\u001b[0m     )\n\u001b[1;32m     69\u001b[0m     \u001b[0mprint\u001b[0m\u001b[0;34m(\u001b[0m\u001b[0;34m\"Finished training env with {0} agents for AC\"\u001b[0m\u001b[0;34m.\u001b[0m\u001b[0mformat\u001b[0m\u001b[0;34m(\u001b[0m\u001b[0mN_\u001b[0m\u001b[0;34m)\u001b[0m\u001b[0;34m)\u001b[0m\u001b[0;34m\u001b[0m\u001b[0m\n",
      "\u001b[0;32m~/Documents/GT 20F/7000/GNN_experiments/utils/train_test_methods.py\u001b[0m in \u001b[0;36mtrain\u001b[0;34m(agent, env, num_episode, test_interval, num_test, num_iteration, BATCH_SIZE, num_sample, action_space, debug, memory, seed, update_mode, reward_mode, gamma, loss_history, loss_historyA, lr_history, lr_historyA, reward_mean_var, save_sim_intv, save_sim_fnames, imdir, useVid, save_intm_models, return_memory)\u001b[0m\n\u001b[1;32m    236\u001b[0m                 \u001b[0mtransitions\u001b[0m \u001b[0;34m=\u001b[0m \u001b[0mmemory\u001b[0m\u001b[0;34m.\u001b[0m\u001b[0msample\u001b[0m\u001b[0;34m(\u001b[0m\u001b[0mBATCH_SIZE\u001b[0m\u001b[0;34m)\u001b[0m\u001b[0;34m\u001b[0m\u001b[0m\n\u001b[1;32m    237\u001b[0m                 \u001b[0mbatch\u001b[0m \u001b[0;34m=\u001b[0m \u001b[0mTransition\u001b[0m\u001b[0;34m(\u001b[0m\u001b[0;34m*\u001b[0m\u001b[0mzip\u001b[0m\u001b[0;34m(\u001b[0m\u001b[0;34m*\u001b[0m\u001b[0mtransitions\u001b[0m\u001b[0;34m)\u001b[0m\u001b[0;34m)\u001b[0m\u001b[0;34m\u001b[0m\u001b[0m\n\u001b[0;32m--> 238\u001b[0;31m                 \u001b[0magent\u001b[0m\u001b[0;34m.\u001b[0m\u001b[0moptimize_model\u001b[0m\u001b[0;34m(\u001b[0m\u001b[0mbatch\u001b[0m\u001b[0;34m,\u001b[0m \u001b[0;34m**\u001b[0m\u001b[0;34m{\u001b[0m\u001b[0;34m'B'\u001b[0m\u001b[0;34m:\u001b[0m\u001b[0mBATCH_SIZE\u001b[0m\u001b[0;34m}\u001b[0m\u001b[0;34m)\u001b[0m\u001b[0;34m\u001b[0m\u001b[0m\n\u001b[0m\u001b[1;32m    239\u001b[0m             \u001b[0;32melif\u001b[0m \u001b[0mlen\u001b[0m\u001b[0;34m(\u001b[0m\u001b[0mmemory\u001b[0m\u001b[0;34m)\u001b[0m \u001b[0;34m>\u001b[0m \u001b[0;36m0\u001b[0m\u001b[0;34m:\u001b[0m\u001b[0;34m\u001b[0m\u001b[0m\n\u001b[1;32m    240\u001b[0m                 \u001b[0mtransitions\u001b[0m \u001b[0;34m=\u001b[0m \u001b[0mmemory\u001b[0m\u001b[0;34m.\u001b[0m\u001b[0msample\u001b[0m\u001b[0;34m(\u001b[0m\u001b[0mlen\u001b[0m\u001b[0;34m(\u001b[0m\u001b[0mmemory\u001b[0m\u001b[0;34m)\u001b[0m\u001b[0;34m)\u001b[0m\u001b[0;34m\u001b[0m\u001b[0m\n",
      "\u001b[0;32m~/Documents/GT 20F/7000/GNN_experiments/utils/agents.py\u001b[0m in \u001b[0;36moptimize_model\u001b[0;34m(self, batch, **kwargs)\u001b[0m\n\u001b[1;32m   1401\u001b[0m         \u001b[0mself\u001b[0m\u001b[0;34m.\u001b[0m\u001b[0mnetT\u001b[0m\u001b[0;34m.\u001b[0m\u001b[0mtrain\u001b[0m\u001b[0;34m(\u001b[0m\u001b[0;34m)\u001b[0m\u001b[0;34m\u001b[0m\u001b[0m\n\u001b[1;32m   1402\u001b[0m         \u001b[0mself\u001b[0m\u001b[0;34m.\u001b[0m\u001b[0moptimizerT\u001b[0m\u001b[0;34m.\u001b[0m\u001b[0mzero_grad\u001b[0m\u001b[0;34m(\u001b[0m\u001b[0;34m)\u001b[0m\u001b[0;34m\u001b[0m\u001b[0m\n\u001b[0;32m-> 1403\u001b[0;31m         \u001b[0mpred_next_state\u001b[0m \u001b[0;34m=\u001b[0m \u001b[0mself\u001b[0m\u001b[0;34m.\u001b[0m\u001b[0mnetT\u001b[0m\u001b[0;34m(\u001b[0m\u001b[0mstate_batch\u001b[0m\u001b[0;34m,\u001b[0m \u001b[0maction_batch\u001b[0m\u001b[0;34m)\u001b[0m\u001b[0;34m\u001b[0m\u001b[0m\n\u001b[0m\u001b[1;32m   1404\u001b[0m         \u001b[0mlossT\u001b[0m \u001b[0;34m=\u001b[0m \u001b[0mlossC\u001b[0m \u001b[0;34m=\u001b[0m \u001b[0mtorch\u001b[0m\u001b[0;34m.\u001b[0m\u001b[0mnn\u001b[0m\u001b[0;34m.\u001b[0m\u001b[0mfunctional\u001b[0m\u001b[0;34m.\u001b[0m\u001b[0mmse_loss\u001b[0m\u001b[0;34m(\u001b[0m\u001b[0mnext_state_batch\u001b[0m\u001b[0;34m,\u001b[0m \u001b[0mpred_next_state\u001b[0m\u001b[0;34m)\u001b[0m\u001b[0;34m\u001b[0m\u001b[0m\n\u001b[1;32m   1405\u001b[0m         \u001b[0mlossT\u001b[0m\u001b[0;34m.\u001b[0m\u001b[0mbackward\u001b[0m\u001b[0;34m(\u001b[0m\u001b[0;34m)\u001b[0m\u001b[0;34m\u001b[0m\u001b[0m\n",
      "\u001b[0;32m/Library/Frameworks/Python.framework/Versions/3.6/lib/python3.6/site-packages/torch/nn/modules/module.py\u001b[0m in \u001b[0;36m__call__\u001b[0;34m(self, *input, **kwargs)\u001b[0m\n\u001b[1;32m    548\u001b[0m             \u001b[0mresult\u001b[0m \u001b[0;34m=\u001b[0m \u001b[0mself\u001b[0m\u001b[0;34m.\u001b[0m\u001b[0m_slow_forward\u001b[0m\u001b[0;34m(\u001b[0m\u001b[0;34m*\u001b[0m\u001b[0minput\u001b[0m\u001b[0;34m,\u001b[0m \u001b[0;34m**\u001b[0m\u001b[0mkwargs\u001b[0m\u001b[0;34m)\u001b[0m\u001b[0;34m\u001b[0m\u001b[0m\n\u001b[1;32m    549\u001b[0m         \u001b[0;32melse\u001b[0m\u001b[0;34m:\u001b[0m\u001b[0;34m\u001b[0m\u001b[0m\n\u001b[0;32m--> 550\u001b[0;31m             \u001b[0mresult\u001b[0m \u001b[0;34m=\u001b[0m \u001b[0mself\u001b[0m\u001b[0;34m.\u001b[0m\u001b[0mforward\u001b[0m\u001b[0;34m(\u001b[0m\u001b[0;34m*\u001b[0m\u001b[0minput\u001b[0m\u001b[0;34m,\u001b[0m \u001b[0;34m**\u001b[0m\u001b[0mkwargs\u001b[0m\u001b[0;34m)\u001b[0m\u001b[0;34m\u001b[0m\u001b[0m\n\u001b[0m\u001b[1;32m    551\u001b[0m         \u001b[0;32mfor\u001b[0m \u001b[0mhook\u001b[0m \u001b[0;32min\u001b[0m \u001b[0mself\u001b[0m\u001b[0;34m.\u001b[0m\u001b[0m_forward_hooks\u001b[0m\u001b[0;34m.\u001b[0m\u001b[0mvalues\u001b[0m\u001b[0;34m(\u001b[0m\u001b[0;34m)\u001b[0m\u001b[0;34m:\u001b[0m\u001b[0;34m\u001b[0m\u001b[0m\n\u001b[1;32m    552\u001b[0m             \u001b[0mhook_result\u001b[0m \u001b[0;34m=\u001b[0m \u001b[0mhook\u001b[0m\u001b[0;34m(\u001b[0m\u001b[0mself\u001b[0m\u001b[0;34m,\u001b[0m \u001b[0minput\u001b[0m\u001b[0;34m,\u001b[0m \u001b[0mresult\u001b[0m\u001b[0;34m)\u001b[0m\u001b[0;34m\u001b[0m\u001b[0m\n",
      "\u001b[0;32m~/Documents/GT 20F/7000/GNN_experiments/utils/networks.py\u001b[0m in \u001b[0;36mforward\u001b[0;34m(self, x, y)\u001b[0m\n\u001b[1;32m    195\u001b[0m         \u001b[0my\u001b[0m \u001b[0;34m=\u001b[0m \u001b[0mself\u001b[0m\u001b[0;34m.\u001b[0m\u001b[0mFTlayers\u001b[0m\u001b[0;34m[\u001b[0m\u001b[0;36m1\u001b[0m\u001b[0;34m]\u001b[0m\u001b[0;34m(\u001b[0m\u001b[0my\u001b[0m\u001b[0;34m)\u001b[0m\u001b[0;34m\u001b[0m\u001b[0m\n\u001b[1;32m    196\u001b[0m         \u001b[0mprint\u001b[0m\u001b[0;34m(\u001b[0m\u001b[0mx\u001b[0m\u001b[0;34m.\u001b[0m\u001b[0mshape\u001b[0m\u001b[0;34m,\u001b[0m \u001b[0my\u001b[0m\u001b[0;34m.\u001b[0m\u001b[0mshape\u001b[0m\u001b[0;34m)\u001b[0m\u001b[0;34m\u001b[0m\u001b[0m\n\u001b[0;32m--> 197\u001b[0;31m         \u001b[0mx\u001b[0m \u001b[0;34m=\u001b[0m \u001b[0mtorch\u001b[0m\u001b[0;34m.\u001b[0m\u001b[0mcat\u001b[0m\u001b[0;34m(\u001b[0m \u001b[0;34m(\u001b[0m\u001b[0mx\u001b[0m\u001b[0;34m,\u001b[0m \u001b[0my\u001b[0m\u001b[0;34m)\u001b[0m\u001b[0;34m,\u001b[0m \u001b[0mdim\u001b[0m\u001b[0;34m=\u001b[0m\u001b[0;36m1\u001b[0m \u001b[0;34m)\u001b[0m\u001b[0;34m\u001b[0m\u001b[0m\n\u001b[0m\u001b[1;32m    198\u001b[0m         \u001b[0;32mfor\u001b[0m \u001b[0mfc\u001b[0m \u001b[0;32min\u001b[0m \u001b[0mself\u001b[0m\u001b[0;34m.\u001b[0m\u001b[0mTNlayers\u001b[0m\u001b[0;34m:\u001b[0m\u001b[0;34m\u001b[0m\u001b[0m\n\u001b[1;32m    199\u001b[0m             \u001b[0mx\u001b[0m \u001b[0;34m=\u001b[0m \u001b[0mfc\u001b[0m\u001b[0;34m(\u001b[0m\u001b[0mx\u001b[0m\u001b[0;34m)\u001b[0m\u001b[0;34m\u001b[0m\u001b[0m\n",
      "\u001b[0;31mRuntimeError\u001b[0m: Sizes of tensors must match except in dimension 1. Got 24 and 4 in dimension 0"
     ]
    }
   ],
   "source": [
    "# Test out centralized environment\n",
    "reload(utils.ReplayMemory)\n",
    "reload(utils.networks)\n",
    "reload(utils.agents)\n",
    "reload(utils.plotting)\n",
    "reload(utils.train_test_methods)\n",
    "from utils.ReplayMemory import * \n",
    "from utils.networks import *\n",
    "from utils.agents import *\n",
    "from utils.plotting import *\n",
    "from utils.train_test_methods import *\n",
    "\n",
    "num_episode=2#00#250#500\n",
    "test_interval=1#0#0\n",
    "num_test=1#0#50\n",
    "num_iteration=20#0\n",
    "BATCH_SIZE=4#8#64#128\n",
    "save_sim_intv=50\n",
    "debug=False\n",
    "num_sample=50\n",
    "seed=22222\n",
    "hidden=32\n",
    "action_space=[-1,1]\n",
    "\n",
    "# rand_mode = NO_RAND\n",
    "rand_mode = GAUSS_RAND\n",
    "\n",
    "N_list = [3]\n",
    "env_list = []\n",
    "for N_ in N_list:\n",
    "    env_list.append(\n",
    "        gym.make('ConsensusEnv:CentralizedConsensusContEnv-v0', N=N_, dt=0.1, Delta=0.05, #o_radius=40000,\n",
    "              input_type=input_type, observe_type=observe_type, observe_action=O_ACTION, \n",
    "                 reward_mode=DIST_REWARD,#|ACT_REWARD,\n",
    "#                  uses_boundary=True,\n",
    "                 uses_boundary=False,\n",
    "                 dist_reward_func=lambda x : (np.abs(x) + 2) * (np.abs(x) + 2),\n",
    "                 boundary_policy=SOFT_PENALTY, finish_reward_policy=REWARD_IF_CONSENSUS\n",
    "        ).unwrapped\n",
    "    )\n",
    "#     env_list[-1].mov_w = 100\n",
    "\n",
    "AC2_list = []\n",
    "for i,N_ in enumerate(N_list):\n",
    "    AC2_list.append(\n",
    "        AC5Agent(device, N_, env_list[i].ns, # IMPORTANT!!! use .ns for centralized, and .nf for decentralized\n",
    "                 env_list[i].na, hidden, rand_modeA=rand_mode, centralized=True,\n",
    "                 learning_rateA=0.01, learning_rateC=0.02, mode=1208)\n",
    "    )\n",
    "\n",
    "sim_fnames = ['AC2_centralizedTest_m1208_N{0}'.format(N_) for N_ in N_list]\n",
    "memory_backup = []\n",
    "AC2_hist = []\n",
    "AC2_loss = []\n",
    "for i,N_ in enumerate(N_list):\n",
    "    AC2_loss.append([])\n",
    "    memory_backup.append( ReplayMemory(1000 * env_list[i].N) )\n",
    "    AC2_hist.append(\n",
    "        train(AC2_list[i], env_list[i], \n",
    "              num_episode=num_episode, test_interval=test_interval, num_test=num_test, num_iteration=num_iteration, \n",
    "              BATCH_SIZE=BATCH_SIZE, num_sample=num_sample, action_space=[-1,1], debug=debug, memory=memory_backup[-1],\n",
    "#               update_mode=UPDATE_PER_ITERATION, reward_mode=FUTURE_REWARD_YES_NORMALIZE, \n",
    "              update_mode=UPDATE_PER_EPISODE, \n",
    "              reward_mode=FUTURE_REWARD_NORMALIZE|FUTURE_REWARD_YES,\n",
    "              loss_history=AC2_loss[i],\n",
    "              save_sim_intv=save_sim_intv, save_sim_fnames=[sim_fnames[i]], \n",
    "              imdir='screencaps/', useVid=False)\n",
    "    )\n",
    "    print(\"Finished training env with {0} agents for AC\".format(N_))\n"
   ]
  },
  {
   "cell_type": "code",
   "execution_count": 128,
   "metadata": {},
   "outputs": [
    {
     "name": "stdout",
     "output_type": "stream",
     "text": [
      "Updated mean and stdev: -143313.17028637498 and 49768.20311595716\n",
      "Test result at episode  0 : \n",
      "Test result at episode  20 : \n",
      "Test result at episode  40 : \n",
      "Test result at episode  60 : \n",
      "Test result at episode  80 : \n",
      "Test result at episode  100 : \n",
      "Test result at episode  120 : \n",
      "Test result at episode  140 : \n",
      "Test result at episode  160 : \n",
      "Test result at episode  180 : \n",
      "Test result at episode  200 : \n",
      "Test result at episode  220 : \n",
      "Test result at episode  240 : \n",
      "Finished episode  0  with  199 ;\n",
      "cumulative reward =  -29132321.517931543\n",
      "Test result at episode  260 : \n",
      "Test result at episode  280 : \n",
      "Test result at episode  300 : \n",
      "Test result at episode  320 : \n",
      "Test result at episode  340 : \n",
      "Test result at episode  360 : \n",
      "Test result at episode  380 : \n",
      "Test result at episode  400 : \n",
      "Test result at episode  420 : \n",
      "Test result at episode  440 : \n",
      "Test result at episode  460 : \n",
      "Test result at episode  480 : \n",
      "Finished episode  0  with  199 ;\n",
      "cumulative reward =  -36193599.76833054\n",
      "Test result at episode  500 : \n",
      "Test result at episode  520 : \n",
      "Test result at episode  540 : \n",
      "Test result at episode  560 : \n",
      "Test result at episode  580 : \n",
      "Test result at episode  600 : \n",
      "Test result at episode  620 : \n",
      "Test result at episode  640 : \n",
      "Test result at episode  660 : \n",
      "Test result at episode  680 : \n",
      "Test result at episode  700 : \n",
      "Test result at episode  720 : \n",
      "Test result at episode  740 : \n",
      "Finished episode  0  with  199 ;\n",
      "cumulative reward =  -38339727.95103928\n",
      "Test result at episode  760 : \n",
      "Test result at episode  780 : \n",
      "Test result at episode  800 : \n",
      "Test result at episode  820 : \n",
      "Test result at episode  840 : \n",
      "Test result at episode  860 : \n",
      "Test result at episode  880 : \n",
      "Test result at episode  900 : \n",
      "Test result at episode  920 : \n",
      "Test result at episode  940 : \n",
      "Test result at episode  960 : \n",
      "Test result at episode  980 : \n",
      "Finished episode  0  with  199 ;\n",
      "cumulative reward =  -36617624.66691928\n",
      "Finished training env with 16 agents for AC\n",
      "Updated mean and stdev: -147605.54009371533 and 51349.86588731289\n",
      "Test result at episode  0 : \n",
      "Test result at episode  20 : \n",
      "Test result at episode  40 : \n",
      "Test result at episode  60 : \n",
      "Test result at episode  80 : \n",
      "Test result at episode  100 : \n",
      "Test result at episode  120 : \n",
      "Test result at episode  140 : \n",
      "Test result at episode  160 : \n",
      "Test result at episode  180 : \n",
      "Test result at episode  200 : \n",
      "Test result at episode  220 : \n",
      "Test result at episode  240 : \n",
      "Finished episode  0  with  199 ;\n",
      "cumulative reward =  -29227020.982350633\n",
      "Test result at episode  260 : \n",
      "Test result at episode  280 : \n",
      "Test result at episode  300 : \n",
      "Test result at episode  320 : \n",
      "Test result at episode  340 : \n",
      "Test result at episode  360 : \n",
      "Test result at episode  380 : \n",
      "Test result at episode  400 : \n",
      "Test result at episode  420 : \n",
      "Test result at episode  440 : \n",
      "Test result at episode  460 : \n",
      "Test result at episode  480 : \n",
      "Finished episode  0  with  199 ;\n",
      "cumulative reward =  -29180672.49287494\n",
      "Test result at episode  500 : \n",
      "Test result at episode  520 : \n",
      "Test result at episode  540 : \n",
      "Test result at episode  560 : \n",
      "Test result at episode  580 : \n",
      "Test result at episode  600 : \n",
      "Test result at episode  620 : \n",
      "Test result at episode  640 : \n",
      "Test result at episode  660 : \n",
      "Test result at episode  680 : \n",
      "Test result at episode  700 : \n",
      "Test result at episode  720 : \n",
      "Test result at episode  740 : \n",
      "Finished episode  0  with  199 ;\n",
      "cumulative reward =  -27359636.618675027\n",
      "Test result at episode  760 : \n",
      "Test result at episode  780 : \n",
      "Test result at episode  800 : \n",
      "Test result at episode  820 : \n",
      "Test result at episode  840 : \n",
      "Test result at episode  860 : \n",
      "Test result at episode  880 : \n",
      "Test result at episode  900 : \n",
      "Test result at episode  920 : \n",
      "Test result at episode  940 : \n",
      "Test result at episode  960 : \n",
      "Test result at episode  980 : \n",
      "Finished episode  0  with  199 ;\n",
      "cumulative reward =  -27653957.315391656\n",
      "Finished training env with 16 agents for AC\n",
      "Updated mean and stdev: -118379.75128185237 and 38128.668040398115\n",
      "Test result at episode  0 : \n",
      "Test result at episode  20 : \n",
      "Test result at episode  40 : \n",
      "Test result at episode  60 : \n",
      "Test result at episode  80 : \n",
      "Test result at episode  100 : \n",
      "Test result at episode  120 : \n",
      "Test result at episode  140 : \n",
      "Test result at episode  160 : \n",
      "Test result at episode  180 : \n",
      "Test result at episode  200 : \n",
      "Test result at episode  220 : \n",
      "Test result at episode  240 : \n",
      "Finished episode  0  with  199 ;\n",
      "cumulative reward =  -21426310.296804667\n",
      "Test result at episode  260 : \n",
      "Test result at episode  280 : \n",
      "Test result at episode  300 : \n",
      "Test result at episode  320 : \n",
      "Test result at episode  340 : \n",
      "Test result at episode  360 : \n",
      "Test result at episode  380 : \n",
      "Test result at episode  400 : \n",
      "Test result at episode  420 : \n",
      "Test result at episode  440 : \n",
      "Test result at episode  460 : \n",
      "Test result at episode  480 : \n",
      "Finished episode  0  with  199 ;\n",
      "cumulative reward =  -22263399.823114228\n",
      "Test result at episode  500 : \n",
      "Test result at episode  520 : \n",
      "Test result at episode  540 : \n",
      "Test result at episode  560 : \n",
      "Test result at episode  580 : \n",
      "Test result at episode  600 : \n",
      "Test result at episode  620 : \n",
      "Test result at episode  640 : \n",
      "Test result at episode  660 : \n",
      "Test result at episode  680 : \n",
      "Test result at episode  700 : \n",
      "Test result at episode  720 : \n",
      "Test result at episode  740 : \n",
      "Finished episode  0  with  199 ;\n",
      "cumulative reward =  -22640482.74471435\n",
      "Test result at episode  760 : \n",
      "Test result at episode  780 : \n",
      "Test result at episode  800 : \n",
      "Test result at episode  820 : \n",
      "Test result at episode  840 : \n",
      "Test result at episode  860 : \n",
      "Test result at episode  880 : \n",
      "Test result at episode  900 : \n",
      "Test result at episode  920 : \n",
      "Test result at episode  940 : \n",
      "Test result at episode  960 : \n",
      "Test result at episode  980 : \n",
      "Finished episode  0  with  199 ;\n",
      "cumulative reward =  -29894170.19369678\n",
      "Finished training env with 16 agents for AC\n",
      "Updated mean and stdev: -112543.76107441183 and 43051.53389089359\n",
      "Test result at episode  0 : \n",
      "Test result at episode  20 : \n",
      "Test result at episode  40 : \n",
      "Test result at episode  60 : \n",
      "Test result at episode  80 : \n",
      "Test result at episode  100 : \n",
      "Test result at episode  120 : \n",
      "Test result at episode  140 : \n",
      "Test result at episode  160 : \n",
      "Test result at episode  180 : \n",
      "Test result at episode  200 : \n",
      "Test result at episode  220 : \n",
      "Test result at episode  240 : \n",
      "Finished episode  0  with  199 ;\n",
      "cumulative reward =  -23800739.616785794\n",
      "Test result at episode  260 : \n",
      "Test result at episode  280 : \n",
      "Test result at episode  300 : \n",
      "Test result at episode  320 : \n",
      "Test result at episode  340 : \n",
      "Test result at episode  360 : \n",
      "Test result at episode  380 : \n",
      "Test result at episode  400 : \n",
      "Test result at episode  420 : \n",
      "Test result at episode  440 : \n",
      "Test result at episode  460 : \n",
      "Test result at episode  480 : \n",
      "Finished episode  0  with  199 ;\n",
      "cumulative reward =  -23196093.70882117\n",
      "Test result at episode  500 : \n",
      "Test result at episode  520 : \n",
      "Test result at episode  540 : \n",
      "Test result at episode  560 : \n",
      "Test result at episode  580 : \n",
      "Test result at episode  600 : \n",
      "Test result at episode  620 : \n",
      "Test result at episode  640 : \n",
      "Test result at episode  660 : \n",
      "Test result at episode  680 : \n",
      "Test result at episode  700 : \n",
      "Test result at episode  720 : \n",
      "Test result at episode  740 : \n",
      "Finished episode  0  with  199 ;\n",
      "cumulative reward =  -24815434.919640254\n",
      "Test result at episode  760 : \n",
      "Test result at episode  780 : \n",
      "Test result at episode  800 : \n",
      "Test result at episode  820 : \n",
      "Test result at episode  840 : \n",
      "Test result at episode  860 : \n",
      "Test result at episode  880 : \n",
      "Test result at episode  900 : \n",
      "Test result at episode  920 : \n",
      "Test result at episode  940 : \n",
      "Test result at episode  960 : \n",
      "Test result at episode  980 : \n",
      "Finished episode  0  with  199 ;\n",
      "cumulative reward =  -21999680.759240687\n",
      "Finished training env with 16 agents for AC\n"
     ]
    },
    {
     "data": {
      "text/plain": [
       "<Figure size 432x288 with 0 Axes>"
      ]
     },
     "metadata": {},
     "output_type": "display_data"
    }
   ],
   "source": [
    "# Actual training for AC2\n",
    "reload(utils.agents)\n",
    "from utils.agents import *\n",
    "num_episode=1000#250#500\n",
    "test_interval=10*2#0\n",
    "num_test=10#10#50\n",
    "num_iteration=200\n",
    "BATCH_SIZE=2*128#64#128\n",
    "save_sim_intv=250\n",
    "# hidden=8\n",
    "\n",
    "# rand_mode = NO_RAND\n",
    "rand_mode = GAUSS_RAND\n",
    "hidden_list=[4,8,16,32]\n",
    "# hidden_list=[8]\n",
    "N_list = [16]*len(hidden_list)\n",
    "env_list = []\n",
    "for N_ in N_list:\n",
    "    env_list.append(\n",
    "        gym.make('ConsensusEnv:CentralizedConsensusContEnv-v0', N=N_, dt=0.1, Delta=0.05, #o_radius=40000,\n",
    "              input_type=input_type, observe_type=observe_type, observe_action=O_ACTION, \n",
    "                 reward_mode=DIST_REWARD,#|ACT_REWARD,\n",
    "#                  uses_boundary=True,\n",
    "                 uses_boundary=False,\n",
    "                 dist_reward_func=lambda x : (np.log(np.abs(x)+1)),\n",
    "#                  dist_reward_func=lambda x : np.sqrt(np.abs(x)),\n",
    "#                  dist_reward_func=lambda x : (np.abs(x) + 2) * (np.abs(x) + 2), # * (np.abs(x) + 2) * (np.abs(x) + 2),\n",
    "                 boundary_policy=SOFT_PENALTY, finish_reward_policy=REWARD_IF_CONSENSUS\n",
    "        ).unwrapped\n",
    "    )\n",
    "    env_list[-1].mov_w = 100\n",
    "    env_list[-1].oob_reward = 400\n",
    "\n",
    "AC2_list = []\n",
    "for i,N_ in enumerate(N_list):\n",
    "    AC2_list.append(\n",
    "        AC2Agent(device, N_, env_list[i].ns, # IMPORTANT!!! use .ns for centralized, and .nf for decentralized\n",
    "                 env_list[i].na, hidden_list[i], rand_modeA=rand_mode, centralized=True,\n",
    "                 neg_loss_sign=False,\n",
    "                 learning_rateA=0.01, learning_rateC=0.02, mode=12088, \n",
    "                 use_Closs_thres=True, Closs_threshold=0.01)\n",
    "    )\n",
    "mode_list=[0]\n",
    "\n",
    "sim_fnames = ['AC2_centralized_hid{1}_logreward_tanhC_leak003A_Closs1_m0_N{0}'.format(N_,hidden_list[i]) for i,N_ in enumerate(N_list)]\n",
    "memory_backup = []\n",
    "AC2_hist = []\n",
    "AC2_loss = []\n",
    "for i,N_ in enumerate(N_list):\n",
    "    AC2_loss.append([])\n",
    "    memory_backup.append( ReplayMemory(1000 * env_list[i].N) )\n",
    "    AC2_hist.append(\n",
    "        train(AC2_list[i], env_list[i], \n",
    "              num_episode=num_episode, test_interval=test_interval, num_test=num_test, num_iteration=num_iteration, \n",
    "              BATCH_SIZE=BATCH_SIZE, num_sample=num_sample, action_space=[-1,1], debug=debug, memory=memory_backup[-1],\n",
    "              update_mode=UPDATE_PER_EPISODE, #UPDATE_PER_ITERATION,\n",
    "              reward_mode=FUTURE_REWARD_NORMALIZE,\n",
    "#               reward_mode=FUTURE_REWARD_YES,#|FUTURE_REWARD_NORMALIZE, #FUTURE_REWARD_YES_NORMALIZE, \n",
    "              loss_history=AC2_loss[i], #reward_mean_var=(torch.Tensor([-69600]), torch.Tensor([46290])),\n",
    "              save_sim_intv=save_sim_intv, save_sim_fnames=[sim_fnames[i]], \n",
    "              imdir='screencaps/', useVid=False)\n",
    "    )\n",
    "    print(\"Finished training env with {0} agents for AC\".format(N_))\n"
   ]
  },
  {
   "cell_type": "code",
   "execution_count": 13,
   "metadata": {
    "collapsed": true,
    "jupyter": {
     "outputs_hidden": true
    }
   },
   "outputs": [
    {
     "name": "stdout",
     "output_type": "stream",
     "text": [
      "Updated mean and stdev: -137407.17062223068 and 52668.32849293526\n",
      "Test result at episode  0 : \n",
      "Test result at episode  20 : \n",
      "Test result at episode  40 : \n",
      "Test result at episode  60 : \n",
      "Test result at episode  80 : \n",
      "Took  47  steps to converge\n",
      "Finished episode  0  with  47 ;\n",
      "cumulative reward =  -127132.12267942539\n",
      "Test result at episode  100 : \n",
      "Test result at episode  120 : \n",
      "Test result at episode  140 : \n",
      "Test result at episode  160 : \n",
      "Test result at episode  180 : \n",
      "Took  55  steps to converge\n",
      "Finished episode  0  with  55 ;\n",
      "cumulative reward =  -139933.129879196\n",
      "Test result at episode  200 : \n",
      "Test result at episode  220 : \n",
      "Test result at episode  240 : \n",
      "Test result at episode  260 : \n",
      "Test result at episode  280 : \n",
      "Took  15  steps to converge\n",
      "Finished episode  0  with  15 ;\n",
      "cumulative reward =  -62057.77780509232\n",
      "Test result at episode  300 : \n",
      "Test result at episode  320 : \n",
      "Test result at episode  340 : \n",
      "Test result at episode  360 : \n",
      "Test result at episode  380 : \n",
      "Took  17  steps to converge\n",
      "Finished episode  0  with  17 ;\n",
      "cumulative reward =  -65052.53355131294\n",
      "Test result at episode  400 : \n",
      "Test result at episode  420 : \n",
      "Test result at episode  440 : \n",
      "Test result at episode  460 : \n",
      "Test result at episode  480 : \n",
      "Took  22  steps to converge\n",
      "Finished episode  0  with  22 ;\n",
      "cumulative reward =  -82390.17327482667\n",
      "Test result at episode  500 : \n",
      "Test result at episode  520 : \n",
      "Test result at episode  540 : \n",
      "Test result at episode  560 : \n",
      "Test result at episode  580 : \n",
      "Took  19  steps to converge\n",
      "Finished episode  0  with  19 ;\n",
      "cumulative reward =  -71596.46259941756\n",
      "Test result at episode  600 : \n",
      "Test result at episode  620 : \n",
      "Test result at episode  640 : \n",
      "Test result at episode  660 : \n",
      "Test result at episode  680 : \n",
      "Took  11  steps to converge\n",
      "Finished episode  0  with  11 ;\n",
      "cumulative reward =  -49433.745641991045\n",
      "Test result at episode  700 : \n",
      "Test result at episode  720 : \n",
      "Test result at episode  740 : \n",
      "Test result at episode  760 : \n",
      "Test result at episode  780 : \n",
      "Took  18  steps to converge\n",
      "Finished episode  0  with  18 ;\n",
      "cumulative reward =  -59693.65997633265\n",
      "Test result at episode  800 : \n",
      "Test result at episode  820 : \n",
      "Test result at episode  840 : \n",
      "Test result at episode  860 : \n",
      "Test result at episode  880 : \n",
      "Took  20  steps to converge\n",
      "Finished episode  0  with  20 ;\n",
      "cumulative reward =  -74550.27989931032\n",
      "Test result at episode  900 : \n",
      "Test result at episode  920 : \n",
      "Test result at episode  940 : \n",
      "Test result at episode  960 : \n",
      "Test result at episode  980 : \n",
      "Took  23  steps to converge\n",
      "Finished episode  0  with  23 ;\n",
      "cumulative reward =  -86235.9465152233\n",
      "Finished training env with 3 agents for AC\n",
      "Updated mean and stdev: -270522.97025381983 and 72468.13012830072\n",
      "Test result at episode  0 : \n",
      "Test result at episode  20 : \n",
      "Test result at episode  40 : \n",
      "Test result at episode  60 : \n",
      "Test result at episode  80 : \n",
      "Took  19  steps to converge\n",
      "Finished episode  0  with  19 ;\n",
      "cumulative reward =  -53184.630979070105\n",
      "Test result at episode  100 : \n",
      "Test result at episode  120 : \n",
      "Test result at episode  140 : \n",
      "Test result at episode  160 : \n",
      "Test result at episode  180 : \n",
      "Took  53  steps to converge\n",
      "Finished episode  0  with  53 ;\n",
      "cumulative reward =  -153560.2985428034\n",
      "Test result at episode  200 : \n",
      "Test result at episode  220 : \n",
      "Test result at episode  240 : \n",
      "Test result at episode  260 : \n",
      "Test result at episode  280 : \n",
      "Took  25  steps to converge\n",
      "Finished episode  0  with  25 ;\n",
      "cumulative reward =  -77960.13897115084\n",
      "Test result at episode  300 : \n",
      "Test result at episode  320 : \n",
      "Test result at episode  340 : \n",
      "Test result at episode  360 : \n",
      "Test result at episode  380 : \n",
      "Took  27  steps to converge\n",
      "Finished episode  0  with  27 ;\n",
      "cumulative reward =  -81354.76225821776\n",
      "Test result at episode  400 : \n",
      "Test result at episode  420 : \n",
      "Test result at episode  440 : \n",
      "Test result at episode  460 : \n",
      "Test result at episode  480 : \n",
      "Took  29  steps to converge\n",
      "Finished episode  0  with  29 ;\n",
      "cumulative reward =  -89766.85092925694\n",
      "Test result at episode  500 : \n",
      "Test result at episode  520 : \n",
      "Test result at episode  540 : \n",
      "Test result at episode  560 : \n",
      "Test result at episode  580 : \n",
      "Took  21  steps to converge\n",
      "Finished episode  0  with  21 ;\n",
      "cumulative reward =  -44261.528789263044\n",
      "Test result at episode  600 : \n",
      "Test result at episode  620 : \n",
      "Test result at episode  640 : \n",
      "Test result at episode  660 : \n",
      "Test result at episode  680 : \n",
      "Took  22  steps to converge\n",
      "Finished episode  0  with  22 ;\n",
      "cumulative reward =  -49420.41937652968\n",
      "Test result at episode  700 : \n",
      "Test result at episode  720 : \n",
      "Test result at episode  740 : \n",
      "Test result at episode  760 : \n",
      "Test result at episode  780 : \n",
      "Took  28  steps to converge\n",
      "Finished episode  0  with  28 ;\n",
      "cumulative reward =  -62480.67218456233\n",
      "Test result at episode  800 : \n",
      "Test result at episode  820 : \n",
      "Test result at episode  840 : \n",
      "Test result at episode  860 : \n",
      "Test result at episode  880 : \n",
      "Took  21  steps to converge\n",
      "Finished episode  0  with  21 ;\n",
      "cumulative reward =  -53195.60045118209\n",
      "Test result at episode  900 : \n",
      "Test result at episode  920 : \n",
      "Test result at episode  940 : \n",
      "Test result at episode  960 : \n",
      "Test result at episode  980 : \n",
      "Took  18  steps to converge\n",
      "Finished episode  0  with  18 ;\n",
      "cumulative reward =  -47920.39689055153\n",
      "Finished training env with 3 agents for AC\n"
     ]
    },
    {
     "data": {
      "text/plain": [
       "<Figure size 432x288 with 0 Axes>"
      ]
     },
     "metadata": {},
     "output_type": "display_data"
    }
   ],
   "source": [
    "# Code specifically for AC3\n",
    "reload(utils.ReplayMemory)\n",
    "reload(utils.networks)\n",
    "reload(utils.agents)\n",
    "reload(utils.plotting)\n",
    "reload(utils.train_test_methods)\n",
    "from utils.ReplayMemory import * \n",
    "from utils.networks import *\n",
    "from utils.agents import *\n",
    "from utils.plotting import *\n",
    "from utils.train_test_methods import *\n",
    "\n",
    "num_episode=1000#250#500\n",
    "test_interval=10*2#0\n",
    "num_test=10#10#50\n",
    "num_iteration=200\n",
    "BATCH_SIZE=2*128#64#128\n",
    "save_sim_intv=100#250\n",
    "debug=False\n",
    "num_sample=50\n",
    "seed=22222\n",
    "hidden=32\n",
    "action_space=[-1,1]\n",
    "\n",
    "# rand_mode = NO_RAND\n",
    "rand_mode = GAUSS_RAND\n",
    "\n",
    "# mode_list = [1204,1205,1208,-1204,-1205,-1208,0]\n",
    "mode_list = [1204,1205,1208,0]\n",
    "N_list = [3]*len(mode_list)\n",
    "env_list = []\n",
    "for N_ in N_list:\n",
    "    env_list.append(\n",
    "        gym.make('ConsensusEnv:CentralizedConsensusContEnv-v0', N=N_, dt=0.1, Delta=0.05, #o_radius=40000,\n",
    "              input_type=input_type, observe_type=observe_type, observe_action=O_ACTION, \n",
    "                 reward_mode=DIST_REWARD,#|ACT_REWARD,\n",
    "                 uses_boundary=True,\n",
    "#                  uses_boundary=False,\n",
    "                 dist_reward_func=lambda x : (np.log(np.abs(x)+1)),\n",
    "#                  dist_reward_func=lambda x : np.sqrt(np.abs(x)),\n",
    "#                  dist_reward_func=lambda x : (np.abs(x) + 2) * (np.abs(x) + 2), # * (np.abs(x) + 2) * (np.abs(x) + 2),\n",
    "                 boundary_policy=SOFT_PENALTY, finish_reward_policy=REWARD_IF_CONSENSUS\n",
    "        ).unwrapped\n",
    "    )\n",
    "#     env_list[-1].mov_w = 100\n",
    "\n",
    "AC2_list = []\n",
    "for i,N_ in enumerate(N_list):\n",
    "    AC2_list.append(\n",
    "        AC3Agent(device, N_, env_list[i].ns, # IMPORTANT!!! use .ns for centralized, and .nf for decentralized\n",
    "                 env_list[i].na, hidden, rand_modeA=rand_mode, centralized=True,\n",
    "                 neg_loss_sign=False,#True,\n",
    "                 learning_rateA=0.01, learning_rateC=0.02, mode=mode_list[i])\n",
    "    )\n",
    "\n",
    "sim_fnames = ['AC3_centralized_posGauss_logreward_difftanhC_noBatchNormC_leak03A_m{1}_N{0}'.format(\n",
    "    N_list[i],mode_list[i]) for i in range(len(N_list))]\n",
    "memory_backup = []\n",
    "AC2_hist = []\n",
    "AC2_loss = []\n",
    "for i,N_ in enumerate(N_list):\n",
    "    AC2_loss.append([])\n",
    "    memory_backup.append( ReplayMemory(1000 * env_list[i].N) )\n",
    "    AC2_hist.append(\n",
    "        train(AC2_list[i], env_list[i], \n",
    "              num_episode=num_episode, test_interval=test_interval, num_test=num_test, num_iteration=num_iteration, \n",
    "              BATCH_SIZE=BATCH_SIZE, num_sample=num_sample, action_space=[-1,1], debug=debug, memory=memory_backup[-1],\n",
    "              update_mode=UPDATE_PER_EPISODE, #UPDATE_PER_ITERATION,\n",
    "              reward_mode=FUTURE_REWARD_NORMALIZE|FUTURE_REWARD_YES,\n",
    "#               reward_mode=FUTURE_REWARD_YES,#|FUTURE_REWARD_NORMALIZE, #FUTURE_REWARD_YES_NORMALIZE, \n",
    "              loss_history=AC2_loss[i], #reward_mean_var=(torch.Tensor([-69600]), torch.Tensor([46290])),\n",
    "              save_sim_intv=save_sim_intv, save_sim_fnames=[sim_fnames[i]], \n",
    "              imdir='screencaps/', useVid=False)\n",
    "    )\n",
    "    print(\"Finished training env with {0} agents for AC\".format(N_))\n"
   ]
  },
  {
   "cell_type": "code",
   "execution_count": 142,
   "metadata": {
    "collapsed": true,
    "jupyter": {
     "outputs_hidden": true
    }
   },
   "outputs": [
    {
     "name": "stdout",
     "output_type": "stream",
     "text": [
      "Test result at episode  0 : \n",
      "Test result at episode  10 : \n",
      "Test result at episode  20 : \n",
      "Test result at episode  30 : \n",
      "Test result at episode  40 : \n",
      "Test result at episode  50 : \n",
      "Test result at episode  60 : \n",
      "Test result at episode  70 : \n",
      "Test result at episode  80 : \n",
      "Test result at episode  90 : \n",
      "Test result at episode  100 : \n",
      "Test result at episode  110 : \n",
      "Test result at episode  120 : \n",
      "Test result at episode  130 : \n",
      "Test result at episode  140 : \n",
      "Test result at episode  150 : \n",
      "Test result at episode  160 : \n",
      "Test result at episode  170 : \n",
      "Test result at episode  180 : \n",
      "Test result at episode  190 : \n",
      "Finished episode  0  with  199 ;\n",
      "cumulative reward =  -71448492.71058755\n",
      "Test result at episode  200 : \n",
      "Test result at episode  210 : \n",
      "Test result at episode  220 : \n",
      "Test result at episode  230 : \n",
      "Test result at episode  240 : \n",
      "Test result at episode  250 : \n",
      "Test result at episode  260 : \n",
      "Test result at episode  270 : \n",
      "Test result at episode  280 : \n",
      "Test result at episode  290 : \n",
      "Test result at episode  300 : \n",
      "Test result at episode  310 : \n",
      "Test result at episode  320 : \n",
      "Test result at episode  330 : \n",
      "Test result at episode  340 : \n",
      "Test result at episode  350 : \n",
      "Test result at episode  360 : \n",
      "Test result at episode  370 : \n",
      "Test result at episode  380 : \n",
      "Test result at episode  390 : \n",
      "Finished episode  0  with  199 ;\n",
      "cumulative reward =  -175493758.5615337\n",
      "Test result at episode  400 : \n",
      "Test result at episode  410 : \n",
      "Test result at episode  420 : \n",
      "Test result at episode  430 : \n",
      "Test result at episode  440 : \n",
      "Test result at episode  450 : \n",
      "Test result at episode  460 : \n",
      "Test result at episode  470 : \n",
      "Test result at episode  480 : \n",
      "Test result at episode  490 : \n",
      "Test result at episode  500 : \n",
      "Test result at episode  510 : \n",
      "Test result at episode  520 : \n",
      "Test result at episode  530 : \n",
      "Test result at episode  540 : \n",
      "Test result at episode  550 : \n",
      "Test result at episode  560 : \n",
      "Test result at episode  570 : \n",
      "Test result at episode  580 : \n",
      "Test result at episode  590 : \n",
      "Finished episode  0  with  199 ;\n",
      "cumulative reward =  -186370802.55610317\n",
      "Test result at episode  600 : \n",
      "Test result at episode  610 : \n",
      "Test result at episode  620 : \n",
      "Test result at episode  630 : \n",
      "Test result at episode  640 : \n",
      "Test result at episode  650 : \n",
      "Test result at episode  660 : \n",
      "Test result at episode  670 : \n",
      "Test result at episode  680 : \n",
      "Test result at episode  690 : \n",
      "Test result at episode  700 : \n",
      "Test result at episode  710 : \n",
      "Test result at episode  720 : \n",
      "Test result at episode  730 : \n",
      "Test result at episode  740 : \n",
      "Test result at episode  750 : \n",
      "Test result at episode  760 : \n",
      "Test result at episode  770 : \n",
      "Test result at episode  780 : \n",
      "Test result at episode  790 : \n",
      "Finished episode  0  with  199 ;\n",
      "cumulative reward =  -164986632.0785043\n",
      "Test result at episode  800 : \n",
      "Test result at episode  810 : \n",
      "Test result at episode  820 : \n",
      "Test result at episode  830 : \n",
      "Test result at episode  840 : \n",
      "Test result at episode  850 : \n",
      "Test result at episode  860 : \n",
      "Test result at episode  870 : \n",
      "Test result at episode  880 : \n",
      "Test result at episode  890 : \n",
      "Test result at episode  900 : \n",
      "Test result at episode  910 : \n",
      "Test result at episode  920 : \n",
      "Test result at episode  930 : \n",
      "Test result at episode  940 : \n",
      "Test result at episode  950 : \n",
      "Test result at episode  960 : \n",
      "Test result at episode  970 : \n",
      "Test result at episode  980 : \n",
      "Test result at episode  990 : \n",
      "Finished episode  0  with  199 ;\n",
      "cumulative reward =  -29639438.101724997\n",
      "Finished training env with 3 agents for AC\n"
     ]
    },
    {
     "data": {
      "text/plain": [
       "<Figure size 432x288 with 0 Axes>"
      ]
     },
     "metadata": {},
     "output_type": "display_data"
    }
   ],
   "source": [
    "# More training\n",
    "reward_mean_var = (torch.Tensor([-77885.03781972894]), torch.Tensor([38672.516062239236]))\n",
    "sim_fnames = ['AC2_centralizedTest__m0_N{0}'.format(N_) for N_ in N_list]\n",
    "for i,N_ in enumerate(N_list):\n",
    "    AC2_hist[i] += train(AC2_list[i], env_list[i], \n",
    "              num_episode=num_episode, test_interval=test_interval, num_test=num_test, num_iteration=num_iteration, \n",
    "              BATCH_SIZE=BATCH_SIZE, num_sample=num_sample, action_space=[-1,1], debug=debug, memory=memory_backup[i],\n",
    "              update_mode=UPDATE_PER_EPISODE, #UPDATE_PER_ITERATION,\n",
    "              reward_mode=FUTURE_REWARD_NORMALIZE,\n",
    "#               reward_mode=FUTURE_REWARD_YES,#|FUTURE_REWARD_NORMALIZE, #FUTURE_REWARD_YES_NORMALIZE, \n",
    "              loss_history=AC2_loss[i], reward_mean_var=reward_mean_var,\n",
    "              save_sim_intv=save_sim_intv, save_sim_fnames=[sim_fnames[i]], \n",
    "              imdir='screencaps/', useVid=False)\n",
    "    print(\"Finished training env with {0} agents for AC\".format(N_))\n"
   ]
  },
  {
   "cell_type": "code",
   "execution_count": 134,
   "metadata": {},
   "outputs": [
    {
     "data": {
      "image/png": "[encoded data removed]",
      "text/plain": [
       "<Figure size 864x504 with 3 Axes>"
      ]
     },
     "metadata": {
      "needs_background": "light"
     },
     "output_type": "display_data"
    }
   ],
   "source": [
    "skip=2\n",
    "plot_reward_hist([h[::skip] for h in AC2_hist], test_interval*skip, \n",
    "                 ['AC2_N{0}_h{1}'.format(N_,hidden_list[i]) for i,N_ in enumerate(N_list)], \n",
    "                 log=False, num_iteration=num_iteration, N_list=([N for N in N_list]), bar=True)"
   ]
  },
  {
   "cell_type": "code",
   "execution_count": 133,
   "metadata": {},
   "outputs": [
    {
     "data": {
      "image/png": "[encoded data removed]",
      "text/plain": [
       "<Figure size 864x504 with 2 Axes>"
      ]
     },
     "metadata": {
      "needs_background": "light"
     },
     "output_type": "display_data"
    }
   ],
   "source": [
    "skip=1\n",
    "plot_loss_hist(hists=[h[25::skip] for h in AC2_loss], \n",
    "               hist_names=['AC2_N{0}_h{1}'.format(N_,hidden_list[i]) for i,N_ in enumerate(N_list)], log=False, \n",
    "               num_iteration=num_iteration, update_mode=UPDATE_PER_ITERATION, bar=False)"
   ]
  },
  {
   "cell_type": "code",
   "execution_count": 184,
   "metadata": {},
   "outputs": [
    {
     "name": "stdout",
     "output_type": "stream",
     "text": [
      "Saving model to models/AC2Agent_AC2_centralizedTest_logreward_leaky03AC_e2000_m0_rmean-1592_rstdev645_N3\n"
     ]
    }
   ],
   "source": [
    "AC2_list[0].save_model('AC2_centralizedTest_logreward_leaky03AC_e2000_m0_rmean-1592_rstdev645_N3')"
   ]
  },
  {
   "cell_type": "code",
   "execution_count": null,
   "metadata": {},
   "outputs": [],
   "source": [
    "# reload(utils.plotting)\n",
    "# from utils.plotting import *\n",
    "plot_test(AC2_list[0], env_list[0], fnames=['AC2_centralizedTest_c01_N3'],\n",
    "        num_iteration=100, action_space=action_space, imdir='screencaps/',debug=debug, \n",
    "          not_use_rand=True)"
   ]
  },
  {
   "cell_type": "code",
   "execution_count": null,
   "metadata": {},
   "outputs": [],
   "source": [
    "# Load and test model\n",
    "env = gym.make('ConsensusEnv:CentralizedConsensusContEnv-v0', N=3, dt=0.1, Delta=0.05, #o_radius=40000,\n",
    "              input_type=input_type, observe_type=observe_type, observe_action=O_ACTION, reward_mode=DIST_REWARD,\n",
    "                 boundary_policy=SOFT_PENALTY, finish_reward_policy=REWARD_IF_CONSENSUS, \n",
    "                 uses_boundary=False\n",
    "#                  uses_boundary=True\n",
    "        ).unwrapped\n",
    "agent = AC2Agent(device, env.N, env.ns, env.na, hidden, rand_modeA=rand_mode, centralized=True,\n",
    "                 learning_rateA=0.01, learning_rateC=0.02, mode=12088)\n",
    "agent.load_model('models/AC2Agent_AC2_centralizedTest_logreward_tanhAC_m0_N3_49999')\n",
    "plot_test(agent, env, fnames=['AC2Agent_AC2_centralizedTest_logreward_tanhAC_m0_N3_49999'],\n",
    "        num_iteration=100, action_space=action_space, imdir='screencaps/',debug=debug, \n",
    "          not_use_rand=True)"
   ]
  },
  {
   "cell_type": "code",
   "execution_count": null,
   "metadata": {},
   "outputs": [],
   "source": []
  },
  {
   "cell_type": "code",
   "execution_count": 55,
   "metadata": {},
   "outputs": [
    {
     "name": "stdout",
     "output_type": "stream",
     "text": [
      "Last  layer Actor gradients after backward:  tensor(0.0001)\n",
      "Mid   layer Actor gradients after backward:  tensor(-3.1980e-05)\n",
      "Front layer Actor gradients after backward:  tensor(-0.0058)\n"
     ]
    }
   ],
   "source": [
    "print(\"Last  layer Actor gradients after backward: \", torch.mean(AC2_list[i].netA.ANlayers[0].weight.grad))\n",
    "print(\"Mid   layer Actor gradients after backward: \", torch.mean(AC2_list[i].netA.ANlayers[2].weight.grad))\n",
    "print(\"Front layer Actor gradients after backward: \", torch.mean(AC2_list[i].netA.ANlayers[4].weight.grad))"
   ]
  },
  {
   "cell_type": "code",
   "execution_count": 69,
   "metadata": {},
   "outputs": [
    {
     "data": {
      "text/plain": [
       "<matplotlib.image.AxesImage at 0x1536aa2b0>"
      ]
     },
     "execution_count": 69,
     "metadata": {},
     "output_type": "execute_result"
    },
    {
     "data": {
      "image/png": "[encoded data removed]",
      "text/plain": [
       "<Figure size 432x288 with 1 Axes>"
      ]
     },
     "metadata": {
      "needs_background": "light"
     },
     "output_type": "display_data"
    }
   ],
   "source": [
    "# Copy the code from train and test functions, and prepare to run it\n",
    "agent = AC2_list[0]\n",
    "env = env_list[0]\n",
    "steps=0\n",
    "agent.set_train(False)\n",
    "cum_reward = 0\n",
    "reward_hist = []\n",
    "\n",
    "state = env.reset()\n",
    "if agent.centralized:\n",
    "    state = env.state\n",
    "state = torch.from_numpy(state).float()\n",
    "state = Variable(state)\n",
    "\n",
    "img = env.render(mode=\"rgb_array\")\n",
    "env.close()\n",
    "plt.imshow(img)"
   ]
  },
  {
   "cell_type": "code",
   "execution_count": 123,
   "metadata": {},
   "outputs": [
    {
     "name": "stdout",
     "output_type": "stream",
     "text": [
      "Current env state: (loc in x, loc in y, vel in x, vel in y) \n",
      " [[ 0.          1.50731602  1.04863764]\n",
      " [ 0.          0.06322356 -1.01813872]\n",
      " [ 1.          0.72186428  1.        ]\n",
      " [ 1.          0.93667126  1.        ]] \n",
      " Observed state: (4x relative states, 2x self and neighbor actions, 1x time count)\n",
      " [[ 0.          1.50731602  1.04863764]\n",
      " [ 0.          0.06322356 -1.01813872]\n",
      " [ 1.          0.72186428  1.        ]\n",
      " [ 1.          0.93667126  1.        ]\n",
      " [ 0.          0.          0.        ]\n",
      " [ 0.          0.          0.        ]] \n",
      "Reward: \n",
      " -2087.9221193776953\n"
     ]
    },
    {
     "data": {
      "image/png": "[encoded data removed]",
      "text/plain": [
       "<Figure size 432x288 with 1 Axes>"
      ]
     },
     "metadata": {
      "needs_background": "light"
     },
     "output_type": "display_data"
    }
   ],
   "source": [
    "# Copy the code from train and test functions, and run it iteration by iteration\n",
    "with torch.no_grad():  \n",
    "    # Try to pick an action, react, and store the resulting behavior in the pool here\n",
    "    if agent.centralized:\n",
    "        action = agent.select_action(state, **{\n",
    "                'steps_done':steps, 'rand':False, 'num_sample':50, 'action_space':action_space\n",
    "            }).T\n",
    "    else:\n",
    "        actions = []\n",
    "        for i in range(N):\n",
    "            action = agent.select_action(state[i], **{\n",
    "                'steps_done':steps, 'rand':False, 'num_sample':50, 'action_space':action_space\n",
    "            })\n",
    "            actions.append(action)\n",
    "        action = np.array(actions).T \n",
    "\n",
    "    next_state, reward, done, _ = env.step(action.detach().numpy())\n",
    "    img = env.render(mode=\"rgb_array\")\n",
    "    env.close()\n",
    "    plt.imshow(img)\n",
    "    \n",
    "    if agent.centralized:\n",
    "        next_state = env.state\n",
    "    print(\"Current env state: (loc in x, loc in y, vel in x, vel in y) \\n\", env.state[:4], \n",
    "          \"\\n Observed state: (4x relative states, 2x self and neighbor actions, 1x time count)\\n\", next_state, \n",
    "          \"\\nReward: \\n\", reward)\n",
    "    \n",
    "    next_state = Variable(torch.from_numpy(next_state).float()) # The float() probably avoids bug in net.forward()\n",
    "    state = next_state\n",
    "    cum_reward += reward\n",
    "    reward_hist.append(reward)\n",
    "    steps += 1\n",
    "\n",
    "    if done:\n",
    "        print(\"Took \", steps, \" steps to converge\")\n",
    "        "
   ]
  },
  {
   "cell_type": "code",
   "execution_count": 85,
   "metadata": {},
   "outputs": [
    {
     "data": {
      "text/plain": [
       "array([[0., 0., 0.],\n",
       "       [0., 0., 0.],\n",
       "       [0., 0., 0.]])"
      ]
     },
     "execution_count": 85,
     "metadata": {},
     "output_type": "execute_result"
    }
   ],
   "source": [
    "env.Adj"
   ]
  },
  {
   "cell_type": "code",
   "execution_count": 124,
   "metadata": {},
   "outputs": [
    {
     "data": {
      "text/plain": [
       "array([[0.        , 0.91974132, 0.90080776],\n",
       "       [0.91974132, 0.        , 0.77685356],\n",
       "       [0.90080776, 0.77685356, 0.        ]])"
      ]
     },
     "execution_count": 124,
     "metadata": {},
     "output_type": "execute_result"
    }
   ],
   "source": [
    "diff = env.state.T.reshape((env.N,env.ns,1)) - env.state.reshape((1,env.ns,env.N))\n",
    "diff_norm = np.log(np.linalg.norm(diff[:,:2,:], ord=2, axis=1)+1)\n",
    "diff_norm"
   ]
  },
  {
   "cell_type": "code",
   "execution_count": 125,
   "metadata": {},
   "outputs": [
    {
     "data": {
      "text/plain": [
       "2077.9221193776953"
      ]
     },
     "execution_count": 125,
     "metadata": {},
     "output_type": "execute_result"
    }
   ],
   "source": [
    "np.sum(diff_norm)*400"
   ]
  },
  {
   "cell_type": "code",
   "execution_count": 126,
   "metadata": {},
   "outputs": [
    {
     "data": {
      "text/plain": [
       "array([1., 1., 0.])"
      ]
     },
     "execution_count": 126,
     "metadata": {},
     "output_type": "execute_result"
    }
   ],
   "source": [
    "env.is_in_bound(env.state)"
   ]
  },
  {
   "cell_type": "code",
   "execution_count": 127,
   "metadata": {},
   "outputs": [
    {
     "data": {
      "text/plain": [
       "array([  0.,   0., -10.])"
      ]
     },
     "execution_count": 127,
     "metadata": {},
     "output_type": "execute_result"
    }
   ],
   "source": [
    "(env.is_in_bound(env.state)-1)*env.oob_reward"
   ]
  },
  {
   "cell_type": "code",
   "execution_count": 56,
   "metadata": {},
   "outputs": [
    {
     "data": {
      "text/plain": [
       "tensor([[-1.0000,  0.3650, -1.0000],\n",
       "        [ 0.5377,  0.5911, -0.0306]])"
      ]
     },
     "execution_count": 56,
     "metadata": {},
     "output_type": "execute_result"
    }
   ],
   "source": [
    "action"
   ]
  },
  {
   "cell_type": "code",
   "execution_count": 121,
   "metadata": {},
   "outputs": [
    {
     "data": {
      "text/plain": [
       "array([[ 0.        ,  1.53512959,  1.04863764],\n",
       "       [ 0.        ,  0.06955644, -1.01813872],\n",
       "       [ 0.41126812,  1.        ,  1.        ],\n",
       "       [ 1.        ,  0.71092165,  0.23066694],\n",
       "       [ 0.        ,  0.        ,  0.        ],\n",
       "       [ 0.        ,  0.        ,  0.        ]])"
      ]
     },
     "execution_count": 121,
     "metadata": {},
     "output_type": "execute_result"
    }
   ],
   "source": [
    "env.state"
   ]
  },
  {
   "cell_type": "code",
   "execution_count": 122,
   "metadata": {},
   "outputs": [
    {
     "data": {
      "text/plain": [
       "array([[ 0.        ,  1.59400278,  1.10751083],\n",
       "       [ 0.        ,  0.0406486 , -1.09507203]])"
      ]
     },
     "execution_count": 122,
     "metadata": {},
     "output_type": "execute_result"
    }
   ],
   "source": [
    "est = env.state[:2] + env.state[2:4]*0.1\n",
    "offset = est[:2,[0]]\n",
    "est - offset"
   ]
  },
  {
   "cell_type": "code",
   "execution_count": 89,
   "metadata": {},
   "outputs": [
    {
     "data": {
      "text/plain": [
       "1"
      ]
     },
     "execution_count": 89,
     "metadata": {},
     "output_type": "execute_result"
    }
   ],
   "source": [
    "env.reward_mode"
   ]
  },
  {
   "cell_type": "code",
   "execution_count": 73,
   "metadata": {
    "collapsed": true,
    "jupyter": {
     "outputs_hidden": true,
     "source_hidden": true
    }
   },
   "outputs": [
    {
     "data": {
      "text/plain": [
       "(array([[0., 0., 0., 0., 0.],\n",
       "        [0., 0., 8., 0., 0.],\n",
       "        [0., 0., 0., 0., 0.],\n",
       "        [0., 0., 1., 0., 0.]]), array([[0., 0., 0., 0., 0.],\n",
       "        [0., 0., 8., 0., 0.],\n",
       "        [0., 0., 0., 0., 0.],\n",
       "        [0., 0., 1., 0., 0.]]))"
      ]
     },
     "execution_count": 73,
     "metadata": {},
     "output_type": "execute_result"
    }
   ],
   "source": [
    "aa = np.zeros((4,5))\n",
    "bb = aa\n",
    "bb[3,2] = 1\n",
    "aa = bb\n",
    "aa[1,2] += 8\n",
    "aa,bb"
   ]
  },
  {
   "cell_type": "code",
   "execution_count": 95,
   "metadata": {
    "collapsed": true,
    "jupyter": {
     "outputs_hidden": true,
     "source_hidden": true
    }
   },
   "outputs": [
    {
     "data": {
      "text/plain": [
       "tensor([[ 0.7810, -1.2545]])"
      ]
     },
     "execution_count": 95,
     "metadata": {},
     "output_type": "execute_result"
    }
   ],
   "source": [
    "act_params = agent.netA(Variable(next_state[1].view(1, -1, N)))\n",
    "print(act_params)\n",
    "pred_action = torch.zeros(1,agent.na)\n",
    "pred_probs = torch.zeros(1)\n",
    "\n",
    "distrb = torch.distributions.Normal(\n",
    "    act_params[:,:agent.na],\n",
    "    torch.diag( nn.functional.softplus( act_params[:,agent.na:] ) )\n",
    ")\n",
    "aa = distrb.sample()\n",
    "aa"
   ]
  },
  {
   "cell_type": "code",
   "execution_count": 96,
   "metadata": {},
   "outputs": [
    {
     "data": {
      "text/plain": [
       "(tensor([[ 0.7810, -1.0000]]),\n",
       " tensor([[-1.2054, -1.1915]], grad_fn=<SubBackward0>))"
      ]
     },
     "execution_count": 96,
     "metadata": {},
     "output_type": "execute_result"
    }
   ],
   "source": [
    "pred_action = torch.clamp( aa, agent.action_range[0], agent.action_range[1] )\n",
    "pred_probs = distrb.log_prob(pred_action)\n",
    "pred_action, pred_probs"
   ]
  },
  {
   "cell_type": "code",
   "execution_count": 90,
   "metadata": {},
   "outputs": [
    {
     "data": {
      "text/plain": [
       "tensor([[1.3133, 1.3133]], grad_fn=<SoftplusBackward>)"
      ]
     },
     "execution_count": 90,
     "metadata": {},
     "output_type": "execute_result"
    }
   ],
   "source": [
    "nn.functional.softplus( act_params[:,agent.na:] )"
   ]
  },
  {
   "cell_type": "code",
   "execution_count": 91,
   "metadata": {},
   "outputs": [
    {
     "data": {
      "text/plain": [
       "tensor([[-0.4820, -2.4129]])"
      ]
     },
     "execution_count": 91,
     "metadata": {},
     "output_type": "execute_result"
    }
   ],
   "source": [
    "aa = distrb.sample()\n",
    "aa"
   ]
  },
  {
   "cell_type": "code",
   "execution_count": 92,
   "metadata": {},
   "outputs": [
    {
     "data": {
      "text/plain": [
       "tensor([[-0.4820, -1.0000]])"
      ]
     },
     "execution_count": 92,
     "metadata": {},
     "output_type": "execute_result"
    }
   ],
   "source": [
    "torch.clamp( aa, agent.action_range[0], agent.action_range[1] )"
   ]
  },
  {
   "cell_type": "code",
   "execution_count": 102,
   "metadata": {},
   "outputs": [
    {
     "data": {
      "text/plain": [
       "2"
      ]
     },
     "execution_count": 102,
     "metadata": {},
     "output_type": "execute_result"
    }
   ],
   "source": [
    "agent.rand_modeA"
   ]
  },
  {
   "cell_type": "code",
   "execution_count": 6,
   "metadata": {},
   "outputs": [
    {
     "data": {
      "text/plain": [
       "array([[[1., 1., 1.]],\n",
       "\n",
       "       [[1., 1., 1.]],\n",
       "\n",
       "       [[1., 1., 1.]]])"
      ]
     },
     "execution_count": 6,
     "metadata": {},
     "output_type": "execute_result"
    }
   ],
   "source": [
    "np.ones((env_list[0].N,1,env_list[0].N))"
   ]
  },
  {
   "cell_type": "code",
   "execution_count": 11,
   "metadata": {},
   "outputs": [
    {
     "ename": "TypeError",
     "evalue": "data type not understood",
     "output_type": "error",
     "traceback": [
      "\u001b[0;31m---------------------------------------------------------------------------\u001b[0m",
      "\u001b[0;31mTypeError\u001b[0m                                 Traceback (most recent call last)",
      "\u001b[0;32m<ipython-input-11-1277453c8a9e>\u001b[0m in \u001b[0;36m<module>\u001b[0;34m\u001b[0m\n\u001b[0;32m----> 1\u001b[0;31m \u001b[0menv_list\u001b[0m\u001b[0;34m[\u001b[0m\u001b[0;36m0\u001b[0m\u001b[0;34m]\u001b[0m\u001b[0;34m.\u001b[0m\u001b[0mfilter_neighbor_actions\u001b[0m\u001b[0;34m(\u001b[0m\u001b[0mnp\u001b[0m\u001b[0;34m.\u001b[0m\u001b[0mzeros\u001b[0m\u001b[0;34m(\u001b[0m\u001b[0;34m(\u001b[0m\u001b[0;36m2\u001b[0m\u001b[0;34m,\u001b[0m\u001b[0;36m3\u001b[0m\u001b[0;34m)\u001b[0m\u001b[0;34m)\u001b[0m\u001b[0;34m)\u001b[0m\u001b[0;34m\u001b[0m\u001b[0m\n\u001b[0m",
      "\u001b[0;32m~/Documents/GT 20F/7000/GNN_experiments/ConsensusEnv/ConsensusEnv/envs/ConsensusContEnv.py\u001b[0m in \u001b[0;36mfilter_neighbor_actions\u001b[0;34m(self, action)\u001b[0m\n\u001b[1;32m    487\u001b[0m         \u001b[0;31m# self.Adj has shape (N,N). Need to add diagonal 1s because agent should be able to see its own actions.\u001b[0m\u001b[0;34m\u001b[0m\u001b[0;34m\u001b[0m\u001b[0m\n\u001b[1;32m    488\u001b[0m         \u001b[0;31m### TODO: Check if this multiplication makes sense. Should it be a matmul??\u001b[0m\u001b[0;34m\u001b[0m\u001b[0;34m\u001b[0m\u001b[0m\n\u001b[0;32m--> 489\u001b[0;31m         \u001b[0;32mreturn\u001b[0m \u001b[0mnp\u001b[0m\u001b[0;34m.\u001b[0m\u001b[0mones\u001b[0m\u001b[0;34m(\u001b[0m \u001b[0mshape\u001b[0m\u001b[0;34m=\u001b[0m\u001b[0;34m(\u001b[0m\u001b[0mself\u001b[0m\u001b[0;34m.\u001b[0m\u001b[0mN\u001b[0m\u001b[0;34m,\u001b[0m \u001b[0;36m1\u001b[0m\u001b[0;34m,\u001b[0m \u001b[0mself\u001b[0m\u001b[0;34m.\u001b[0m\u001b[0mN\u001b[0m\u001b[0;34m)\u001b[0m\u001b[0;34m,\u001b[0m \u001b[0mdtype\u001b[0m\u001b[0;34m=\u001b[0m\u001b[0mfloat\u001b[0m \u001b[0;34m)\u001b[0m \u001b[0;34m*\u001b[0m \u001b[0maction\u001b[0m\u001b[0;34m\u001b[0m\u001b[0m\n\u001b[0m",
      "\u001b[0;32m/Library/Frameworks/Python.framework/Versions/3.6/lib/python3.6/site-packages/numpy/core/numeric.py\u001b[0m in \u001b[0;36mones\u001b[0;34m(shape, dtype, order)\u001b[0m\n\u001b[1;32m    205\u001b[0m \u001b[0;34m\u001b[0m\u001b[0m\n\u001b[1;32m    206\u001b[0m     \"\"\"\n\u001b[0;32m--> 207\u001b[0;31m     \u001b[0ma\u001b[0m \u001b[0;34m=\u001b[0m \u001b[0mempty\u001b[0m\u001b[0;34m(\u001b[0m\u001b[0mshape\u001b[0m\u001b[0;34m,\u001b[0m \u001b[0mdtype\u001b[0m\u001b[0;34m,\u001b[0m \u001b[0morder\u001b[0m\u001b[0;34m)\u001b[0m\u001b[0;34m\u001b[0m\u001b[0m\n\u001b[0m\u001b[1;32m    208\u001b[0m     \u001b[0mmultiarray\u001b[0m\u001b[0;34m.\u001b[0m\u001b[0mcopyto\u001b[0m\u001b[0;34m(\u001b[0m\u001b[0ma\u001b[0m\u001b[0;34m,\u001b[0m \u001b[0;36m1\u001b[0m\u001b[0;34m,\u001b[0m \u001b[0mcasting\u001b[0m\u001b[0;34m=\u001b[0m\u001b[0;34m'unsafe'\u001b[0m\u001b[0;34m)\u001b[0m\u001b[0;34m\u001b[0m\u001b[0m\n\u001b[1;32m    209\u001b[0m     \u001b[0;32mreturn\u001b[0m \u001b[0ma\u001b[0m\u001b[0;34m\u001b[0m\u001b[0m\n",
      "\u001b[0;31mTypeError\u001b[0m: data type not understood"
     ]
    }
   ],
   "source": [
    "env_list[0].filter_neighbor_actions(np.zeros((2,3)))"
   ]
  },
  {
   "cell_type": "code",
   "execution_count": 136,
   "metadata": {},
   "outputs": [
    {
     "data": {
      "text/plain": [
       "[Transition(state=tensor([[  0.0000,  -0.4797,  -6.2901],\n",
       "         [  0.0000, -35.3566,   0.0634],\n",
       "         [  0.9411,   1.0000,   0.2920],\n",
       "         [  1.0000,  -1.0000,   0.9325],\n",
       "         [  0.0000,   0.0000,   0.0000],\n",
       "         [  0.0000,   0.0000,   0.0000]]), action=array([[ 1.       ,  1.       ],\n",
       "        [ 1.       , -1.       ],\n",
       "        [-0.6322727,  1.       ]], dtype=float32), next_state=tensor([[  0.0000,  -0.4797,  -6.4533],\n",
       "         [  0.0000, -35.5566,   0.0634],\n",
       "         [  1.0000,   1.0000,  -0.6323],\n",
       "         [  1.0000,  -1.0000,   1.0000],\n",
       "         [  0.0000,   0.0000,   0.0000],\n",
       "         [  0.0000,   0.0000,   0.0000]]), reward=tensor(-37.4956, dtype=torch.float64)),\n",
       " Transition(state=tensor([[  0.0000,  -0.4856,  -6.2252],\n",
       "         [  0.0000, -35.1566,   0.0702],\n",
       "         [  1.0000,   0.2098,  -0.3413],\n",
       "         [  0.9337,  -1.0000,   0.6256],\n",
       "         [  0.0000,   0.0000,   0.0000],\n",
       "         [  0.0000,   0.0000,   0.0000]]), action=array([[ 0.9410733 ,  1.        ],\n",
       "        [ 1.        , -1.        ],\n",
       "        [ 0.29197752,  0.93248427]], dtype=float32), next_state=tensor([[  0.0000,  -0.4797,  -6.2901],\n",
       "         [  0.0000, -35.3566,   0.0634],\n",
       "         [  0.9411,   1.0000,   0.2920],\n",
       "         [  1.0000,  -1.0000,   0.9325],\n",
       "         [  0.0000,   0.0000,   0.0000],\n",
       "         [  0.0000,   0.0000,   0.0000]]), reward=tensor(-37.0339, dtype=torch.float64)),\n",
       " Transition(state=tensor([[ 0.0000e+00, -4.0657e-01, -6.0911e+00],\n",
       "         [ 0.0000e+00, -3.4963e+01,  1.0100e-01],\n",
       "         [ 1.0000e+00,  9.6274e-01, -4.1577e-03],\n",
       "         [ 6.7361e-01, -1.0000e+00,  8.3494e-01],\n",
       "         [ 0.0000e+00,  0.0000e+00,  0.0000e+00],\n",
       "         [ 0.0000e+00,  0.0000e+00,  0.0000e+00]]), action=array([[ 1.        ,  0.93372536],\n",
       "        [ 0.20979911, -1.        ],\n",
       "        [-0.3413142 ,  0.6256011 ]], dtype=float32), next_state=tensor([[  0.0000,  -0.4856,  -6.2252],\n",
       "         [  0.0000, -35.1566,   0.0702],\n",
       "         [  1.0000,   0.2098,  -0.3413],\n",
       "         [  0.9337,  -1.0000,   0.6256],\n",
       "         [  0.0000,   0.0000,   0.0000],\n",
       "         [  0.0000,   0.0000,   0.0000]]), reward=tensor(-36.6187, dtype=torch.float64)),\n",
       " Transition(state=tensor([[  0.0000,  -0.4028,  -5.9907],\n",
       "         [  0.0000, -34.7959,   0.0849],\n",
       "         [  0.7336,   0.5961,  -0.0761],\n",
       "         [  0.6531,  -1.0000,   1.0000],\n",
       "         [  0.0000,   0.0000,   0.0000],\n",
       "         [  0.0000,   0.0000,   0.0000]]), action=array([[ 1.        ,  0.6736107 ],\n",
       "        [ 0.96274495, -1.        ],\n",
       "        [-0.00415766,  0.83493507]], dtype=float32), next_state=tensor([[ 0.0000e+00, -4.0657e-01, -6.0911e+00],\n",
       "         [ 0.0000e+00, -3.4963e+01,  1.0100e-01],\n",
       "         [ 1.0000e+00,  9.6274e-01, -4.1577e-03],\n",
       "         [ 6.7361e-01, -1.0000e+00,  8.3494e-01],\n",
       "         [ 0.0000e+00,  0.0000e+00,  0.0000e+00],\n",
       "         [ 0.0000e+00,  0.0000e+00,  0.0000e+00]]), reward=tensor(-36.2291, dtype=torch.float64)),\n",
       " Transition(state=tensor([[  0.0000,  -0.3891,  -5.9097],\n",
       "         [  0.0000, -34.6305,   0.0502],\n",
       "         [  0.5478,   0.9624,   0.5900],\n",
       "         [  0.7209,  -1.0000,   0.6848],\n",
       "         [  0.0000,   0.0000,   0.0000],\n",
       "         [  0.0000,   0.0000,   0.0000]]), action=array([[ 0.73359585,  0.65312177],\n",
       "        [ 0.59612775, -1.        ],\n",
       "        [-0.07607222,  1.        ]], dtype=float32), next_state=tensor([[  0.0000,  -0.4028,  -5.9907],\n",
       "         [  0.0000, -34.7959,   0.0849],\n",
       "         [  0.7336,   0.5961,  -0.0761],\n",
       "         [  0.6531,  -1.0000,   1.0000],\n",
       "         [  0.0000,   0.0000,   0.0000],\n",
       "         [  0.0000,   0.0000,   0.0000]]), reward=tensor(-35.8480, dtype=torch.float64)),\n",
       " Transition(state=tensor([[  0.0000,  -0.4306,  -5.9139],\n",
       "         [  0.0000, -34.4585,   0.0538],\n",
       "         [  1.0000,   0.9339,   1.0000],\n",
       "         [  0.6205,  -0.8950,   1.0000],\n",
       "         [  0.0000,   0.0000,   0.0000],\n",
       "         [  0.0000,   0.0000,   0.0000]]), action=array([[ 0.54778576,  0.72089195],\n",
       "        [ 0.9624414 , -1.        ],\n",
       "        [ 0.5899693 ,  0.6848024 ]], dtype=float32), next_state=tensor([[  0.0000,  -0.3891,  -5.9097],\n",
       "         [  0.0000, -34.6305,   0.0502],\n",
       "         [  0.5478,   0.9624,   0.5900],\n",
       "         [  0.7209,  -1.0000,   0.6848],\n",
       "         [  0.0000,   0.0000,   0.0000],\n",
       "         [  0.0000,   0.0000,   0.0000]]), reward=tensor(-35.4635, dtype=torch.float64)),\n",
       " Transition(state=tensor([[ 0.0000e+00, -4.2395e-01, -5.9139e+00],\n",
       "         [ 0.0000e+00, -3.4307e+01,  1.5836e-02],\n",
       "         [ 1.0000e+00,  9.3172e-01,  1.0000e+00],\n",
       "         [ 1.0000e+00, -6.9290e-01,  5.4394e-01],\n",
       "         [ 0.0000e+00,  0.0000e+00,  0.0000e+00],\n",
       "         [ 0.0000e+00,  0.0000e+00,  0.0000e+00]]), action=array([[ 1.        ,  0.62047577],\n",
       "        [ 0.9338807 , -0.89502954],\n",
       "        [ 1.        ,  1.        ]], dtype=float32), next_state=tensor([[  0.0000,  -0.4306,  -5.9139],\n",
       "         [  0.0000, -34.4585,   0.0538],\n",
       "         [  1.0000,   0.9339,   1.0000],\n",
       "         [  0.6205,  -0.8950,   1.0000],\n",
       "         [  0.0000,   0.0000,   0.0000],\n",
       "         [  0.0000,   0.0000,   0.0000]]), reward=tensor(-35.1283, dtype=torch.float64)),\n",
       " Transition(state=tensor([[  0.0000,  -0.4171,  -5.9139],\n",
       "         [  0.0000, -34.1376,   0.0614],\n",
       "         [  0.8190,   1.0000,   1.0000],\n",
       "         [  1.0000,  -0.8728,   1.0000],\n",
       "         [  0.0000,   0.0000,   0.0000],\n",
       "         [  0.0000,   0.0000,   0.0000]]), action=array([[ 1.        ,  1.        ],\n",
       "        [ 0.9317238 , -0.6929045 ],\n",
       "        [ 1.        ,  0.54394233]], dtype=float32), next_state=tensor([[ 0.0000e+00, -4.2395e-01, -5.9139e+00],\n",
       "         [ 0.0000e+00, -3.4307e+01,  1.5836e-02],\n",
       "         [ 1.0000e+00,  9.3172e-01,  1.0000e+00],\n",
       "         [ 1.0000e+00, -6.9290e-01,  5.4394e-01],\n",
       "         [ 0.0000e+00,  0.0000e+00,  0.0000e+00],\n",
       "         [ 0.0000e+00,  0.0000e+00,  0.0000e+00]]), reward=tensor(-34.7994, dtype=torch.float64)),\n",
       " Transition(state=tensor([[  0.0000,  -0.4352,  -5.9320],\n",
       "         [  0.0000, -33.9503,   0.0614],\n",
       "         [  0.8701,   0.8906,  -1.0000],\n",
       "         [  1.0000,  -0.9050,   1.0000],\n",
       "         [  0.0000,   0.0000,   0.0000],\n",
       "         [  0.0000,   0.0000,   0.0000]]), action=array([[ 0.8189573,  1.       ],\n",
       "        [ 1.       , -0.87276  ],\n",
       "        [ 1.       ,  1.       ]], dtype=float32), next_state=tensor([[  0.0000,  -0.4171,  -5.9139],\n",
       "         [  0.0000, -34.1376,   0.0614],\n",
       "         [  0.8190,   1.0000,   1.0000],\n",
       "         [  1.0000,  -0.8728,   1.0000],\n",
       "         [  0.0000,   0.0000,   0.0000],\n",
       "         [  0.0000,   0.0000,   0.0000]]), reward=tensor(-34.5183, dtype=torch.float64)),\n",
       " Transition(state=tensor([[  0.0000,  -0.4373,  -5.7450],\n",
       "         [  0.0000, -33.7598,   0.0614],\n",
       "         [  1.0000,   0.9042,   0.9620],\n",
       "         [  1.0000,  -1.0000,   0.7509],\n",
       "         [  0.0000,   0.0000,   0.0000],\n",
       "         [  0.0000,   0.0000,   0.0000]]), action=array([[ 0.8701058 ,  1.        ],\n",
       "        [ 0.8906409 , -0.90504783],\n",
       "        [-1.        ,  1.        ]], dtype=float32), next_state=tensor([[  0.0000,  -0.4352,  -5.9320],\n",
       "         [  0.0000, -33.9503,   0.0614],\n",
       "         [  0.8701,   0.8906,  -1.0000],\n",
       "         [  1.0000,  -0.9050,   1.0000],\n",
       "         [  0.0000,   0.0000,   0.0000],\n",
       "         [  0.0000,   0.0000,   0.0000]]), reward=tensor(-34.1634, dtype=torch.float64))]"
      ]
     },
     "execution_count": 136,
     "metadata": {},
     "output_type": "execute_result"
    }
   ],
   "source": [
    "memory_backup[0].memory[0:10]"
   ]
  },
  {
   "cell_type": "code",
   "execution_count": 11,
   "metadata": {},
   "outputs": [],
   "source": [
    "newstuff = env_list[0].reset()"
   ]
  },
  {
   "cell_type": "code",
   "execution_count": 94,
   "metadata": {},
   "outputs": [
    {
     "data": {
      "text/plain": [
       "0"
      ]
     },
     "execution_count": 94,
     "metadata": {},
     "output_type": "execute_result"
    }
   ],
   "source": [
    "len(torch.tensor([]))"
   ]
  },
  {
   "cell_type": "code",
   "execution_count": 18,
   "metadata": {},
   "outputs": [],
   "source": [
    "aaa = np.arange(15).reshape((3,1,5))\n",
    "ttt = torch.from_numpy(aaa)"
   ]
  },
  {
   "cell_type": "code",
   "execution_count": 7,
   "metadata": {},
   "outputs": [
    {
     "data": {
      "text/plain": [
       "True"
      ]
     },
     "execution_count": 7,
     "metadata": {},
     "output_type": "execute_result"
    }
   ],
   "source": [
    "torch.is_tensor(ttt)"
   ]
  },
  {
   "cell_type": "code",
   "execution_count": 13,
   "metadata": {},
   "outputs": [
    {
     "data": {
      "text/plain": [
       "torch.Size([5, 1, 3])"
      ]
     },
     "execution_count": 13,
     "metadata": {},
     "output_type": "execute_result"
    }
   ],
   "source": [
    "ttt.T.shape"
   ]
  },
  {
   "cell_type": "code",
   "execution_count": 15,
   "metadata": {},
   "outputs": [
    {
     "data": {
      "text/plain": [
       "tensor([[[ 0,  1,  2,  3,  4]],\n",
       "\n",
       "        [[ 5,  6,  7,  8,  9]],\n",
       "\n",
       "        [[10, 11, 12, 13, 14]],\n",
       "\n",
       "        [[ 0,  1,  2,  3,  4]],\n",
       "\n",
       "        [[ 5,  6,  7,  8,  9]],\n",
       "\n",
       "        [[10, 11, 12, 13, 14]],\n",
       "\n",
       "        [[ 0,  1,  2,  3,  4]],\n",
       "\n",
       "        [[ 5,  6,  7,  8,  9]],\n",
       "\n",
       "        [[10, 11, 12, 13, 14]],\n",
       "\n",
       "        [[ 0,  1,  2,  3,  4]],\n",
       "\n",
       "        [[ 5,  6,  7,  8,  9]],\n",
       "\n",
       "        [[10, 11, 12, 13, 14]]])"
      ]
     },
     "execution_count": 15,
     "metadata": {},
     "output_type": "execute_result"
    }
   ],
   "source": [
    "ttl = [ttt,ttt,ttt,ttt]\n",
    "torch.cat(ttl)"
   ]
  },
  {
   "cell_type": "code",
   "execution_count": 24,
   "metadata": {},
   "outputs": [
    {
     "data": {
      "text/plain": [
       "(tensor(1234.), tensor(nan))"
      ]
     },
     "execution_count": 24,
     "metadata": {},
     "output_type": "execute_result"
    }
   ],
   "source": [
    "ttl = torch.Tensor([1234])\n",
    "ttl.mean() , ttl.std()"
   ]
  },
  {
   "cell_type": "code",
   "execution_count": null,
   "metadata": {},
   "outputs": [],
   "source": []
  }
 ],
 "metadata": {
  "kernelspec": {
   "display_name": "Python 3",
   "language": "python",
   "name": "python3"
  },
  "language_info": {
   "codemirror_mode": {
    "name": "ipython",
    "version": 3
   },
   "file_extension": ".py",
   "mimetype": "text/x-python",
   "name": "python",
   "nbconvert_exporter": "python",
   "pygments_lexer": "ipython3",
   "version": "3.6.2"
  }
 },
 "nbformat": 4,
 "nbformat_minor": 4
}
