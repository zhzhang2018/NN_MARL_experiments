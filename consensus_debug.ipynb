{
 "cells": [
  {
   "cell_type": "markdown",
   "metadata": {},
   "source": [
    "### Debug environment for the MARL process"
   ]
  },
  {
   "cell_type": "code",
   "execution_count": 1,
   "metadata": {},
   "outputs": [],
   "source": [
    "%matplotlib inline\n",
    "import gym\n",
    "import math\n",
    "import random\n",
    "import numpy as np\n",
    "import matplotlib\n",
    "import matplotlib.pyplot as plt\n",
    "from collections import namedtuple\n",
    "from itertools import count\n",
    "from PIL import Image\n",
    "\n",
    "import torch\n",
    "import torch.nn as nn\n",
    "import torch.optim as optim\n",
    "import torch.nn.functional as F\n",
    "import torchvision.transforms as T\n",
    "from torch.autograd import Variable\n",
    "\n",
    "# set up matplotlib\n",
    "is_ipython = 'inline' in matplotlib.get_backend()\n",
    "if is_ipython:\n",
    "    from IPython import display\n",
    "\n",
    "plt.ion()\n",
    "\n",
    "# if gpu is to be used\n",
    "device = torch.device(\"cuda\" if torch.cuda.is_available() else \"cpu\")\n",
    "\n",
    "from utils.ReplayMemory import * \n",
    "from utils.networks import *\n",
    "from utils.agents import *\n",
    "from utils.plotting import *\n",
    "from utils.train_test_methods import *\n",
    "from utils.params import *\n",
    "from utils.retrieve_sim import *\n",
    "\n",
    "from importlib import reload\n",
    "import utils\n",
    "\n",
    "input_type = U_VELOCITY\n",
    "observe_type = O_VELOCITY\n",
    "observe_action = O_ACTION\n",
    "reward_mode=ALL_REWARD\n",
    "\n",
    "import os\n",
    "try:\n",
    "    os.mkdir('screencaps')\n",
    "except:\n",
    "    pass\n"
   ]
  },
  {
   "cell_type": "code",
   "execution_count": 103,
   "metadata": {},
   "outputs": [
    {
     "name": "stdout",
     "output_type": "stream",
     "text": [
      "Loading model from models/AC2Agent_AC2_dist_reward_posGauss_fixed0_m1208_soft_bound_cumu_posReward_N2_749\n"
     ]
    }
   ],
   "source": [
    "# Load the model and make the right environment\n",
    "reload(utils.agents)\n",
    "from utils.agents import *\n",
    "num_episode=500#250#500\n",
    "test_interval=10#0\n",
    "num_test=10#50\n",
    "num_iteration=200\n",
    "BATCH_SIZE=128#64#128\n",
    "save_sim_intv=50\n",
    "debug=False\n",
    "num_sample=50\n",
    "seed=22222\n",
    "hidden=32\n",
    "action_space=[-1,1]\n",
    "\n",
    "# rand_mode = NO_RAND\n",
    "rand_mode = GAUSS_RAND\n",
    "N = 2\n",
    "env = gym.make('ConsensusEnv:ConsensusContEnv-v0', N=N, dt=0.1, Delta=0.05, #o_radius=40000,\n",
    "              input_type=input_type, observe_type=observe_type, observe_action=O_ACTION, reward_mode=DIST_REWARD,\n",
    "                 boundary_policy=SOFT_PENALTY, finish_reward_policy=REWARD_IF_CONSENSUS, \n",
    "                 uses_boundary=False\n",
    "#                  uses_boundary=True\n",
    "        ).unwrapped\n",
    "agent = AC2Agent(device, env.N, env.nf, env.na, hidden, rand_modeA=rand_mode,\n",
    "                 learning_rateA=0.01, learning_rateC=0.02, mode=1208)\n",
    "agent.load_model('models/AC2Agent_AC2_dist_reward_posGauss_fixed0_m1208_soft_bound_cumu_posReward_N2_749')\n",
    "steps = 0"
   ]
  },
  {
   "cell_type": "code",
   "execution_count": 104,
   "metadata": {},
   "outputs": [
    {
     "data": {
      "text/plain": [
       "<matplotlib.image.AxesImage at 0x1609e6c18>"
      ]
     },
     "execution_count": 104,
     "metadata": {},
     "output_type": "execute_result"
    },
    {
     "data": {
      "image/png": "[encoded data removed]",
      "text/plain": [
       "<Figure size 432x288 with 1 Axes>"
      ]
     },
     "metadata": {
      "needs_background": "light"
     },
     "output_type": "display_data"
    }
   ],
   "source": [
    "# Copy the code from train and test functions, and prepare to run it\n",
    "agent.set_train(False)\n",
    "cum_reward = 0\n",
    "reward_hist = []\n",
    "\n",
    "state = env.reset()\n",
    "if agent.centralized:\n",
    "    state = env.state\n",
    "state = torch.from_numpy(state).float()\n",
    "state = Variable(state)\n",
    "\n",
    "img = env.render(mode=\"rgb_array\")\n",
    "env.close()\n",
    "plt.imshow(img)"
   ]
  },
  {
   "cell_type": "code",
   "execution_count": 105,
   "metadata": {},
   "outputs": [
    {
     "name": "stdout",
     "output_type": "stream",
     "text": [
      "Current env state: (loc in x, loc in y, vel in x, vel in y) \n",
      " [[ 0.          0.17738344]\n",
      " [ 0.         -0.15457512]\n",
      " [ 0.99999988  0.99999988]\n",
      " [-0.99999982 -0.99999988]] \n",
      " Observed state: (4x relative states, 2x self and neighbor actions, 1x time count)\n",
      " [[[ 0.00000000e+00 -1.77383442e-01]\n",
      "  [ 0.00000000e+00  1.54575116e-01]\n",
      "  [ 0.00000000e+00  0.00000000e+00]\n",
      "  [ 0.00000000e+00  5.96046448e-08]\n",
      "  [ 9.99999881e-01  9.99999881e-01]\n",
      "  [-9.99999821e-01 -9.99999881e-01]\n",
      "  [ 0.00000000e+00  0.00000000e+00]]\n",
      "\n",
      " [[ 1.77383442e-01  0.00000000e+00]\n",
      "  [-1.54575116e-01  0.00000000e+00]\n",
      "  [ 0.00000000e+00  0.00000000e+00]\n",
      "  [-5.96046448e-08  0.00000000e+00]\n",
      "  [ 9.99999881e-01  9.99999881e-01]\n",
      "  [-9.99999821e-01 -9.99999881e-01]\n",
      "  [ 0.00000000e+00  0.00000000e+00]]] \n",
      "Reward: \n",
      " [-94.1134224 -94.1134224]\n"
     ]
    },
    {
     "data": {
      "image/png": "[encoded data removed]",
      "text/plain": [
       "<Figure size 432x288 with 1 Axes>"
      ]
     },
     "metadata": {
      "needs_background": "light"
     },
     "output_type": "display_data"
    }
   ],
   "source": [
    "# Copy the code from train and test functions, and run it iteration by iteration\n",
    "with torch.no_grad():  \n",
    "    # Try to pick an action, react, and store the resulting behavior in the pool here\n",
    "    if agent.centralized:\n",
    "        action = agent.select_action(state, **{\n",
    "                'steps_done':steps, 'rand':False, 'num_sample':50, 'action_space':action_space\n",
    "            }).T\n",
    "    else:\n",
    "        actions = []\n",
    "        for i in range(N):\n",
    "            action = agent.select_action(state[i], **{\n",
    "                'steps_done':steps, 'rand':False, 'num_sample':50, 'action_space':action_space\n",
    "            })\n",
    "            actions.append(action)\n",
    "        action = np.array(actions).T \n",
    "\n",
    "    next_state, reward, done, _ = env.step(action)\n",
    "    img = env.render(mode=\"rgb_array\")\n",
    "    env.close()\n",
    "    plt.imshow(img)\n",
    "    \n",
    "    if agent.centralized:\n",
    "        next_state = env.state\n",
    "    print(\"Current env state: (loc in x, loc in y, vel in x, vel in y) \\n\", env.state[:4], \n",
    "          \"\\n Observed state: (4x relative states, 2x self and neighbor actions, 1x time count)\\n\", next_state, \n",
    "          \"\\nReward: \\n\", reward)\n",
    "    \n",
    "    next_state = Variable(torch.from_numpy(next_state).float()) # The float() probably avoids bug in net.forward()\n",
    "    state = next_state\n",
    "    cum_reward += sum(reward)\n",
    "    reward_hist.append(reward)\n",
    "    steps += 1\n",
    "\n",
    "    if done:\n",
    "        print(\"Took \", steps, \" steps to converge\")\n",
    "        "
   ]
  },
  {
   "cell_type": "code",
   "execution_count": 106,
   "metadata": {},
   "outputs": [
    {
     "data": {
      "text/plain": [
       "array([[0., 1.],\n",
       "       [1., 0.]])"
      ]
     },
     "execution_count": 106,
     "metadata": {},
     "output_type": "execute_result"
    }
   ],
   "source": [
    "env.Adj"
   ]
  },
  {
   "cell_type": "code",
   "execution_count": 111,
   "metadata": {},
   "outputs": [
    {
     "data": {
      "text/plain": [
       "array([[0.        , 0.23528356],\n",
       "       [0.23528356, 0.        ]])"
      ]
     },
     "execution_count": 111,
     "metadata": {},
     "output_type": "execute_result"
    }
   ],
   "source": [
    "diff = env.state.T.reshape((env.N,env.ns,1)) - env.state.reshape((1,env.ns,env.N))\n",
    "\n",
    "diff_norm = np.linalg.norm(diff[:,:2,:], ord=2, axis=1)\n",
    "\n",
    "diff_norm"
   ]
  },
  {
   "cell_type": "code",
   "execution_count": 108,
   "metadata": {},
   "outputs": [
    {
     "data": {
      "text/plain": [
       "array([[ 0.9999999,  0.9999999],\n",
       "       [-0.9999998, -0.9999999]], dtype=float32)"
      ]
     },
     "execution_count": 108,
     "metadata": {},
     "output_type": "execute_result"
    }
   ],
   "source": [
    "action"
   ]
  },
  {
   "cell_type": "code",
   "execution_count": 107,
   "metadata": {},
   "outputs": [
    {
     "data": {
      "text/plain": [
       "array([[ 0.        ,  0.17738344],\n",
       "       [ 0.        , -0.15457512],\n",
       "       [ 0.99999988,  0.99999988],\n",
       "       [-0.99999982, -0.99999988],\n",
       "       [ 0.        ,  0.        ],\n",
       "       [ 0.        ,  0.        ]])"
      ]
     },
     "execution_count": 107,
     "metadata": {},
     "output_type": "execute_result"
    }
   ],
   "source": [
    "env.state"
   ]
  },
  {
   "cell_type": "code",
   "execution_count": 110,
   "metadata": {},
   "outputs": [
    {
     "data": {
      "text/plain": [
       "tensor([[ 1., -1.,  1.,  1.]], grad_fn=<CatBackward>)"
      ]
     },
     "execution_count": 110,
     "metadata": {},
     "output_type": "execute_result"
    }
   ],
   "source": [
    "act_params = agent.netA(Variable(next_state[1].view(1, -1, N)))\n",
    "act_params"
   ]
  },
  {
   "cell_type": "code",
   "execution_count": 95,
   "metadata": {},
   "outputs": [
    {
     "data": {
      "text/plain": [
       "tensor([[ 0.7810, -1.2545]])"
      ]
     },
     "execution_count": 95,
     "metadata": {},
     "output_type": "execute_result"
    }
   ],
   "source": [
    "pred_action = torch.zeros(1,agent.na)\n",
    "pred_probs = torch.zeros(1)\n",
    "\n",
    "distrb = torch.distributions.Normal(\n",
    "    act_params[:,:agent.na],\n",
    "    torch.diag( nn.functional.softplus( act_params[:,agent.na:] ) )\n",
    ")\n",
    "aa = distrb.sample()\n",
    "aa"
   ]
  },
  {
   "cell_type": "code",
   "execution_count": 96,
   "metadata": {},
   "outputs": [
    {
     "data": {
      "text/plain": [
       "(tensor([[ 0.7810, -1.0000]]),\n",
       " tensor([[-1.2054, -1.1915]], grad_fn=<SubBackward0>))"
      ]
     },
     "execution_count": 96,
     "metadata": {},
     "output_type": "execute_result"
    }
   ],
   "source": [
    "pred_action = torch.clamp( aa, agent.action_range[0], agent.action_range[1] )\n",
    "pred_probs = distrb.log_prob(pred_action)\n",
    "pred_action, pred_probs"
   ]
  },
  {
   "cell_type": "code",
   "execution_count": 90,
   "metadata": {},
   "outputs": [
    {
     "data": {
      "text/plain": [
       "tensor([[1.3133, 1.3133]], grad_fn=<SoftplusBackward>)"
      ]
     },
     "execution_count": 90,
     "metadata": {},
     "output_type": "execute_result"
    }
   ],
   "source": [
    "nn.functional.softplus( act_params[:,agent.na:] )"
   ]
  },
  {
   "cell_type": "code",
   "execution_count": 91,
   "metadata": {},
   "outputs": [
    {
     "data": {
      "text/plain": [
       "tensor([[-0.4820, -2.4129]])"
      ]
     },
     "execution_count": 91,
     "metadata": {},
     "output_type": "execute_result"
    }
   ],
   "source": [
    "aa = distrb.sample()\n",
    "aa"
   ]
  },
  {
   "cell_type": "code",
   "execution_count": 92,
   "metadata": {},
   "outputs": [
    {
     "data": {
      "text/plain": [
       "tensor([[-0.4820, -1.0000]])"
      ]
     },
     "execution_count": 92,
     "metadata": {},
     "output_type": "execute_result"
    }
   ],
   "source": [
    "torch.clamp( aa, agent.action_range[0], agent.action_range[1] )"
   ]
  },
  {
   "cell_type": "code",
   "execution_count": 102,
   "metadata": {},
   "outputs": [
    {
     "data": {
      "text/plain": [
       "2"
      ]
     },
     "execution_count": 102,
     "metadata": {},
     "output_type": "execute_result"
    }
   ],
   "source": [
    "agent.rand_modeA"
   ]
  },
  {
   "cell_type": "code",
   "execution_count": 108,
   "metadata": {},
   "outputs": [
    {
     "name": "stdout",
     "output_type": "stream",
     "text": [
      "Updated mean and stdev: -180041.41997785214 and 91282.13883207772\n",
      "Test result at episode  0 : \n",
      "Test result at episode  1 : \n",
      "Finished training env with 3 agents for AC\n"
     ]
    }
   ],
   "source": [
    "# Test out centralized environment\n",
    "reload(utils.ReplayMemory)\n",
    "reload(utils.networks)\n",
    "reload(utils.agents)\n",
    "reload(utils.plotting)\n",
    "reload(utils.train_test_methods)\n",
    "from utils.ReplayMemory import * \n",
    "from utils.networks import *\n",
    "from utils.agents import *\n",
    "from utils.plotting import *\n",
    "from utils.train_test_methods import *\n",
    "\n",
    "num_episode=2#00#250#500\n",
    "test_interval=1#0#0\n",
    "num_test=1#0#50\n",
    "num_iteration=20#0\n",
    "BATCH_SIZE=4#8#64#128\n",
    "save_sim_intv=50\n",
    "debug=False\n",
    "num_sample=50\n",
    "seed=22222\n",
    "hidden=32\n",
    "action_space=[-1,1]\n",
    "\n",
    "# rand_mode = NO_RAND\n",
    "rand_mode = GAUSS_RAND\n",
    "\n",
    "N_list = [3]\n",
    "env_list = []\n",
    "for N_ in N_list:\n",
    "    env_list.append(\n",
    "        gym.make('ConsensusEnv:CentralizedConsensusContEnv-v0', N=N_, dt=0.1, Delta=0.05, #o_radius=40000,\n",
    "              input_type=input_type, observe_type=observe_type, observe_action=O_ACTION, \n",
    "                 reward_mode=DIST_REWARD,#|ACT_REWARD,\n",
    "#                  uses_boundary=True,\n",
    "                 uses_boundary=False,\n",
    "                 dist_reward_func=lambda x : (np.abs(x) + 2) * (np.abs(x) + 2),\n",
    "                 boundary_policy=SOFT_PENALTY, finish_reward_policy=REWARD_IF_CONSENSUS\n",
    "        ).unwrapped\n",
    "    )\n",
    "#     env_list[-1].mov_w = 100\n",
    "\n",
    "AC2_list = []\n",
    "for i,N_ in enumerate(N_list):\n",
    "    AC2_list.append(\n",
    "        AC2Agent(device, N_, env_list[i].ns, # IMPORTANT!!! use .ns for centralized, and .nf for decentralized\n",
    "                 env_list[i].na, hidden, rand_modeA=rand_mode, centralized=True,\n",
    "                 learning_rateA=0.01, learning_rateC=0.02, mode=1208)\n",
    "    )\n",
    "\n",
    "sim_fnames = ['AC2_centralizedTest_m1208_N{0}'.format(N_) for N_ in N_list]\n",
    "memory_backup = []\n",
    "AC2_hist = []\n",
    "AC2_loss = []\n",
    "for i,N_ in enumerate(N_list):\n",
    "    AC2_loss.append([])\n",
    "    memory_backup.append( ReplayMemory(1000 * env_list[i].N) )\n",
    "    AC2_hist.append(\n",
    "        train(AC2_list[i], env_list[i], \n",
    "              num_episode=num_episode, test_interval=test_interval, num_test=num_test, num_iteration=num_iteration, \n",
    "              BATCH_SIZE=BATCH_SIZE, num_sample=num_sample, action_space=[-1,1], debug=debug, memory=memory_backup[-1],\n",
    "#               update_mode=UPDATE_PER_ITERATION, reward_mode=FUTURE_REWARD_YES_NORMALIZE, \n",
    "              update_mode=UPDATE_PER_EPISODE, reward_mode=FUTURE_REWARD_YES|FUTURE_REWARD_NORMALIZE,\n",
    "              loss_history=AC2_loss[i],\n",
    "              save_sim_intv=save_sim_intv, save_sim_fnames=[sim_fnames[i]], \n",
    "              imdir='screencaps/', useVid=False)\n",
    "    )\n",
    "    print(\"Finished training env with {0} agents for AC\".format(N_))\n"
   ]
  },
  {
   "cell_type": "code",
   "execution_count": 185,
   "metadata": {},
   "outputs": [
    {
     "name": "stdout",
     "output_type": "stream",
     "text": [
      "Updated mean and stdev: -2943.672438949014 and 933.7362945617103\n",
      "Test result at episode  0 : \n",
      "Test result at episode  20 : \n",
      "Test result at episode  40 : \n",
      "Test result at episode  60 : \n",
      "Test result at episode  80 : \n",
      "Test result at episode  100 : \n",
      "Test result at episode  120 : \n",
      "Test result at episode  140 : \n",
      "Test result at episode  160 : \n",
      "Test result at episode  180 : \n",
      "Test result at episode  200 : \n",
      "Test result at episode  220 : \n",
      "Test result at episode  240 : \n",
      "Test result at episode  260 : \n",
      "Test result at episode  280 : \n",
      "Test result at episode  300 : \n",
      "Test result at episode  320 : \n",
      "Test result at episode  340 : \n",
      "Test result at episode  360 : \n",
      "Test result at episode  380 : \n",
      "Finished episode  0  with  199 ;\n",
      "cumulative reward =  -1087704.0930200182\n",
      "Test result at episode  400 : \n",
      "Test result at episode  420 : \n",
      "Test result at episode  440 : \n",
      "Test result at episode  460 : \n",
      "Test result at episode  480 : \n",
      "Test result at episode  500 : \n",
      "Test result at episode  520 : \n",
      "Test result at episode  540 : \n",
      "Test result at episode  560 : \n",
      "Test result at episode  580 : \n",
      "Test result at episode  600 : \n",
      "Test result at episode  620 : \n",
      "Test result at episode  640 : \n",
      "Test result at episode  660 : \n",
      "Test result at episode  680 : \n",
      "Test result at episode  700 : \n",
      "Test result at episode  720 : \n",
      "Test result at episode  740 : \n",
      "Test result at episode  760 : \n",
      "Test result at episode  780 : \n",
      "Finished episode  0  with  199 ;\n",
      "cumulative reward =  -559007.70495205\n",
      "Test result at episode  800 : \n",
      "Test result at episode  820 : \n",
      "Test result at episode  840 : \n",
      "Test result at episode  860 : \n",
      "Test result at episode  880 : \n",
      "Test result at episode  900 : \n",
      "Test result at episode  920 : \n",
      "Test result at episode  940 : \n",
      "Test result at episode  960 : \n",
      "Test result at episode  980 : \n",
      "Test result at episode  1000 : \n",
      "Test result at episode  1020 : \n",
      "Test result at episode  1040 : \n",
      "Test result at episode  1060 : \n",
      "Test result at episode  1080 : \n",
      "Test result at episode  1100 : \n",
      "Test result at episode  1120 : \n",
      "Test result at episode  1140 : \n",
      "Test result at episode  1160 : \n",
      "Test result at episode  1180 : \n",
      "Finished episode  0  with  199 ;\n",
      "cumulative reward =  -1132212.7242322776\n",
      "Test result at episode  1200 : \n",
      "Test result at episode  1220 : \n",
      "Test result at episode  1240 : \n",
      "Test result at episode  1260 : \n",
      "Test result at episode  1280 : \n",
      "Test result at episode  1300 : \n",
      "Test result at episode  1320 : \n",
      "Test result at episode  1340 : \n",
      "Test result at episode  1360 : \n",
      "Test result at episode  1380 : \n",
      "Test result at episode  1400 : \n",
      "Test result at episode  1420 : \n",
      "Test result at episode  1440 : \n",
      "Test result at episode  1460 : \n",
      "Test result at episode  1480 : \n",
      "Test result at episode  1500 : \n",
      "Test result at episode  1520 : \n",
      "Test result at episode  1540 : \n",
      "Test result at episode  1560 : \n",
      "Test result at episode  1580 : \n",
      "Finished episode  0  with  199 ;\n",
      "cumulative reward =  -1034137.5401729948\n",
      "Test result at episode  1600 : \n",
      "Test result at episode  1620 : \n",
      "Test result at episode  1640 : \n",
      "Test result at episode  1660 : \n",
      "Test result at episode  1680 : \n",
      "Test result at episode  1700 : \n",
      "Test result at episode  1720 : \n",
      "Test result at episode  1740 : \n",
      "Test result at episode  1760 : \n",
      "Test result at episode  1780 : \n",
      "Test result at episode  1800 : \n",
      "Test result at episode  1820 : \n",
      "Test result at episode  1840 : \n",
      "Test result at episode  1860 : \n",
      "Test result at episode  1880 : \n",
      "Test result at episode  1900 : \n",
      "Test result at episode  1920 : \n",
      "Test result at episode  1940 : \n",
      "Test result at episode  1960 : \n",
      "Test result at episode  1980 : \n",
      "Finished episode  0  with  199 ;\n",
      "cumulative reward =  -1129011.4365209625\n",
      "Finished training env with 3 agents for AC\n"
     ]
    },
    {
     "data": {
      "text/plain": [
       "<Figure size 432x288 with 0 Axes>"
      ]
     },
     "metadata": {},
     "output_type": "display_data"
    }
   ],
   "source": [
    "reload(utils.ReplayMemory)\n",
    "reload(utils.networks)\n",
    "reload(utils.agents)\n",
    "reload(utils.plotting)\n",
    "reload(utils.train_test_methods)\n",
    "from utils.ReplayMemory import * \n",
    "from utils.networks import *\n",
    "from utils.agents import *\n",
    "from utils.plotting import *\n",
    "from utils.train_test_methods import *\n",
    "\n",
    "num_episode=2000#500#250#500\n",
    "test_interval=10*2#0\n",
    "num_test=10#10#50\n",
    "num_iteration=200\n",
    "BATCH_SIZE=2*128#64#128\n",
    "save_sim_intv=50*2*4\n",
    "debug=False\n",
    "num_sample=50\n",
    "seed=22222\n",
    "hidden=32\n",
    "action_space=[-1,1]\n",
    "\n",
    "# rand_mode = NO_RAND\n",
    "rand_mode = GAUSS_RAND\n",
    "\n",
    "N_list = [3]\n",
    "env_list = []\n",
    "for N_ in N_list:\n",
    "    env_list.append(\n",
    "        gym.make('ConsensusEnv:CentralizedConsensusContEnv-v0', N=N_, dt=0.1, Delta=0.05, #o_radius=40000,\n",
    "              input_type=input_type, observe_type=observe_type, observe_action=O_ACTION, \n",
    "                 reward_mode=DIST_REWARD,#|ACT_REWARD,\n",
    "#                  uses_boundary=True,\n",
    "                 uses_boundary=False,\n",
    "                 dist_reward_func=lambda x : (np.log(np.abs(x)+1)),\n",
    "#                  dist_reward_func=lambda x : np.sqrt(np.abs(x)),\n",
    "#                  dist_reward_func=lambda x : (np.abs(x) + 2) * (np.abs(x) + 2), # * (np.abs(x) + 2) * (np.abs(x) + 2),\n",
    "                 boundary_policy=SOFT_PENALTY, finish_reward_policy=REWARD_IF_CONSENSUS\n",
    "        ).unwrapped\n",
    "    )\n",
    "#     env_list[-1].mov_w = 100\n",
    "\n",
    "AC2_list = []\n",
    "for i,N_ in enumerate(N_list):\n",
    "    AC2_list.append(\n",
    "        AC2Agent(device, N_, env_list[i].ns, # IMPORTANT!!! use .ns for centralized, and .nf for decentralized\n",
    "                 env_list[i].na, hidden, rand_modeA=rand_mode, centralized=True,\n",
    "                 neg_loss_sign=True,#False,\n",
    "                 learning_rateA=0.01, learning_rateC=0.02, mode=12088)\n",
    "    )\n",
    "\n",
    "sim_fnames = ['AC2_centralizedTest_logreward_tanhC_leak03A_m0_N{0}'.format(N_) for N_ in N_list]\n",
    "memory_backup = []\n",
    "AC2_hist = []\n",
    "AC2_loss = []\n",
    "for i,N_ in enumerate(N_list):\n",
    "    AC2_loss.append([])\n",
    "    memory_backup.append( ReplayMemory(1000 * env_list[i].N) )\n",
    "    AC2_hist.append(\n",
    "        train(AC2_list[i], env_list[i], \n",
    "              num_episode=num_episode, test_interval=test_interval, num_test=num_test, num_iteration=num_iteration, \n",
    "              BATCH_SIZE=BATCH_SIZE, num_sample=num_sample, action_space=[-1,1], debug=debug, memory=memory_backup[-1],\n",
    "              update_mode=UPDATE_PER_EPISODE, #UPDATE_PER_ITERATION,\n",
    "              reward_mode=FUTURE_REWARD_NORMALIZE,\n",
    "#               reward_mode=FUTURE_REWARD_YES,#|FUTURE_REWARD_NORMALIZE, #FUTURE_REWARD_YES_NORMALIZE, \n",
    "              loss_history=AC2_loss[i], #reward_mean_var=(torch.Tensor([-69600]), torch.Tensor([46290])),\n",
    "              save_sim_intv=save_sim_intv, save_sim_fnames=[sim_fnames[i]], \n",
    "              imdir='screencaps/', useVid=False)\n",
    "    )\n",
    "    print(\"Finished training env with {0} agents for AC\".format(N_))\n"
   ]
  },
  {
   "cell_type": "code",
   "execution_count": 142,
   "metadata": {
    "collapsed": true,
    "jupyter": {
     "outputs_hidden": true
    }
   },
   "outputs": [
    {
     "name": "stdout",
     "output_type": "stream",
     "text": [
      "Test result at episode  0 : \n",
      "Test result at episode  10 : \n",
      "Test result at episode  20 : \n",
      "Test result at episode  30 : \n",
      "Test result at episode  40 : \n",
      "Test result at episode  50 : \n",
      "Test result at episode  60 : \n",
      "Test result at episode  70 : \n",
      "Test result at episode  80 : \n",
      "Test result at episode  90 : \n",
      "Test result at episode  100 : \n",
      "Test result at episode  110 : \n",
      "Test result at episode  120 : \n",
      "Test result at episode  130 : \n",
      "Test result at episode  140 : \n",
      "Test result at episode  150 : \n",
      "Test result at episode  160 : \n",
      "Test result at episode  170 : \n",
      "Test result at episode  180 : \n",
      "Test result at episode  190 : \n",
      "Finished episode  0  with  199 ;\n",
      "cumulative reward =  -71448492.71058755\n",
      "Test result at episode  200 : \n",
      "Test result at episode  210 : \n",
      "Test result at episode  220 : \n",
      "Test result at episode  230 : \n",
      "Test result at episode  240 : \n",
      "Test result at episode  250 : \n",
      "Test result at episode  260 : \n",
      "Test result at episode  270 : \n",
      "Test result at episode  280 : \n",
      "Test result at episode  290 : \n",
      "Test result at episode  300 : \n",
      "Test result at episode  310 : \n",
      "Test result at episode  320 : \n",
      "Test result at episode  330 : \n",
      "Test result at episode  340 : \n",
      "Test result at episode  350 : \n",
      "Test result at episode  360 : \n",
      "Test result at episode  370 : \n",
      "Test result at episode  380 : \n",
      "Test result at episode  390 : \n",
      "Finished episode  0  with  199 ;\n",
      "cumulative reward =  -175493758.5615337\n",
      "Test result at episode  400 : \n",
      "Test result at episode  410 : \n",
      "Test result at episode  420 : \n",
      "Test result at episode  430 : \n",
      "Test result at episode  440 : \n",
      "Test result at episode  450 : \n",
      "Test result at episode  460 : \n",
      "Test result at episode  470 : \n",
      "Test result at episode  480 : \n",
      "Test result at episode  490 : \n",
      "Test result at episode  500 : \n",
      "Test result at episode  510 : \n",
      "Test result at episode  520 : \n",
      "Test result at episode  530 : \n",
      "Test result at episode  540 : \n",
      "Test result at episode  550 : \n",
      "Test result at episode  560 : \n",
      "Test result at episode  570 : \n",
      "Test result at episode  580 : \n",
      "Test result at episode  590 : \n",
      "Finished episode  0  with  199 ;\n",
      "cumulative reward =  -186370802.55610317\n",
      "Test result at episode  600 : \n",
      "Test result at episode  610 : \n",
      "Test result at episode  620 : \n",
      "Test result at episode  630 : \n",
      "Test result at episode  640 : \n",
      "Test result at episode  650 : \n",
      "Test result at episode  660 : \n",
      "Test result at episode  670 : \n",
      "Test result at episode  680 : \n",
      "Test result at episode  690 : \n",
      "Test result at episode  700 : \n",
      "Test result at episode  710 : \n",
      "Test result at episode  720 : \n",
      "Test result at episode  730 : \n",
      "Test result at episode  740 : \n",
      "Test result at episode  750 : \n",
      "Test result at episode  760 : \n",
      "Test result at episode  770 : \n",
      "Test result at episode  780 : \n",
      "Test result at episode  790 : \n",
      "Finished episode  0  with  199 ;\n",
      "cumulative reward =  -164986632.0785043\n",
      "Test result at episode  800 : \n",
      "Test result at episode  810 : \n",
      "Test result at episode  820 : \n",
      "Test result at episode  830 : \n",
      "Test result at episode  840 : \n",
      "Test result at episode  850 : \n",
      "Test result at episode  860 : \n",
      "Test result at episode  870 : \n",
      "Test result at episode  880 : \n",
      "Test result at episode  890 : \n",
      "Test result at episode  900 : \n",
      "Test result at episode  910 : \n",
      "Test result at episode  920 : \n",
      "Test result at episode  930 : \n",
      "Test result at episode  940 : \n",
      "Test result at episode  950 : \n",
      "Test result at episode  960 : \n",
      "Test result at episode  970 : \n",
      "Test result at episode  980 : \n",
      "Test result at episode  990 : \n",
      "Finished episode  0  with  199 ;\n",
      "cumulative reward =  -29639438.101724997\n",
      "Finished training env with 3 agents for AC\n"
     ]
    },
    {
     "data": {
      "text/plain": [
       "<Figure size 432x288 with 0 Axes>"
      ]
     },
     "metadata": {},
     "output_type": "display_data"
    }
   ],
   "source": [
    "# More training\n",
    "reward_mean_var = (torch.Tensor([-77885.03781972894]), torch.Tensor([38672.516062239236]))\n",
    "sim_fnames = ['AC2_centralizedTest__m0_N{0}'.format(N_) for N_ in N_list]\n",
    "for i,N_ in enumerate(N_list):\n",
    "    AC2_hist[i] += train(AC2_list[i], env_list[i], \n",
    "              num_episode=num_episode, test_interval=test_interval, num_test=num_test, num_iteration=num_iteration, \n",
    "              BATCH_SIZE=BATCH_SIZE, num_sample=num_sample, action_space=[-1,1], debug=debug, memory=memory_backup[i],\n",
    "              update_mode=UPDATE_PER_EPISODE, #UPDATE_PER_ITERATION,\n",
    "              reward_mode=FUTURE_REWARD_NORMALIZE,\n",
    "#               reward_mode=FUTURE_REWARD_YES,#|FUTURE_REWARD_NORMALIZE, #FUTURE_REWARD_YES_NORMALIZE, \n",
    "              loss_history=AC2_loss[i], reward_mean_var=reward_mean_var,\n",
    "              save_sim_intv=save_sim_intv, save_sim_fnames=[sim_fnames[i]], \n",
    "              imdir='screencaps/', useVid=False)\n",
    "    print(\"Finished training env with {0} agents for AC\".format(N_))\n"
   ]
  },
  {
   "cell_type": "code",
   "execution_count": 186,
   "metadata": {},
   "outputs": [
    {
     "data": {
      "image/png": "[encoded data removed]",
      "text/plain": [
       "<Figure size 864x504 with 3 Axes>"
      ]
     },
     "metadata": {
      "needs_background": "light"
     },
     "output_type": "display_data"
    }
   ],
   "source": [
    "skip=1\n",
    "plot_reward_hist([h[::skip] for h in AC2_hist], test_interval*skip, \n",
    "                 ['AC2_N{0}'.format(N_) for N_ in N_list], \n",
    "                 log=False, num_iteration=num_iteration, N_list=([N for N in N_list]), bar=True)"
   ]
  },
  {
   "cell_type": "code",
   "execution_count": 187,
   "metadata": {},
   "outputs": [
    {
     "data": {
      "image/png": "[encoded data removed]",
      "text/plain": [
       "<Figure size 864x504 with 2 Axes>"
      ]
     },
     "metadata": {
      "needs_background": "light"
     },
     "output_type": "display_data"
    }
   ],
   "source": [
    "skip=1\n",
    "plot_loss_hist(hists=[h[250::skip] for h in AC2_loss], hist_names=['AC2_N{0}'.format(N_) for N_ in N_list], log=False, \n",
    "               num_iteration=num_iteration, update_mode=UPDATE_PER_ITERATION, bar=False)"
   ]
  },
  {
   "cell_type": "code",
   "execution_count": 184,
   "metadata": {},
   "outputs": [
    {
     "name": "stdout",
     "output_type": "stream",
     "text": [
      "Saving model to models/AC2Agent_AC2_centralizedTest_logreward_leaky03AC_e2000_m0_rmean-1592_rstdev645_N3\n"
     ]
    }
   ],
   "source": [
    "AC2_list[0].save_model('AC2_centralizedTest_logreward_leaky03AC_e2000_m0_rmean-1592_rstdev645_N3')"
   ]
  },
  {
   "cell_type": "code",
   "execution_count": null,
   "metadata": {},
   "outputs": [],
   "source": [
    "# reload(utils.plotting)\n",
    "# from utils.plotting import *\n",
    "plot_test(AC2_list[0], env_list[0], fnames=['AC2_centralizedTest_c01_N3'],\n",
    "        num_iteration=100, action_space=action_space, imdir='screencaps/',debug=debug, \n",
    "          not_use_rand=True)"
   ]
  },
  {
   "cell_type": "code",
   "execution_count": null,
   "metadata": {},
   "outputs": [],
   "source": []
  },
  {
   "cell_type": "code",
   "execution_count": null,
   "metadata": {},
   "outputs": [],
   "source": []
  },
  {
   "cell_type": "code",
   "execution_count": 55,
   "metadata": {},
   "outputs": [
    {
     "name": "stdout",
     "output_type": "stream",
     "text": [
      "Last  layer Actor gradients after backward:  tensor(0.0001)\n",
      "Mid   layer Actor gradients after backward:  tensor(-3.1980e-05)\n",
      "Front layer Actor gradients after backward:  tensor(-0.0058)\n"
     ]
    }
   ],
   "source": [
    "print(\"Last  layer Actor gradients after backward: \", torch.mean(AC2_list[i].netA.ANlayers[0].weight.grad))\n",
    "print(\"Mid   layer Actor gradients after backward: \", torch.mean(AC2_list[i].netA.ANlayers[2].weight.grad))\n",
    "print(\"Front layer Actor gradients after backward: \", torch.mean(AC2_list[i].netA.ANlayers[4].weight.grad))"
   ]
  },
  {
   "cell_type": "code",
   "execution_count": 57,
   "metadata": {},
   "outputs": [
    {
     "data": {
      "text/plain": [
       "<matplotlib.image.AxesImage at 0x1508680b8>"
      ]
     },
     "execution_count": 57,
     "metadata": {},
     "output_type": "execute_result"
    },
    {
     "data": {
      "image/png": "[encoded data removed]",
      "text/plain": [
       "<Figure size 432x288 with 1 Axes>"
      ]
     },
     "metadata": {
      "needs_background": "light"
     },
     "output_type": "display_data"
    }
   ],
   "source": [
    "# Copy the code from train and test functions, and prepare to run it\n",
    "agent = AC2_list[0]\n",
    "env = env_list[0]\n",
    "steps=0\n",
    "agent.set_train(False)\n",
    "cum_reward = 0\n",
    "reward_hist = []\n",
    "\n",
    "state = env.reset()\n",
    "if agent.centralized:\n",
    "    state = env.state\n",
    "state = torch.from_numpy(state).float()\n",
    "state = Variable(state)\n",
    "\n",
    "img = env.render(mode=\"rgb_array\")\n",
    "env.close()\n",
    "plt.imshow(img)"
   ]
  },
  {
   "cell_type": "code",
   "execution_count": 59,
   "metadata": {},
   "outputs": [
    {
     "name": "stdout",
     "output_type": "stream",
     "text": [
      "Current env state: (loc in x, loc in y, vel in x, vel in y) \n",
      " [[ 0.          0.21773601  0.34361429]\n",
      " [ 0.         -0.21629022 -0.30499561]\n",
      " [-0.80893409 -1.          1.        ]\n",
      " [ 1.         -1.         -1.        ]] \n",
      " Observed state: (4x relative states, 2x self and neighbor actions, 1x time count)\n",
      " [[ 0.          0.21773601  0.34361429]\n",
      " [ 0.         -0.21629022 -0.30499561]\n",
      " [-0.80893409 -1.          1.        ]\n",
      " [ 1.         -1.         -1.        ]\n",
      " [ 0.          0.          0.        ]\n",
      " [ 0.          0.          0.        ]] \n",
      "Reward: \n",
      " -17608.30766285311\n"
     ]
    },
    {
     "ename": "TypeError",
     "evalue": "'numpy.float64' object is not iterable",
     "output_type": "error",
     "traceback": [
      "\u001b[0;31m---------------------------------------------------------------------------\u001b[0m",
      "\u001b[0;31mTypeError\u001b[0m                                 Traceback (most recent call last)",
      "\u001b[0;32m<ipython-input-59-a3388cff6186>\u001b[0m in \u001b[0;36m<module>\u001b[0;34m\u001b[0m\n\u001b[1;32m     29\u001b[0m     \u001b[0mnext_state\u001b[0m \u001b[0;34m=\u001b[0m \u001b[0mVariable\u001b[0m\u001b[0;34m(\u001b[0m\u001b[0mtorch\u001b[0m\u001b[0;34m.\u001b[0m\u001b[0mfrom_numpy\u001b[0m\u001b[0;34m(\u001b[0m\u001b[0mnext_state\u001b[0m\u001b[0;34m)\u001b[0m\u001b[0;34m.\u001b[0m\u001b[0mfloat\u001b[0m\u001b[0;34m(\u001b[0m\u001b[0;34m)\u001b[0m\u001b[0;34m)\u001b[0m \u001b[0;31m# The float() probably avoids bug in net.forward()\u001b[0m\u001b[0;34m\u001b[0m\u001b[0m\n\u001b[1;32m     30\u001b[0m     \u001b[0mstate\u001b[0m \u001b[0;34m=\u001b[0m \u001b[0mnext_state\u001b[0m\u001b[0;34m\u001b[0m\u001b[0m\n\u001b[0;32m---> 31\u001b[0;31m     \u001b[0mcum_reward\u001b[0m \u001b[0;34m+=\u001b[0m \u001b[0msum\u001b[0m\u001b[0;34m(\u001b[0m\u001b[0mreward\u001b[0m\u001b[0;34m)\u001b[0m\u001b[0;34m\u001b[0m\u001b[0m\n\u001b[0m\u001b[1;32m     32\u001b[0m     \u001b[0mreward_hist\u001b[0m\u001b[0;34m.\u001b[0m\u001b[0mappend\u001b[0m\u001b[0;34m(\u001b[0m\u001b[0mreward\u001b[0m\u001b[0;34m)\u001b[0m\u001b[0;34m\u001b[0m\u001b[0m\n\u001b[1;32m     33\u001b[0m     \u001b[0msteps\u001b[0m \u001b[0;34m+=\u001b[0m \u001b[0;36m1\u001b[0m\u001b[0;34m\u001b[0m\u001b[0m\n",
      "\u001b[0;31mTypeError\u001b[0m: 'numpy.float64' object is not iterable"
     ]
    },
    {
     "data": {
      "image/png": "[encoded data removed]",
      "text/plain": [
       "<Figure size 432x288 with 1 Axes>"
      ]
     },
     "metadata": {
      "needs_background": "light"
     },
     "output_type": "display_data"
    }
   ],
   "source": [
    "# Copy the code from train and test functions, and run it iteration by iteration\n",
    "with torch.no_grad():  \n",
    "    # Try to pick an action, react, and store the resulting behavior in the pool here\n",
    "    if agent.centralized:\n",
    "        action = agent.select_action(state, **{\n",
    "                'steps_done':steps, 'rand':False, 'num_sample':50, 'action_space':action_space\n",
    "            }).T\n",
    "    else:\n",
    "        actions = []\n",
    "        for i in range(N):\n",
    "            action = agent.select_action(state[i], **{\n",
    "                'steps_done':steps, 'rand':False, 'num_sample':50, 'action_space':action_space\n",
    "            })\n",
    "            actions.append(action)\n",
    "        action = np.array(actions).T \n",
    "\n",
    "    next_state, reward, done, _ = env.step(action)\n",
    "    img = env.render(mode=\"rgb_array\")\n",
    "    env.close()\n",
    "    plt.imshow(img)\n",
    "    \n",
    "    if agent.centralized:\n",
    "        next_state = env.state\n",
    "    print(\"Current env state: (loc in x, loc in y, vel in x, vel in y) \\n\", env.state[:4], \n",
    "          \"\\n Observed state: (4x relative states, 2x self and neighbor actions, 1x time count)\\n\", next_state, \n",
    "          \"\\nReward: \\n\", reward)\n",
    "    \n",
    "    next_state = Variable(torch.from_numpy(next_state).float()) # The float() probably avoids bug in net.forward()\n",
    "    state = next_state\n",
    "    cum_reward += reward\n",
    "    reward_hist.append(reward)\n",
    "    steps += 1\n",
    "\n",
    "    if done:\n",
    "        print(\"Took \", steps, \" steps to converge\")\n",
    "        "
   ]
  },
  {
   "cell_type": "code",
   "execution_count": 106,
   "metadata": {},
   "outputs": [
    {
     "data": {
      "text/plain": [
       "array([[0., 1.],\n",
       "       [1., 0.]])"
      ]
     },
     "execution_count": 106,
     "metadata": {},
     "output_type": "execute_result"
    }
   ],
   "source": [
    "env.Adj"
   ]
  },
  {
   "cell_type": "code",
   "execution_count": 108,
   "metadata": {},
   "outputs": [
    {
     "data": {
      "text/plain": [
       "array([[ 0.9999999,  0.9999999],\n",
       "       [-0.9999998, -0.9999999]], dtype=float32)"
      ]
     },
     "execution_count": 108,
     "metadata": {},
     "output_type": "execute_result"
    }
   ],
   "source": [
    "action"
   ]
  },
  {
   "cell_type": "code",
   "execution_count": 107,
   "metadata": {},
   "outputs": [
    {
     "data": {
      "text/plain": [
       "array([[ 0.        ,  0.17738344],\n",
       "       [ 0.        , -0.15457512],\n",
       "       [ 0.99999988,  0.99999988],\n",
       "       [-0.99999982, -0.99999988],\n",
       "       [ 0.        ,  0.        ],\n",
       "       [ 0.        ,  0.        ]])"
      ]
     },
     "execution_count": 107,
     "metadata": {},
     "output_type": "execute_result"
    }
   ],
   "source": [
    "env.state"
   ]
  },
  {
   "cell_type": "code",
   "execution_count": 110,
   "metadata": {},
   "outputs": [
    {
     "data": {
      "text/plain": [
       "tensor([[ 1., -1.,  1.,  1.]], grad_fn=<CatBackward>)"
      ]
     },
     "execution_count": 110,
     "metadata": {},
     "output_type": "execute_result"
    }
   ],
   "source": [
    "act_params = agent.netA(Variable(next_state[1].view(1, -1, N)))\n",
    "act_params"
   ]
  },
  {
   "cell_type": "code",
   "execution_count": 95,
   "metadata": {},
   "outputs": [
    {
     "data": {
      "text/plain": [
       "tensor([[ 0.7810, -1.2545]])"
      ]
     },
     "execution_count": 95,
     "metadata": {},
     "output_type": "execute_result"
    }
   ],
   "source": [
    "pred_action = torch.zeros(1,agent.na)\n",
    "pred_probs = torch.zeros(1)\n",
    "\n",
    "distrb = torch.distributions.Normal(\n",
    "    act_params[:,:agent.na],\n",
    "    torch.diag( nn.functional.softplus( act_params[:,agent.na:] ) )\n",
    ")\n",
    "aa = distrb.sample()\n",
    "aa"
   ]
  },
  {
   "cell_type": "code",
   "execution_count": 96,
   "metadata": {},
   "outputs": [
    {
     "data": {
      "text/plain": [
       "(tensor([[ 0.7810, -1.0000]]),\n",
       " tensor([[-1.2054, -1.1915]], grad_fn=<SubBackward0>))"
      ]
     },
     "execution_count": 96,
     "metadata": {},
     "output_type": "execute_result"
    }
   ],
   "source": [
    "pred_action = torch.clamp( aa, agent.action_range[0], agent.action_range[1] )\n",
    "pred_probs = distrb.log_prob(pred_action)\n",
    "pred_action, pred_probs"
   ]
  },
  {
   "cell_type": "code",
   "execution_count": 90,
   "metadata": {},
   "outputs": [
    {
     "data": {
      "text/plain": [
       "tensor([[1.3133, 1.3133]], grad_fn=<SoftplusBackward>)"
      ]
     },
     "execution_count": 90,
     "metadata": {},
     "output_type": "execute_result"
    }
   ],
   "source": [
    "nn.functional.softplus( act_params[:,agent.na:] )"
   ]
  },
  {
   "cell_type": "code",
   "execution_count": 91,
   "metadata": {},
   "outputs": [
    {
     "data": {
      "text/plain": [
       "tensor([[-0.4820, -2.4129]])"
      ]
     },
     "execution_count": 91,
     "metadata": {},
     "output_type": "execute_result"
    }
   ],
   "source": [
    "aa = distrb.sample()\n",
    "aa"
   ]
  },
  {
   "cell_type": "code",
   "execution_count": 92,
   "metadata": {},
   "outputs": [
    {
     "data": {
      "text/plain": [
       "tensor([[-0.4820, -1.0000]])"
      ]
     },
     "execution_count": 92,
     "metadata": {},
     "output_type": "execute_result"
    }
   ],
   "source": [
    "torch.clamp( aa, agent.action_range[0], agent.action_range[1] )"
   ]
  },
  {
   "cell_type": "code",
   "execution_count": 102,
   "metadata": {},
   "outputs": [
    {
     "data": {
      "text/plain": [
       "2"
      ]
     },
     "execution_count": 102,
     "metadata": {},
     "output_type": "execute_result"
    }
   ],
   "source": [
    "agent.rand_modeA"
   ]
  },
  {
   "cell_type": "code",
   "execution_count": 6,
   "metadata": {},
   "outputs": [
    {
     "data": {
      "text/plain": [
       "array([[[1., 1., 1.]],\n",
       "\n",
       "       [[1., 1., 1.]],\n",
       "\n",
       "       [[1., 1., 1.]]])"
      ]
     },
     "execution_count": 6,
     "metadata": {},
     "output_type": "execute_result"
    }
   ],
   "source": [
    "np.ones((env_list[0].N,1,env_list[0].N))"
   ]
  },
  {
   "cell_type": "code",
   "execution_count": 11,
   "metadata": {},
   "outputs": [
    {
     "ename": "TypeError",
     "evalue": "data type not understood",
     "output_type": "error",
     "traceback": [
      "\u001b[0;31m---------------------------------------------------------------------------\u001b[0m",
      "\u001b[0;31mTypeError\u001b[0m                                 Traceback (most recent call last)",
      "\u001b[0;32m<ipython-input-11-1277453c8a9e>\u001b[0m in \u001b[0;36m<module>\u001b[0;34m\u001b[0m\n\u001b[0;32m----> 1\u001b[0;31m \u001b[0menv_list\u001b[0m\u001b[0;34m[\u001b[0m\u001b[0;36m0\u001b[0m\u001b[0;34m]\u001b[0m\u001b[0;34m.\u001b[0m\u001b[0mfilter_neighbor_actions\u001b[0m\u001b[0;34m(\u001b[0m\u001b[0mnp\u001b[0m\u001b[0;34m.\u001b[0m\u001b[0mzeros\u001b[0m\u001b[0;34m(\u001b[0m\u001b[0;34m(\u001b[0m\u001b[0;36m2\u001b[0m\u001b[0;34m,\u001b[0m\u001b[0;36m3\u001b[0m\u001b[0;34m)\u001b[0m\u001b[0;34m)\u001b[0m\u001b[0;34m)\u001b[0m\u001b[0;34m\u001b[0m\u001b[0m\n\u001b[0m",
      "\u001b[0;32m~/Documents/GT 20F/7000/GNN_experiments/ConsensusEnv/ConsensusEnv/envs/ConsensusContEnv.py\u001b[0m in \u001b[0;36mfilter_neighbor_actions\u001b[0;34m(self, action)\u001b[0m\n\u001b[1;32m    487\u001b[0m         \u001b[0;31m# self.Adj has shape (N,N). Need to add diagonal 1s because agent should be able to see its own actions.\u001b[0m\u001b[0;34m\u001b[0m\u001b[0;34m\u001b[0m\u001b[0m\n\u001b[1;32m    488\u001b[0m         \u001b[0;31m### TODO: Check if this multiplication makes sense. Should it be a matmul??\u001b[0m\u001b[0;34m\u001b[0m\u001b[0;34m\u001b[0m\u001b[0m\n\u001b[0;32m--> 489\u001b[0;31m         \u001b[0;32mreturn\u001b[0m \u001b[0mnp\u001b[0m\u001b[0;34m.\u001b[0m\u001b[0mones\u001b[0m\u001b[0;34m(\u001b[0m \u001b[0mshape\u001b[0m\u001b[0;34m=\u001b[0m\u001b[0;34m(\u001b[0m\u001b[0mself\u001b[0m\u001b[0;34m.\u001b[0m\u001b[0mN\u001b[0m\u001b[0;34m,\u001b[0m \u001b[0;36m1\u001b[0m\u001b[0;34m,\u001b[0m \u001b[0mself\u001b[0m\u001b[0;34m.\u001b[0m\u001b[0mN\u001b[0m\u001b[0;34m)\u001b[0m\u001b[0;34m,\u001b[0m \u001b[0mdtype\u001b[0m\u001b[0;34m=\u001b[0m\u001b[0mfloat\u001b[0m \u001b[0;34m)\u001b[0m \u001b[0;34m*\u001b[0m \u001b[0maction\u001b[0m\u001b[0;34m\u001b[0m\u001b[0m\n\u001b[0m",
      "\u001b[0;32m/Library/Frameworks/Python.framework/Versions/3.6/lib/python3.6/site-packages/numpy/core/numeric.py\u001b[0m in \u001b[0;36mones\u001b[0;34m(shape, dtype, order)\u001b[0m\n\u001b[1;32m    205\u001b[0m \u001b[0;34m\u001b[0m\u001b[0m\n\u001b[1;32m    206\u001b[0m     \"\"\"\n\u001b[0;32m--> 207\u001b[0;31m     \u001b[0ma\u001b[0m \u001b[0;34m=\u001b[0m \u001b[0mempty\u001b[0m\u001b[0;34m(\u001b[0m\u001b[0mshape\u001b[0m\u001b[0;34m,\u001b[0m \u001b[0mdtype\u001b[0m\u001b[0;34m,\u001b[0m \u001b[0morder\u001b[0m\u001b[0;34m)\u001b[0m\u001b[0;34m\u001b[0m\u001b[0m\n\u001b[0m\u001b[1;32m    208\u001b[0m     \u001b[0mmultiarray\u001b[0m\u001b[0;34m.\u001b[0m\u001b[0mcopyto\u001b[0m\u001b[0;34m(\u001b[0m\u001b[0ma\u001b[0m\u001b[0;34m,\u001b[0m \u001b[0;36m1\u001b[0m\u001b[0;34m,\u001b[0m \u001b[0mcasting\u001b[0m\u001b[0;34m=\u001b[0m\u001b[0;34m'unsafe'\u001b[0m\u001b[0;34m)\u001b[0m\u001b[0;34m\u001b[0m\u001b[0m\n\u001b[1;32m    209\u001b[0m     \u001b[0;32mreturn\u001b[0m \u001b[0ma\u001b[0m\u001b[0;34m\u001b[0m\u001b[0m\n",
      "\u001b[0;31mTypeError\u001b[0m: data type not understood"
     ]
    }
   ],
   "source": [
    "env_list[0].filter_neighbor_actions(np.zeros((2,3)))"
   ]
  },
  {
   "cell_type": "code",
   "execution_count": 136,
   "metadata": {},
   "outputs": [
    {
     "data": {
      "text/plain": [
       "[Transition(state=tensor([[  0.0000,  -0.4797,  -6.2901],\n",
       "         [  0.0000, -35.3566,   0.0634],\n",
       "         [  0.9411,   1.0000,   0.2920],\n",
       "         [  1.0000,  -1.0000,   0.9325],\n",
       "         [  0.0000,   0.0000,   0.0000],\n",
       "         [  0.0000,   0.0000,   0.0000]]), action=array([[ 1.       ,  1.       ],\n",
       "        [ 1.       , -1.       ],\n",
       "        [-0.6322727,  1.       ]], dtype=float32), next_state=tensor([[  0.0000,  -0.4797,  -6.4533],\n",
       "         [  0.0000, -35.5566,   0.0634],\n",
       "         [  1.0000,   1.0000,  -0.6323],\n",
       "         [  1.0000,  -1.0000,   1.0000],\n",
       "         [  0.0000,   0.0000,   0.0000],\n",
       "         [  0.0000,   0.0000,   0.0000]]), reward=tensor(-37.4956, dtype=torch.float64)),\n",
       " Transition(state=tensor([[  0.0000,  -0.4856,  -6.2252],\n",
       "         [  0.0000, -35.1566,   0.0702],\n",
       "         [  1.0000,   0.2098,  -0.3413],\n",
       "         [  0.9337,  -1.0000,   0.6256],\n",
       "         [  0.0000,   0.0000,   0.0000],\n",
       "         [  0.0000,   0.0000,   0.0000]]), action=array([[ 0.9410733 ,  1.        ],\n",
       "        [ 1.        , -1.        ],\n",
       "        [ 0.29197752,  0.93248427]], dtype=float32), next_state=tensor([[  0.0000,  -0.4797,  -6.2901],\n",
       "         [  0.0000, -35.3566,   0.0634],\n",
       "         [  0.9411,   1.0000,   0.2920],\n",
       "         [  1.0000,  -1.0000,   0.9325],\n",
       "         [  0.0000,   0.0000,   0.0000],\n",
       "         [  0.0000,   0.0000,   0.0000]]), reward=tensor(-37.0339, dtype=torch.float64)),\n",
       " Transition(state=tensor([[ 0.0000e+00, -4.0657e-01, -6.0911e+00],\n",
       "         [ 0.0000e+00, -3.4963e+01,  1.0100e-01],\n",
       "         [ 1.0000e+00,  9.6274e-01, -4.1577e-03],\n",
       "         [ 6.7361e-01, -1.0000e+00,  8.3494e-01],\n",
       "         [ 0.0000e+00,  0.0000e+00,  0.0000e+00],\n",
       "         [ 0.0000e+00,  0.0000e+00,  0.0000e+00]]), action=array([[ 1.        ,  0.93372536],\n",
       "        [ 0.20979911, -1.        ],\n",
       "        [-0.3413142 ,  0.6256011 ]], dtype=float32), next_state=tensor([[  0.0000,  -0.4856,  -6.2252],\n",
       "         [  0.0000, -35.1566,   0.0702],\n",
       "         [  1.0000,   0.2098,  -0.3413],\n",
       "         [  0.9337,  -1.0000,   0.6256],\n",
       "         [  0.0000,   0.0000,   0.0000],\n",
       "         [  0.0000,   0.0000,   0.0000]]), reward=tensor(-36.6187, dtype=torch.float64)),\n",
       " Transition(state=tensor([[  0.0000,  -0.4028,  -5.9907],\n",
       "         [  0.0000, -34.7959,   0.0849],\n",
       "         [  0.7336,   0.5961,  -0.0761],\n",
       "         [  0.6531,  -1.0000,   1.0000],\n",
       "         [  0.0000,   0.0000,   0.0000],\n",
       "         [  0.0000,   0.0000,   0.0000]]), action=array([[ 1.        ,  0.6736107 ],\n",
       "        [ 0.96274495, -1.        ],\n",
       "        [-0.00415766,  0.83493507]], dtype=float32), next_state=tensor([[ 0.0000e+00, -4.0657e-01, -6.0911e+00],\n",
       "         [ 0.0000e+00, -3.4963e+01,  1.0100e-01],\n",
       "         [ 1.0000e+00,  9.6274e-01, -4.1577e-03],\n",
       "         [ 6.7361e-01, -1.0000e+00,  8.3494e-01],\n",
       "         [ 0.0000e+00,  0.0000e+00,  0.0000e+00],\n",
       "         [ 0.0000e+00,  0.0000e+00,  0.0000e+00]]), reward=tensor(-36.2291, dtype=torch.float64)),\n",
       " Transition(state=tensor([[  0.0000,  -0.3891,  -5.9097],\n",
       "         [  0.0000, -34.6305,   0.0502],\n",
       "         [  0.5478,   0.9624,   0.5900],\n",
       "         [  0.7209,  -1.0000,   0.6848],\n",
       "         [  0.0000,   0.0000,   0.0000],\n",
       "         [  0.0000,   0.0000,   0.0000]]), action=array([[ 0.73359585,  0.65312177],\n",
       "        [ 0.59612775, -1.        ],\n",
       "        [-0.07607222,  1.        ]], dtype=float32), next_state=tensor([[  0.0000,  -0.4028,  -5.9907],\n",
       "         [  0.0000, -34.7959,   0.0849],\n",
       "         [  0.7336,   0.5961,  -0.0761],\n",
       "         [  0.6531,  -1.0000,   1.0000],\n",
       "         [  0.0000,   0.0000,   0.0000],\n",
       "         [  0.0000,   0.0000,   0.0000]]), reward=tensor(-35.8480, dtype=torch.float64)),\n",
       " Transition(state=tensor([[  0.0000,  -0.4306,  -5.9139],\n",
       "         [  0.0000, -34.4585,   0.0538],\n",
       "         [  1.0000,   0.9339,   1.0000],\n",
       "         [  0.6205,  -0.8950,   1.0000],\n",
       "         [  0.0000,   0.0000,   0.0000],\n",
       "         [  0.0000,   0.0000,   0.0000]]), action=array([[ 0.54778576,  0.72089195],\n",
       "        [ 0.9624414 , -1.        ],\n",
       "        [ 0.5899693 ,  0.6848024 ]], dtype=float32), next_state=tensor([[  0.0000,  -0.3891,  -5.9097],\n",
       "         [  0.0000, -34.6305,   0.0502],\n",
       "         [  0.5478,   0.9624,   0.5900],\n",
       "         [  0.7209,  -1.0000,   0.6848],\n",
       "         [  0.0000,   0.0000,   0.0000],\n",
       "         [  0.0000,   0.0000,   0.0000]]), reward=tensor(-35.4635, dtype=torch.float64)),\n",
       " Transition(state=tensor([[ 0.0000e+00, -4.2395e-01, -5.9139e+00],\n",
       "         [ 0.0000e+00, -3.4307e+01,  1.5836e-02],\n",
       "         [ 1.0000e+00,  9.3172e-01,  1.0000e+00],\n",
       "         [ 1.0000e+00, -6.9290e-01,  5.4394e-01],\n",
       "         [ 0.0000e+00,  0.0000e+00,  0.0000e+00],\n",
       "         [ 0.0000e+00,  0.0000e+00,  0.0000e+00]]), action=array([[ 1.        ,  0.62047577],\n",
       "        [ 0.9338807 , -0.89502954],\n",
       "        [ 1.        ,  1.        ]], dtype=float32), next_state=tensor([[  0.0000,  -0.4306,  -5.9139],\n",
       "         [  0.0000, -34.4585,   0.0538],\n",
       "         [  1.0000,   0.9339,   1.0000],\n",
       "         [  0.6205,  -0.8950,   1.0000],\n",
       "         [  0.0000,   0.0000,   0.0000],\n",
       "         [  0.0000,   0.0000,   0.0000]]), reward=tensor(-35.1283, dtype=torch.float64)),\n",
       " Transition(state=tensor([[  0.0000,  -0.4171,  -5.9139],\n",
       "         [  0.0000, -34.1376,   0.0614],\n",
       "         [  0.8190,   1.0000,   1.0000],\n",
       "         [  1.0000,  -0.8728,   1.0000],\n",
       "         [  0.0000,   0.0000,   0.0000],\n",
       "         [  0.0000,   0.0000,   0.0000]]), action=array([[ 1.        ,  1.        ],\n",
       "        [ 0.9317238 , -0.6929045 ],\n",
       "        [ 1.        ,  0.54394233]], dtype=float32), next_state=tensor([[ 0.0000e+00, -4.2395e-01, -5.9139e+00],\n",
       "         [ 0.0000e+00, -3.4307e+01,  1.5836e-02],\n",
       "         [ 1.0000e+00,  9.3172e-01,  1.0000e+00],\n",
       "         [ 1.0000e+00, -6.9290e-01,  5.4394e-01],\n",
       "         [ 0.0000e+00,  0.0000e+00,  0.0000e+00],\n",
       "         [ 0.0000e+00,  0.0000e+00,  0.0000e+00]]), reward=tensor(-34.7994, dtype=torch.float64)),\n",
       " Transition(state=tensor([[  0.0000,  -0.4352,  -5.9320],\n",
       "         [  0.0000, -33.9503,   0.0614],\n",
       "         [  0.8701,   0.8906,  -1.0000],\n",
       "         [  1.0000,  -0.9050,   1.0000],\n",
       "         [  0.0000,   0.0000,   0.0000],\n",
       "         [  0.0000,   0.0000,   0.0000]]), action=array([[ 0.8189573,  1.       ],\n",
       "        [ 1.       , -0.87276  ],\n",
       "        [ 1.       ,  1.       ]], dtype=float32), next_state=tensor([[  0.0000,  -0.4171,  -5.9139],\n",
       "         [  0.0000, -34.1376,   0.0614],\n",
       "         [  0.8190,   1.0000,   1.0000],\n",
       "         [  1.0000,  -0.8728,   1.0000],\n",
       "         [  0.0000,   0.0000,   0.0000],\n",
       "         [  0.0000,   0.0000,   0.0000]]), reward=tensor(-34.5183, dtype=torch.float64)),\n",
       " Transition(state=tensor([[  0.0000,  -0.4373,  -5.7450],\n",
       "         [  0.0000, -33.7598,   0.0614],\n",
       "         [  1.0000,   0.9042,   0.9620],\n",
       "         [  1.0000,  -1.0000,   0.7509],\n",
       "         [  0.0000,   0.0000,   0.0000],\n",
       "         [  0.0000,   0.0000,   0.0000]]), action=array([[ 0.8701058 ,  1.        ],\n",
       "        [ 0.8906409 , -0.90504783],\n",
       "        [-1.        ,  1.        ]], dtype=float32), next_state=tensor([[  0.0000,  -0.4352,  -5.9320],\n",
       "         [  0.0000, -33.9503,   0.0614],\n",
       "         [  0.8701,   0.8906,  -1.0000],\n",
       "         [  1.0000,  -0.9050,   1.0000],\n",
       "         [  0.0000,   0.0000,   0.0000],\n",
       "         [  0.0000,   0.0000,   0.0000]]), reward=tensor(-34.1634, dtype=torch.float64))]"
      ]
     },
     "execution_count": 136,
     "metadata": {},
     "output_type": "execute_result"
    }
   ],
   "source": [
    "memory_backup[0].memory[0:10]"
   ]
  },
  {
   "cell_type": "code",
   "execution_count": 11,
   "metadata": {},
   "outputs": [],
   "source": [
    "newstuff = env_list[0].reset()"
   ]
  },
  {
   "cell_type": "code",
   "execution_count": 94,
   "metadata": {},
   "outputs": [
    {
     "data": {
      "text/plain": [
       "0"
      ]
     },
     "execution_count": 94,
     "metadata": {},
     "output_type": "execute_result"
    }
   ],
   "source": [
    "len(torch.tensor([]))"
   ]
  },
  {
   "cell_type": "code",
   "execution_count": null,
   "metadata": {},
   "outputs": [],
   "source": []
  }
 ],
 "metadata": {
  "kernelspec": {
   "display_name": "Python 3",
   "language": "python",
   "name": "python3"
  },
  "language_info": {
   "codemirror_mode": {
    "name": "ipython",
    "version": 3
   },
   "file_extension": ".py",
   "mimetype": "text/x-python",
   "name": "python",
   "nbconvert_exporter": "python",
   "pygments_lexer": "ipython3",
   "version": "3.6.2"
  }
 },
 "nbformat": 4,
 "nbformat_minor": 4
}
