{
 "cells": [
  {
   "cell_type": "markdown",
   "metadata": {},
   "source": [
    "### Debug environment for the MARL process"
   ]
  },
  {
   "cell_type": "code",
   "execution_count": 1,
   "metadata": {},
   "outputs": [],
   "source": [
    "%matplotlib inline\n",
    "import gym\n",
    "import math\n",
    "import random\n",
    "import numpy as np\n",
    "import matplotlib\n",
    "import matplotlib.pyplot as plt\n",
    "from collections import namedtuple\n",
    "from itertools import count\n",
    "from PIL import Image\n",
    "\n",
    "import torch\n",
    "import torch.nn as nn\n",
    "import torch.optim as optim\n",
    "import torch.nn.functional as F\n",
    "import torchvision.transforms as T\n",
    "from torch.autograd import Variable\n",
    "\n",
    "# set up matplotlib\n",
    "is_ipython = 'inline' in matplotlib.get_backend()\n",
    "if is_ipython:\n",
    "    from IPython import display\n",
    "\n",
    "plt.ion()\n",
    "\n",
    "# if gpu is to be used\n",
    "device = torch.device(\"cuda\" if torch.cuda.is_available() else \"cpu\")\n",
    "\n",
    "from utils.ReplayMemory import * \n",
    "from utils.networks import *\n",
    "from utils.agents import *\n",
    "from utils.plotting import *\n",
    "from utils.train_test_methods import *\n",
    "from utils.params import *\n",
    "from utils.retrieve_sim import *\n",
    "\n",
    "from importlib import reload\n",
    "import utils\n",
    "\n",
    "input_type = U_VELOCITY\n",
    "observe_type = O_VELOCITY\n",
    "observe_action = O_ACTION\n",
    "reward_mode=ALL_REWARD\n",
    "\n",
    "import os\n",
    "try:\n",
    "    os.mkdir('screencaps')\n",
    "except:\n",
    "    pass\n"
   ]
  },
  {
   "cell_type": "code",
   "execution_count": 103,
   "metadata": {},
   "outputs": [
    {
     "name": "stdout",
     "output_type": "stream",
     "text": [
      "Loading model from models/AC2Agent_AC2_dist_reward_posGauss_fixed0_m1208_soft_bound_cumu_posReward_N2_749\n"
     ]
    }
   ],
   "source": [
    "# Load the model and make the right environment\n",
    "reload(utils.agents)\n",
    "from utils.agents import *\n",
    "num_episode=500#250#500\n",
    "test_interval=10#0\n",
    "num_test=10#50\n",
    "num_iteration=200\n",
    "BATCH_SIZE=128#64#128\n",
    "save_sim_intv=50\n",
    "debug=False\n",
    "num_sample=50\n",
    "seed=22222\n",
    "hidden=32\n",
    "action_space=[-1,1]\n",
    "\n",
    "# rand_mode = NO_RAND\n",
    "rand_mode = GAUSS_RAND\n",
    "N = 2\n",
    "env = gym.make('ConsensusEnv:ConsensusContEnv-v0', N=N, dt=0.1, Delta=0.05, #o_radius=40000,\n",
    "              input_type=input_type, observe_type=observe_type, observe_action=O_ACTION, reward_mode=DIST_REWARD,\n",
    "                 boundary_policy=SOFT_PENALTY, finish_reward_policy=REWARD_IF_CONSENSUS, \n",
    "                 uses_boundary=False\n",
    "#                  uses_boundary=True\n",
    "        ).unwrapped\n",
    "agent = AC2Agent(device, env.N, env.nf, env.na, hidden, rand_modeA=rand_mode,\n",
    "                 learning_rateA=0.01, learning_rateC=0.02, mode=1208)\n",
    "agent.load_model('models/AC2Agent_AC2_dist_reward_posGauss_fixed0_m1208_soft_bound_cumu_posReward_N2_749')\n",
    "steps = 0"
   ]
  },
  {
   "cell_type": "code",
   "execution_count": 104,
   "metadata": {},
   "outputs": [
    {
     "data": {
      "text/plain": [
       "<matplotlib.image.AxesImage at 0x1609e6c18>"
      ]
     },
     "execution_count": 104,
     "metadata": {},
     "output_type": "execute_result"
    },
    {
     "data": {
      "image/png": "[encoded data removed]",
      "text/plain": [
       "<Figure size 432x288 with 1 Axes>"
      ]
     },
     "metadata": {
      "needs_background": "light"
     },
     "output_type": "display_data"
    }
   ],
   "source": [
    "# Copy the code from train and test functions, and prepare to run it\n",
    "agent.set_train(False)\n",
    "cum_reward = 0\n",
    "reward_hist = []\n",
    "\n",
    "state = env.reset()\n",
    "if agent.centralized:\n",
    "    state = env.state\n",
    "state = torch.from_numpy(state).float()\n",
    "state = Variable(state)\n",
    "\n",
    "img = env.render(mode=\"rgb_array\")\n",
    "env.close()\n",
    "plt.imshow(img)"
   ]
  },
  {
   "cell_type": "code",
   "execution_count": 105,
   "metadata": {},
   "outputs": [
    {
     "name": "stdout",
     "output_type": "stream",
     "text": [
      "Current env state: (loc in x, loc in y, vel in x, vel in y) \n",
      " [[ 0.          0.17738344]\n",
      " [ 0.         -0.15457512]\n",
      " [ 0.99999988  0.99999988]\n",
      " [-0.99999982 -0.99999988]] \n",
      " Observed state: (4x relative states, 2x self and neighbor actions, 1x time count)\n",
      " [[[ 0.00000000e+00 -1.77383442e-01]\n",
      "  [ 0.00000000e+00  1.54575116e-01]\n",
      "  [ 0.00000000e+00  0.00000000e+00]\n",
      "  [ 0.00000000e+00  5.96046448e-08]\n",
      "  [ 9.99999881e-01  9.99999881e-01]\n",
      "  [-9.99999821e-01 -9.99999881e-01]\n",
      "  [ 0.00000000e+00  0.00000000e+00]]\n",
      "\n",
      " [[ 1.77383442e-01  0.00000000e+00]\n",
      "  [-1.54575116e-01  0.00000000e+00]\n",
      "  [ 0.00000000e+00  0.00000000e+00]\n",
      "  [-5.96046448e-08  0.00000000e+00]\n",
      "  [ 9.99999881e-01  9.99999881e-01]\n",
      "  [-9.99999821e-01 -9.99999881e-01]\n",
      "  [ 0.00000000e+00  0.00000000e+00]]] \n",
      "Reward: \n",
      " [-94.1134224 -94.1134224]\n"
     ]
    },
    {
     "data": {
      "image/png": "[encoded data removed]",
      "text/plain": [
       "<Figure size 432x288 with 1 Axes>"
      ]
     },
     "metadata": {
      "needs_background": "light"
     },
     "output_type": "display_data"
    }
   ],
   "source": [
    "# Copy the code from train and test functions, and run it iteration by iteration\n",
    "with torch.no_grad():  \n",
    "    # Try to pick an action, react, and store the resulting behavior in the pool here\n",
    "    if agent.centralized:\n",
    "        action = agent.select_action(state, **{\n",
    "                'steps_done':steps, 'rand':False, 'num_sample':50, 'action_space':action_space\n",
    "            }).T\n",
    "    else:\n",
    "        actions = []\n",
    "        for i in range(N):\n",
    "            action = agent.select_action(state[i], **{\n",
    "                'steps_done':steps, 'rand':False, 'num_sample':50, 'action_space':action_space\n",
    "            })\n",
    "            actions.append(action)\n",
    "        action = np.array(actions).T \n",
    "\n",
    "    next_state, reward, done, _ = env.step(action)\n",
    "    img = env.render(mode=\"rgb_array\")\n",
    "    env.close()\n",
    "    plt.imshow(img)\n",
    "    \n",
    "    if agent.centralized:\n",
    "        next_state = env.state\n",
    "    print(\"Current env state: (loc in x, loc in y, vel in x, vel in y) \\n\", env.state[:4], \n",
    "          \"\\n Observed state: (4x relative states, 2x self and neighbor actions, 1x time count)\\n\", next_state, \n",
    "          \"\\nReward: \\n\", reward)\n",
    "    \n",
    "    next_state = Variable(torch.from_numpy(next_state).float()) # The float() probably avoids bug in net.forward()\n",
    "    state = next_state\n",
    "    cum_reward += sum(reward)\n",
    "    reward_hist.append(reward)\n",
    "    steps += 1\n",
    "\n",
    "    if done:\n",
    "        print(\"Took \", steps, \" steps to converge\")\n",
    "        "
   ]
  },
  {
   "cell_type": "code",
   "execution_count": 106,
   "metadata": {},
   "outputs": [
    {
     "data": {
      "text/plain": [
       "array([[0., 1.],\n",
       "       [1., 0.]])"
      ]
     },
     "execution_count": 106,
     "metadata": {},
     "output_type": "execute_result"
    }
   ],
   "source": [
    "env.Adj"
   ]
  },
  {
   "cell_type": "code",
   "execution_count": 111,
   "metadata": {},
   "outputs": [
    {
     "data": {
      "text/plain": [
       "array([[0.        , 0.23528356],\n",
       "       [0.23528356, 0.        ]])"
      ]
     },
     "execution_count": 111,
     "metadata": {},
     "output_type": "execute_result"
    }
   ],
   "source": [
    "diff = env.state.T.reshape((env.N,env.ns,1)) - env.state.reshape((1,env.ns,env.N))\n",
    "\n",
    "diff_norm = np.linalg.norm(diff[:,:2,:], ord=2, axis=1)\n",
    "\n",
    "diff_norm"
   ]
  },
  {
   "cell_type": "code",
   "execution_count": 108,
   "metadata": {},
   "outputs": [
    {
     "data": {
      "text/plain": [
       "array([[ 0.9999999,  0.9999999],\n",
       "       [-0.9999998, -0.9999999]], dtype=float32)"
      ]
     },
     "execution_count": 108,
     "metadata": {},
     "output_type": "execute_result"
    }
   ],
   "source": [
    "action"
   ]
  },
  {
   "cell_type": "code",
   "execution_count": 107,
   "metadata": {},
   "outputs": [
    {
     "data": {
      "text/plain": [
       "array([[ 0.        ,  0.17738344],\n",
       "       [ 0.        , -0.15457512],\n",
       "       [ 0.99999988,  0.99999988],\n",
       "       [-0.99999982, -0.99999988],\n",
       "       [ 0.        ,  0.        ],\n",
       "       [ 0.        ,  0.        ]])"
      ]
     },
     "execution_count": 107,
     "metadata": {},
     "output_type": "execute_result"
    }
   ],
   "source": [
    "env.state"
   ]
  },
  {
   "cell_type": "code",
   "execution_count": 110,
   "metadata": {},
   "outputs": [
    {
     "data": {
      "text/plain": [
       "tensor([[ 1., -1.,  1.,  1.]], grad_fn=<CatBackward>)"
      ]
     },
     "execution_count": 110,
     "metadata": {},
     "output_type": "execute_result"
    }
   ],
   "source": [
    "act_params = agent.netA(Variable(next_state[1].view(1, -1, N)))\n",
    "act_params"
   ]
  },
  {
   "cell_type": "code",
   "execution_count": 95,
   "metadata": {},
   "outputs": [
    {
     "data": {
      "text/plain": [
       "tensor([[ 0.7810, -1.2545]])"
      ]
     },
     "execution_count": 95,
     "metadata": {},
     "output_type": "execute_result"
    }
   ],
   "source": [
    "pred_action = torch.zeros(1,agent.na)\n",
    "pred_probs = torch.zeros(1)\n",
    "\n",
    "distrb = torch.distributions.Normal(\n",
    "    act_params[:,:agent.na],\n",
    "    torch.diag( nn.functional.softplus( act_params[:,agent.na:] ) )\n",
    ")\n",
    "aa = distrb.sample()\n",
    "aa"
   ]
  },
  {
   "cell_type": "code",
   "execution_count": 96,
   "metadata": {},
   "outputs": [
    {
     "data": {
      "text/plain": [
       "(tensor([[ 0.7810, -1.0000]]),\n",
       " tensor([[-1.2054, -1.1915]], grad_fn=<SubBackward0>))"
      ]
     },
     "execution_count": 96,
     "metadata": {},
     "output_type": "execute_result"
    }
   ],
   "source": [
    "pred_action = torch.clamp( aa, agent.action_range[0], agent.action_range[1] )\n",
    "pred_probs = distrb.log_prob(pred_action)\n",
    "pred_action, pred_probs"
   ]
  },
  {
   "cell_type": "code",
   "execution_count": 90,
   "metadata": {},
   "outputs": [
    {
     "data": {
      "text/plain": [
       "tensor([[1.3133, 1.3133]], grad_fn=<SoftplusBackward>)"
      ]
     },
     "execution_count": 90,
     "metadata": {},
     "output_type": "execute_result"
    }
   ],
   "source": [
    "nn.functional.softplus( act_params[:,agent.na:] )"
   ]
  },
  {
   "cell_type": "code",
   "execution_count": 91,
   "metadata": {},
   "outputs": [
    {
     "data": {
      "text/plain": [
       "tensor([[-0.4820, -2.4129]])"
      ]
     },
     "execution_count": 91,
     "metadata": {},
     "output_type": "execute_result"
    }
   ],
   "source": [
    "aa = distrb.sample()\n",
    "aa"
   ]
  },
  {
   "cell_type": "code",
   "execution_count": 92,
   "metadata": {},
   "outputs": [
    {
     "data": {
      "text/plain": [
       "tensor([[-0.4820, -1.0000]])"
      ]
     },
     "execution_count": 92,
     "metadata": {},
     "output_type": "execute_result"
    }
   ],
   "source": [
    "torch.clamp( aa, agent.action_range[0], agent.action_range[1] )"
   ]
  },
  {
   "cell_type": "code",
   "execution_count": 102,
   "metadata": {},
   "outputs": [
    {
     "data": {
      "text/plain": [
       "2"
      ]
     },
     "execution_count": 102,
     "metadata": {},
     "output_type": "execute_result"
    }
   ],
   "source": [
    "agent.rand_modeA"
   ]
  },
  {
   "cell_type": "code",
   "execution_count": 108,
   "metadata": {},
   "outputs": [
    {
     "name": "stdout",
     "output_type": "stream",
     "text": [
      "Updated mean and stdev: -180041.41997785214 and 91282.13883207772\n",
      "Test result at episode  0 : \n",
      "Test result at episode  1 : \n",
      "Finished training env with 3 agents for AC\n"
     ]
    }
   ],
   "source": [
    "# Test out centralized environment\n",
    "reload(utils.ReplayMemory)\n",
    "reload(utils.networks)\n",
    "reload(utils.agents)\n",
    "reload(utils.plotting)\n",
    "reload(utils.train_test_methods)\n",
    "from utils.ReplayMemory import * \n",
    "from utils.networks import *\n",
    "from utils.agents import *\n",
    "from utils.plotting import *\n",
    "from utils.train_test_methods import *\n",
    "\n",
    "num_episode=2#00#250#500\n",
    "test_interval=1#0#0\n",
    "num_test=1#0#50\n",
    "num_iteration=20#0\n",
    "BATCH_SIZE=4#8#64#128\n",
    "save_sim_intv=50\n",
    "debug=False\n",
    "num_sample=50\n",
    "seed=22222\n",
    "hidden=32\n",
    "action_space=[-1,1]\n",
    "\n",
    "# rand_mode = NO_RAND\n",
    "rand_mode = GAUSS_RAND\n",
    "\n",
    "N_list = [3]\n",
    "env_list = []\n",
    "for N_ in N_list:\n",
    "    env_list.append(\n",
    "        gym.make('ConsensusEnv:CentralizedConsensusContEnv-v0', N=N_, dt=0.1, Delta=0.05, #o_radius=40000,\n",
    "              input_type=input_type, observe_type=observe_type, observe_action=O_ACTION, \n",
    "                 reward_mode=DIST_REWARD,#|ACT_REWARD,\n",
    "#                  uses_boundary=True,\n",
    "                 uses_boundary=False,\n",
    "                 dist_reward_func=lambda x : (np.abs(x) + 2) * (np.abs(x) + 2),\n",
    "                 boundary_policy=SOFT_PENALTY, finish_reward_policy=REWARD_IF_CONSENSUS\n",
    "        ).unwrapped\n",
    "    )\n",
    "#     env_list[-1].mov_w = 100\n",
    "\n",
    "AC2_list = []\n",
    "for i,N_ in enumerate(N_list):\n",
    "    AC2_list.append(\n",
    "        AC2Agent(device, N_, env_list[i].ns, # IMPORTANT!!! use .ns for centralized, and .nf for decentralized\n",
    "                 env_list[i].na, hidden, rand_modeA=rand_mode, centralized=True,\n",
    "                 learning_rateA=0.01, learning_rateC=0.02, mode=1208)\n",
    "    )\n",
    "\n",
    "sim_fnames = ['AC2_centralizedTest_m1208_N{0}'.format(N_) for N_ in N_list]\n",
    "memory_backup = []\n",
    "AC2_hist = []\n",
    "AC2_loss = []\n",
    "for i,N_ in enumerate(N_list):\n",
    "    AC2_loss.append([])\n",
    "    memory_backup.append( ReplayMemory(1000 * env_list[i].N) )\n",
    "    AC2_hist.append(\n",
    "        train(AC2_list[i], env_list[i], \n",
    "              num_episode=num_episode, test_interval=test_interval, num_test=num_test, num_iteration=num_iteration, \n",
    "              BATCH_SIZE=BATCH_SIZE, num_sample=num_sample, action_space=[-1,1], debug=debug, memory=memory_backup[-1],\n",
    "#               update_mode=UPDATE_PER_ITERATION, reward_mode=FUTURE_REWARD_YES_NORMALIZE, \n",
    "              update_mode=UPDATE_PER_EPISODE, reward_mode=FUTURE_REWARD_YES|FUTURE_REWARD_NORMALIZE,\n",
    "              loss_history=AC2_loss[i],\n",
    "              save_sim_intv=save_sim_intv, save_sim_fnames=[sim_fnames[i]], \n",
    "              imdir='screencaps/', useVid=False)\n",
    "    )\n",
    "    print(\"Finished training env with {0} agents for AC\".format(N_))\n"
   ]
  },
  {
   "cell_type": "code",
   "execution_count": 116,
   "metadata": {},
   "outputs": [
    {
     "name": "stdout",
     "output_type": "stream",
     "text": [
      "Updated mean and stdev: -95518.52340076742 and 60204.91256009486\n",
      "Test result at episode  0 : \n",
      "Test result at episode  50 : \n",
      "Test result at episode  100 : \n",
      "Test result at episode  150 : \n",
      "Test result at episode  200 : \n",
      "Test result at episode  250 : \n",
      "Test result at episode  300 : \n",
      "Test result at episode  350 : \n",
      "Finished episode  0  with  199 ;\n",
      "cumulative reward =  -188834802.59624672\n",
      "Test result at episode  400 : \n",
      "Test result at episode  450 : \n",
      "Test result at episode  500 : \n",
      "Test result at episode  550 : \n",
      "Test result at episode  600 : \n",
      "Test result at episode  650 : \n",
      "Test result at episode  700 : \n",
      "Test result at episode  750 : \n",
      "Finished episode  0  with  199 ;\n",
      "cumulative reward =  -214573318.55784544\n",
      "Test result at episode  800 : \n",
      "Test result at episode  850 : \n",
      "Test result at episode  900 : \n",
      "Test result at episode  950 : \n",
      "Test result at episode  1000 : \n",
      "Test result at episode  1050 : \n",
      "Test result at episode  1100 : \n",
      "Test result at episode  1150 : \n",
      "Finished episode  0  with  199 ;\n",
      "cumulative reward =  -199319442.5756596\n",
      "Test result at episode  1200 : \n",
      "Test result at episode  1250 : \n",
      "Test result at episode  1300 : \n",
      "Test result at episode  1350 : \n",
      "Test result at episode  1400 : \n",
      "Test result at episode  1450 : \n",
      "Test result at episode  1500 : \n",
      "Test result at episode  1550 : \n",
      "Finished episode  0  with  199 ;\n",
      "cumulative reward =  -170216592.587853\n",
      "Test result at episode  1600 : \n",
      "Test result at episode  1650 : \n",
      "Test result at episode  1700 : \n",
      "Test result at episode  1750 : \n",
      "Test result at episode  1800 : \n",
      "Test result at episode  1850 : \n",
      "Test result at episode  1900 : \n",
      "Test result at episode  1950 : \n",
      "Finished episode  0  with  199 ;\n",
      "cumulative reward =  -9219414.001120916\n",
      "Finished training env with 3 agents for AC\n"
     ]
    },
    {
     "data": {
      "text/plain": [
       "<Figure size 432x288 with 0 Axes>"
      ]
     },
     "metadata": {},
     "output_type": "display_data"
    }
   ],
   "source": [
    "reload(utils.ReplayMemory)\n",
    "reload(utils.networks)\n",
    "reload(utils.agents)\n",
    "reload(utils.plotting)\n",
    "reload(utils.train_test_methods)\n",
    "from utils.ReplayMemory import * \n",
    "from utils.networks import *\n",
    "from utils.agents import *\n",
    "from utils.plotting import *\n",
    "from utils.train_test_methods import *\n",
    "\n",
    "num_episode=2000#500#250#500\n",
    "test_interval=5*10#0\n",
    "num_test=10#10#50\n",
    "num_iteration=200\n",
    "BATCH_SIZE=2*128#64#128\n",
    "save_sim_intv=50*2*4\n",
    "debug=False\n",
    "num_sample=50\n",
    "seed=22222\n",
    "hidden=32\n",
    "action_space=[-1,1]\n",
    "\n",
    "# rand_mode = NO_RAND\n",
    "rand_mode = GAUSS_RAND\n",
    "\n",
    "N_list = [3]\n",
    "env_list = []\n",
    "for N_ in N_list:\n",
    "    env_list.append(\n",
    "        gym.make('ConsensusEnv:CentralizedConsensusContEnv-v0', N=N_, dt=0.1, Delta=0.05, #o_radius=40000,\n",
    "              input_type=input_type, observe_type=observe_type, observe_action=O_ACTION, \n",
    "                 reward_mode=DIST_REWARD,#|ACT_REWARD,\n",
    "#                  uses_boundary=True,\n",
    "                 uses_boundary=False,\n",
    "                 dist_reward_func=lambda x : (np.abs(x) + 2) * (np.abs(x) + 2),\n",
    "                 boundary_policy=SOFT_PENALTY, finish_reward_policy=REWARD_IF_CONSENSUS\n",
    "        ).unwrapped\n",
    "    )\n",
    "#     env_list[-1].mov_w = 100\n",
    "\n",
    "AC2_list = []\n",
    "for i,N_ in enumerate(N_list):\n",
    "    AC2_list.append(\n",
    "        AC2Agent(device, N_, env_list[i].ns, # IMPORTANT!!! use .ns for centralized, and .nf for decentralized\n",
    "                 env_list[i].na, hidden, rand_modeA=rand_mode, centralized=True,\n",
    "                 neg_loss_sign=True,#False,\n",
    "                 learning_rateA=0.01, learning_rateC=0.02, mode=12088)\n",
    "    )\n",
    "\n",
    "sim_fnames = ['AC2_centralizedTest_rightNormalize_secondTrain_m0_N{0}'.format(N_) for N_ in N_list]\n",
    "memory_backup = []\n",
    "AC2_hist = []\n",
    "AC2_loss = []\n",
    "for i,N_ in enumerate(N_list):\n",
    "    AC2_loss.append([])\n",
    "    memory_backup.append( ReplayMemory(1000 * env_list[i].N) )\n",
    "    AC2_hist.append(\n",
    "        train(AC2_list[i], env_list[i], \n",
    "              num_episode=num_episode, test_interval=test_interval, num_test=num_test, num_iteration=num_iteration, \n",
    "              BATCH_SIZE=BATCH_SIZE, num_sample=num_sample, action_space=[-1,1], debug=debug, memory=memory_backup[-1],\n",
    "              update_mode=UPDATE_PER_EPISODE, #UPDATE_PER_ITERATION,\n",
    "              reward_mode=FUTURE_REWARD_NORMALIZE,\n",
    "#               reward_mode=FUTURE_REWARD_YES,#|FUTURE_REWARD_NORMALIZE, #FUTURE_REWARD_YES_NORMALIZE, \n",
    "              loss_history=AC2_loss[i], #reward_mean_var=(torch.Tensor([-69600]), torch.Tensor([46290])),\n",
    "              save_sim_intv=save_sim_intv, save_sim_fnames=[sim_fnames[i]], \n",
    "              imdir='screencaps/', useVid=False)\n",
    "    )\n",
    "    print(\"Finished training env with {0} agents for AC\".format(N_))\n"
   ]
  },
  {
   "cell_type": "code",
   "execution_count": null,
   "metadata": {},
   "outputs": [
    {
     "name": "stdout",
     "output_type": "stream",
     "text": [
      "Test result at episode  0 : \n"
     ]
    }
   ],
   "source": [
    "# More training\n",
    "reward_mean_var = (torch.Tensor([-95518.52340076742]), torch.Tensor([60204.91256009486]))\n",
    "sim_fnames = ['AC2_centralizedTest_rightNormalize_secondTrain_m0_N{0}'.format(N_) for N_ in N_list]\n",
    "for i,N_ in enumerate(N_list):\n",
    "    AC2_hist[i] += train(AC2_list[i], env_list[i], \n",
    "              num_episode=num_episode, test_interval=test_interval, num_test=num_test, num_iteration=num_iteration, \n",
    "              BATCH_SIZE=BATCH_SIZE, num_sample=num_sample, action_space=[-1,1], debug=debug, memory=memory_backup[i],\n",
    "              update_mode=UPDATE_PER_EPISODE, #UPDATE_PER_ITERATION,\n",
    "              reward_mode=FUTURE_REWARD_NORMALIZE,\n",
    "#               reward_mode=FUTURE_REWARD_YES,#|FUTURE_REWARD_NORMALIZE, #FUTURE_REWARD_YES_NORMALIZE, \n",
    "              loss_history=AC2_loss[i], reward_mean_var=reward_mean_var,\n",
    "              save_sim_intv=save_sim_intv, save_sim_fnames=[sim_fnames[i]], \n",
    "              imdir='screencaps/', useVid=False)\n",
    "    print(\"Finished training env with {0} agents for AC\".format(N_))\n"
   ]
  },
  {
   "cell_type": "code",
   "execution_count": 117,
   "metadata": {},
   "outputs": [
    {
     "data": {
      "image/png": "[encoded data removed]",
      "text/plain": [
       "<Figure size 864x504 with 3 Axes>"
      ]
     },
     "metadata": {
      "needs_background": "light"
     },
     "output_type": "display_data"
    }
   ],
   "source": [
    "skip=1\n",
    "plot_reward_hist([h[::skip] for h in AC2_hist], test_interval*skip, \n",
    "                 ['AC2_N{0}'.format(N_) for N_ in N_list], \n",
    "                 log=False, num_iteration=num_iteration, N_list=([N for N in N_list]), bar=True)"
   ]
  },
  {
   "cell_type": "code",
   "execution_count": 118,
   "metadata": {},
   "outputs": [
    {
     "data": {
      "image/png": "[encoded data removed]",
      "text/plain": [
       "<Figure size 864x504 with 2 Axes>"
      ]
     },
     "metadata": {
      "needs_background": "light"
     },
     "output_type": "display_data"
    }
   ],
   "source": [
    "skip=1\n",
    "plot_loss_hist(hists=[h[::skip] for h in AC2_loss], hist_names=['AC2_N{0}'.format(N_) for N_ in N_list], log=False, \n",
    "               num_iteration=num_iteration, update_mode=UPDATE_PER_ITERATION, bar=False)"
   ]
  },
  {
   "cell_type": "code",
   "execution_count": 55,
   "metadata": {},
   "outputs": [
    {
     "name": "stdout",
     "output_type": "stream",
     "text": [
      "Last  layer Actor gradients after backward:  tensor(0.0001)\n",
      "Mid   layer Actor gradients after backward:  tensor(-3.1980e-05)\n",
      "Front layer Actor gradients after backward:  tensor(-0.0058)\n"
     ]
    }
   ],
   "source": [
    "print(\"Last  layer Actor gradients after backward: \", torch.mean(AC2_list[i].netA.ANlayers[0].weight.grad))\n",
    "print(\"Mid   layer Actor gradients after backward: \", torch.mean(AC2_list[i].netA.ANlayers[2].weight.grad))\n",
    "print(\"Front layer Actor gradients after backward: \", torch.mean(AC2_list[i].netA.ANlayers[4].weight.grad))"
   ]
  },
  {
   "cell_type": "code",
   "execution_count": 57,
   "metadata": {},
   "outputs": [
    {
     "data": {
      "text/plain": [
       "<matplotlib.image.AxesImage at 0x1508680b8>"
      ]
     },
     "execution_count": 57,
     "metadata": {},
     "output_type": "execute_result"
    },
    {
     "data": {
      "image/png": "[encoded data removed]",
      "text/plain": [
       "<Figure size 432x288 with 1 Axes>"
      ]
     },
     "metadata": {
      "needs_background": "light"
     },
     "output_type": "display_data"
    }
   ],
   "source": [
    "# Copy the code from train and test functions, and prepare to run it\n",
    "agent = AC2_list[0]\n",
    "env = env_list[0]\n",
    "steps=0\n",
    "agent.set_train(False)\n",
    "cum_reward = 0\n",
    "reward_hist = []\n",
    "\n",
    "state = env.reset()\n",
    "if agent.centralized:\n",
    "    state = env.state\n",
    "state = torch.from_numpy(state).float()\n",
    "state = Variable(state)\n",
    "\n",
    "img = env.render(mode=\"rgb_array\")\n",
    "env.close()\n",
    "plt.imshow(img)"
   ]
  },
  {
   "cell_type": "code",
   "execution_count": 59,
   "metadata": {},
   "outputs": [
    {
     "name": "stdout",
     "output_type": "stream",
     "text": [
      "Current env state: (loc in x, loc in y, vel in x, vel in y) \n",
      " [[ 0.          0.21773601  0.34361429]\n",
      " [ 0.         -0.21629022 -0.30499561]\n",
      " [-0.80893409 -1.          1.        ]\n",
      " [ 1.         -1.         -1.        ]] \n",
      " Observed state: (4x relative states, 2x self and neighbor actions, 1x time count)\n",
      " [[ 0.          0.21773601  0.34361429]\n",
      " [ 0.         -0.21629022 -0.30499561]\n",
      " [-0.80893409 -1.          1.        ]\n",
      " [ 1.         -1.         -1.        ]\n",
      " [ 0.          0.          0.        ]\n",
      " [ 0.          0.          0.        ]] \n",
      "Reward: \n",
      " -17608.30766285311\n"
     ]
    },
    {
     "ename": "TypeError",
     "evalue": "'numpy.float64' object is not iterable",
     "output_type": "error",
     "traceback": [
      "\u001b[0;31m---------------------------------------------------------------------------\u001b[0m",
      "\u001b[0;31mTypeError\u001b[0m                                 Traceback (most recent call last)",
      "\u001b[0;32m<ipython-input-59-a3388cff6186>\u001b[0m in \u001b[0;36m<module>\u001b[0;34m\u001b[0m\n\u001b[1;32m     29\u001b[0m     \u001b[0mnext_state\u001b[0m \u001b[0;34m=\u001b[0m \u001b[0mVariable\u001b[0m\u001b[0;34m(\u001b[0m\u001b[0mtorch\u001b[0m\u001b[0;34m.\u001b[0m\u001b[0mfrom_numpy\u001b[0m\u001b[0;34m(\u001b[0m\u001b[0mnext_state\u001b[0m\u001b[0;34m)\u001b[0m\u001b[0;34m.\u001b[0m\u001b[0mfloat\u001b[0m\u001b[0;34m(\u001b[0m\u001b[0;34m)\u001b[0m\u001b[0;34m)\u001b[0m \u001b[0;31m# The float() probably avoids bug in net.forward()\u001b[0m\u001b[0;34m\u001b[0m\u001b[0m\n\u001b[1;32m     30\u001b[0m     \u001b[0mstate\u001b[0m \u001b[0;34m=\u001b[0m \u001b[0mnext_state\u001b[0m\u001b[0;34m\u001b[0m\u001b[0m\n\u001b[0;32m---> 31\u001b[0;31m     \u001b[0mcum_reward\u001b[0m \u001b[0;34m+=\u001b[0m \u001b[0msum\u001b[0m\u001b[0;34m(\u001b[0m\u001b[0mreward\u001b[0m\u001b[0;34m)\u001b[0m\u001b[0;34m\u001b[0m\u001b[0m\n\u001b[0m\u001b[1;32m     32\u001b[0m     \u001b[0mreward_hist\u001b[0m\u001b[0;34m.\u001b[0m\u001b[0mappend\u001b[0m\u001b[0;34m(\u001b[0m\u001b[0mreward\u001b[0m\u001b[0;34m)\u001b[0m\u001b[0;34m\u001b[0m\u001b[0m\n\u001b[1;32m     33\u001b[0m     \u001b[0msteps\u001b[0m \u001b[0;34m+=\u001b[0m \u001b[0;36m1\u001b[0m\u001b[0;34m\u001b[0m\u001b[0m\n",
      "\u001b[0;31mTypeError\u001b[0m: 'numpy.float64' object is not iterable"
     ]
    },
    {
     "data": {
      "image/png": "[encoded data removed]",
      "text/plain": [
       "<Figure size 432x288 with 1 Axes>"
      ]
     },
     "metadata": {
      "needs_background": "light"
     },
     "output_type": "display_data"
    }
   ],
   "source": [
    "# Copy the code from train and test functions, and run it iteration by iteration\n",
    "with torch.no_grad():  \n",
    "    # Try to pick an action, react, and store the resulting behavior in the pool here\n",
    "    if agent.centralized:\n",
    "        action = agent.select_action(state, **{\n",
    "                'steps_done':steps, 'rand':False, 'num_sample':50, 'action_space':action_space\n",
    "            }).T\n",
    "    else:\n",
    "        actions = []\n",
    "        for i in range(N):\n",
    "            action = agent.select_action(state[i], **{\n",
    "                'steps_done':steps, 'rand':False, 'num_sample':50, 'action_space':action_space\n",
    "            })\n",
    "            actions.append(action)\n",
    "        action = np.array(actions).T \n",
    "\n",
    "    next_state, reward, done, _ = env.step(action)\n",
    "    img = env.render(mode=\"rgb_array\")\n",
    "    env.close()\n",
    "    plt.imshow(img)\n",
    "    \n",
    "    if agent.centralized:\n",
    "        next_state = env.state\n",
    "    print(\"Current env state: (loc in x, loc in y, vel in x, vel in y) \\n\", env.state[:4], \n",
    "          \"\\n Observed state: (4x relative states, 2x self and neighbor actions, 1x time count)\\n\", next_state, \n",
    "          \"\\nReward: \\n\", reward)\n",
    "    \n",
    "    next_state = Variable(torch.from_numpy(next_state).float()) # The float() probably avoids bug in net.forward()\n",
    "    state = next_state\n",
    "    cum_reward += reward\n",
    "    reward_hist.append(reward)\n",
    "    steps += 1\n",
    "\n",
    "    if done:\n",
    "        print(\"Took \", steps, \" steps to converge\")\n",
    "        "
   ]
  },
  {
   "cell_type": "code",
   "execution_count": 106,
   "metadata": {},
   "outputs": [
    {
     "data": {
      "text/plain": [
       "array([[0., 1.],\n",
       "       [1., 0.]])"
      ]
     },
     "execution_count": 106,
     "metadata": {},
     "output_type": "execute_result"
    }
   ],
   "source": [
    "env.Adj"
   ]
  },
  {
   "cell_type": "code",
   "execution_count": 108,
   "metadata": {},
   "outputs": [
    {
     "data": {
      "text/plain": [
       "array([[ 0.9999999,  0.9999999],\n",
       "       [-0.9999998, -0.9999999]], dtype=float32)"
      ]
     },
     "execution_count": 108,
     "metadata": {},
     "output_type": "execute_result"
    }
   ],
   "source": [
    "action"
   ]
  },
  {
   "cell_type": "code",
   "execution_count": 107,
   "metadata": {},
   "outputs": [
    {
     "data": {
      "text/plain": [
       "array([[ 0.        ,  0.17738344],\n",
       "       [ 0.        , -0.15457512],\n",
       "       [ 0.99999988,  0.99999988],\n",
       "       [-0.99999982, -0.99999988],\n",
       "       [ 0.        ,  0.        ],\n",
       "       [ 0.        ,  0.        ]])"
      ]
     },
     "execution_count": 107,
     "metadata": {},
     "output_type": "execute_result"
    }
   ],
   "source": [
    "env.state"
   ]
  },
  {
   "cell_type": "code",
   "execution_count": 110,
   "metadata": {},
   "outputs": [
    {
     "data": {
      "text/plain": [
       "tensor([[ 1., -1.,  1.,  1.]], grad_fn=<CatBackward>)"
      ]
     },
     "execution_count": 110,
     "metadata": {},
     "output_type": "execute_result"
    }
   ],
   "source": [
    "act_params = agent.netA(Variable(next_state[1].view(1, -1, N)))\n",
    "act_params"
   ]
  },
  {
   "cell_type": "code",
   "execution_count": 95,
   "metadata": {},
   "outputs": [
    {
     "data": {
      "text/plain": [
       "tensor([[ 0.7810, -1.2545]])"
      ]
     },
     "execution_count": 95,
     "metadata": {},
     "output_type": "execute_result"
    }
   ],
   "source": [
    "pred_action = torch.zeros(1,agent.na)\n",
    "pred_probs = torch.zeros(1)\n",
    "\n",
    "distrb = torch.distributions.Normal(\n",
    "    act_params[:,:agent.na],\n",
    "    torch.diag( nn.functional.softplus( act_params[:,agent.na:] ) )\n",
    ")\n",
    "aa = distrb.sample()\n",
    "aa"
   ]
  },
  {
   "cell_type": "code",
   "execution_count": 96,
   "metadata": {},
   "outputs": [
    {
     "data": {
      "text/plain": [
       "(tensor([[ 0.7810, -1.0000]]),\n",
       " tensor([[-1.2054, -1.1915]], grad_fn=<SubBackward0>))"
      ]
     },
     "execution_count": 96,
     "metadata": {},
     "output_type": "execute_result"
    }
   ],
   "source": [
    "pred_action = torch.clamp( aa, agent.action_range[0], agent.action_range[1] )\n",
    "pred_probs = distrb.log_prob(pred_action)\n",
    "pred_action, pred_probs"
   ]
  },
  {
   "cell_type": "code",
   "execution_count": 90,
   "metadata": {},
   "outputs": [
    {
     "data": {
      "text/plain": [
       "tensor([[1.3133, 1.3133]], grad_fn=<SoftplusBackward>)"
      ]
     },
     "execution_count": 90,
     "metadata": {},
     "output_type": "execute_result"
    }
   ],
   "source": [
    "nn.functional.softplus( act_params[:,agent.na:] )"
   ]
  },
  {
   "cell_type": "code",
   "execution_count": 91,
   "metadata": {},
   "outputs": [
    {
     "data": {
      "text/plain": [
       "tensor([[-0.4820, -2.4129]])"
      ]
     },
     "execution_count": 91,
     "metadata": {},
     "output_type": "execute_result"
    }
   ],
   "source": [
    "aa = distrb.sample()\n",
    "aa"
   ]
  },
  {
   "cell_type": "code",
   "execution_count": 92,
   "metadata": {},
   "outputs": [
    {
     "data": {
      "text/plain": [
       "tensor([[-0.4820, -1.0000]])"
      ]
     },
     "execution_count": 92,
     "metadata": {},
     "output_type": "execute_result"
    }
   ],
   "source": [
    "torch.clamp( aa, agent.action_range[0], agent.action_range[1] )"
   ]
  },
  {
   "cell_type": "code",
   "execution_count": 102,
   "metadata": {},
   "outputs": [
    {
     "data": {
      "text/plain": [
       "2"
      ]
     },
     "execution_count": 102,
     "metadata": {},
     "output_type": "execute_result"
    }
   ],
   "source": [
    "agent.rand_modeA"
   ]
  },
  {
   "cell_type": "code",
   "execution_count": 6,
   "metadata": {},
   "outputs": [
    {
     "data": {
      "text/plain": [
       "array([[[1., 1., 1.]],\n",
       "\n",
       "       [[1., 1., 1.]],\n",
       "\n",
       "       [[1., 1., 1.]]])"
      ]
     },
     "execution_count": 6,
     "metadata": {},
     "output_type": "execute_result"
    }
   ],
   "source": [
    "np.ones((env_list[0].N,1,env_list[0].N))"
   ]
  },
  {
   "cell_type": "code",
   "execution_count": 11,
   "metadata": {},
   "outputs": [
    {
     "ename": "TypeError",
     "evalue": "data type not understood",
     "output_type": "error",
     "traceback": [
      "\u001b[0;31m---------------------------------------------------------------------------\u001b[0m",
      "\u001b[0;31mTypeError\u001b[0m                                 Traceback (most recent call last)",
      "\u001b[0;32m<ipython-input-11-1277453c8a9e>\u001b[0m in \u001b[0;36m<module>\u001b[0;34m\u001b[0m\n\u001b[0;32m----> 1\u001b[0;31m \u001b[0menv_list\u001b[0m\u001b[0;34m[\u001b[0m\u001b[0;36m0\u001b[0m\u001b[0;34m]\u001b[0m\u001b[0;34m.\u001b[0m\u001b[0mfilter_neighbor_actions\u001b[0m\u001b[0;34m(\u001b[0m\u001b[0mnp\u001b[0m\u001b[0;34m.\u001b[0m\u001b[0mzeros\u001b[0m\u001b[0;34m(\u001b[0m\u001b[0;34m(\u001b[0m\u001b[0;36m2\u001b[0m\u001b[0;34m,\u001b[0m\u001b[0;36m3\u001b[0m\u001b[0;34m)\u001b[0m\u001b[0;34m)\u001b[0m\u001b[0;34m)\u001b[0m\u001b[0;34m\u001b[0m\u001b[0m\n\u001b[0m",
      "\u001b[0;32m~/Documents/GT 20F/7000/GNN_experiments/ConsensusEnv/ConsensusEnv/envs/ConsensusContEnv.py\u001b[0m in \u001b[0;36mfilter_neighbor_actions\u001b[0;34m(self, action)\u001b[0m\n\u001b[1;32m    487\u001b[0m         \u001b[0;31m# self.Adj has shape (N,N). Need to add diagonal 1s because agent should be able to see its own actions.\u001b[0m\u001b[0;34m\u001b[0m\u001b[0;34m\u001b[0m\u001b[0m\n\u001b[1;32m    488\u001b[0m         \u001b[0;31m### TODO: Check if this multiplication makes sense. Should it be a matmul??\u001b[0m\u001b[0;34m\u001b[0m\u001b[0;34m\u001b[0m\u001b[0m\n\u001b[0;32m--> 489\u001b[0;31m         \u001b[0;32mreturn\u001b[0m \u001b[0mnp\u001b[0m\u001b[0;34m.\u001b[0m\u001b[0mones\u001b[0m\u001b[0;34m(\u001b[0m \u001b[0mshape\u001b[0m\u001b[0;34m=\u001b[0m\u001b[0;34m(\u001b[0m\u001b[0mself\u001b[0m\u001b[0;34m.\u001b[0m\u001b[0mN\u001b[0m\u001b[0;34m,\u001b[0m \u001b[0;36m1\u001b[0m\u001b[0;34m,\u001b[0m \u001b[0mself\u001b[0m\u001b[0;34m.\u001b[0m\u001b[0mN\u001b[0m\u001b[0;34m)\u001b[0m\u001b[0;34m,\u001b[0m \u001b[0mdtype\u001b[0m\u001b[0;34m=\u001b[0m\u001b[0mfloat\u001b[0m \u001b[0;34m)\u001b[0m \u001b[0;34m*\u001b[0m \u001b[0maction\u001b[0m\u001b[0;34m\u001b[0m\u001b[0m\n\u001b[0m",
      "\u001b[0;32m/Library/Frameworks/Python.framework/Versions/3.6/lib/python3.6/site-packages/numpy/core/numeric.py\u001b[0m in \u001b[0;36mones\u001b[0;34m(shape, dtype, order)\u001b[0m\n\u001b[1;32m    205\u001b[0m \u001b[0;34m\u001b[0m\u001b[0m\n\u001b[1;32m    206\u001b[0m     \"\"\"\n\u001b[0;32m--> 207\u001b[0;31m     \u001b[0ma\u001b[0m \u001b[0;34m=\u001b[0m \u001b[0mempty\u001b[0m\u001b[0;34m(\u001b[0m\u001b[0mshape\u001b[0m\u001b[0;34m,\u001b[0m \u001b[0mdtype\u001b[0m\u001b[0;34m,\u001b[0m \u001b[0morder\u001b[0m\u001b[0;34m)\u001b[0m\u001b[0;34m\u001b[0m\u001b[0m\n\u001b[0m\u001b[1;32m    208\u001b[0m     \u001b[0mmultiarray\u001b[0m\u001b[0;34m.\u001b[0m\u001b[0mcopyto\u001b[0m\u001b[0;34m(\u001b[0m\u001b[0ma\u001b[0m\u001b[0;34m,\u001b[0m \u001b[0;36m1\u001b[0m\u001b[0;34m,\u001b[0m \u001b[0mcasting\u001b[0m\u001b[0;34m=\u001b[0m\u001b[0;34m'unsafe'\u001b[0m\u001b[0;34m)\u001b[0m\u001b[0;34m\u001b[0m\u001b[0m\n\u001b[1;32m    209\u001b[0m     \u001b[0;32mreturn\u001b[0m \u001b[0ma\u001b[0m\u001b[0;34m\u001b[0m\u001b[0m\n",
      "\u001b[0;31mTypeError\u001b[0m: data type not understood"
     ]
    }
   ],
   "source": [
    "env_list[0].filter_neighbor_actions(np.zeros((2,3)))"
   ]
  },
  {
   "cell_type": "code",
   "execution_count": 92,
   "metadata": {},
   "outputs": [
    {
     "data": {
      "text/plain": [
       "[Transition(state=tensor([[-0.0831, -0.0087, -0.0612],\n",
       "         [ 0.1053,  0.1245, -0.0707],\n",
       "         [-0.2744,  0.0338, -0.7043],\n",
       "         [ 0.2791,  0.8840, -0.0294],\n",
       "         [ 0.0000,  0.0000,  0.0000],\n",
       "         [ 0.0000,  0.0000,  0.0000]]), action=array([[ 0.52913874, -1.        ],\n",
       "        [-1.        , -1.        ],\n",
       "        [-1.        ,  0.38325417]], dtype=float32), next_state=tensor([[ 0.0000, -0.0786, -0.1310],\n",
       "         [ 0.0000,  0.0192, -0.0377],\n",
       "         [ 0.5291, -1.0000, -1.0000],\n",
       "         [-1.0000, -1.0000,  0.3833],\n",
       "         [ 0.0000,  0.0000,  0.0000],\n",
       "         [ 0.0000,  0.0000,  0.0000]]), reward=-15367.5050196191),\n",
       " Transition(state=tensor([[ 0.0000, -0.0786, -0.1310],\n",
       "         [ 0.0000,  0.0192, -0.0377],\n",
       "         [ 0.5291, -1.0000, -1.0000],\n",
       "         [-1.0000, -1.0000,  0.3833],\n",
       "         [ 0.0000,  0.0000,  0.0000],\n",
       "         [ 0.0000,  0.0000,  0.0000]]), action=array([[ 1.        , -1.        ],\n",
       "        [-1.        , -0.56300724],\n",
       "        [-0.5802074 ,  1.        ]], dtype=float32), next_state=tensor([[ 0.0000, -0.2786, -0.2890],\n",
       "         [ 0.0000,  0.0629,  0.1623],\n",
       "         [ 1.0000, -1.0000, -0.5802],\n",
       "         [-1.0000, -0.5630,  1.0000],\n",
       "         [ 0.0000,  0.0000,  0.0000],\n",
       "         [ 0.0000,  0.0000,  0.0000]]), reward=-16855.692114019028),\n",
       " Transition(state=tensor([[ 0.0000, -0.2786, -0.2890],\n",
       "         [ 0.0000,  0.0629,  0.1623],\n",
       "         [ 1.0000, -1.0000, -0.5802],\n",
       "         [-1.0000, -0.5630,  1.0000],\n",
       "         [ 0.0000,  0.0000,  0.0000],\n",
       "         [ 0.0000,  0.0000,  0.0000]]), action=array([[ 1.        , -0.57681334],\n",
       "        [-1.        , -1.        ],\n",
       "        [-1.        , -0.7205574 ]], dtype=float32), next_state=tensor([[ 0.0000, -0.4786, -0.4890],\n",
       "         [ 0.0000,  0.0205,  0.1479],\n",
       "         [ 1.0000, -1.0000, -1.0000],\n",
       "         [-0.5768, -1.0000, -0.7206],\n",
       "         [ 0.0000,  0.0000,  0.0000],\n",
       "         [ 0.0000,  0.0000,  0.0000]]), reward=-18382.233882814555),\n",
       " Transition(state=tensor([[ 0.0000, -0.4786, -0.4890],\n",
       "         [ 0.0000,  0.0205,  0.1479],\n",
       "         [ 1.0000, -1.0000, -1.0000],\n",
       "         [-0.5768, -1.0000, -0.7206],\n",
       "         [ 0.0000,  0.0000,  0.0000],\n",
       "         [ 0.0000,  0.0000,  0.0000]]), action=array([[ 1.        , -1.        ],\n",
       "        [-1.        , -0.7520454 ],\n",
       "        [-0.9005153 , -0.64244056]], dtype=float32), next_state=tensor([[ 0.0000, -0.6786, -0.6791],\n",
       "         [ 0.0000,  0.0453,  0.1837],\n",
       "         [ 1.0000, -1.0000, -0.9005],\n",
       "         [-1.0000, -0.7520, -0.6424],\n",
       "         [ 0.0000,  0.0000,  0.0000],\n",
       "         [ 0.0000,  0.0000,  0.0000]]), reward=-20051.379955469263),\n",
       " Transition(state=tensor([[ 0.0000, -0.6786, -0.6791],\n",
       "         [ 0.0000,  0.0453,  0.1837],\n",
       "         [ 1.0000, -1.0000, -0.9005],\n",
       "         [-1.0000, -0.7520, -0.6424],\n",
       "         [ 0.0000,  0.0000,  0.0000],\n",
       "         [ 0.0000,  0.0000,  0.0000]]), action=array([[ 1.        , -1.        ],\n",
       "        [-0.89642036, -0.94185454],\n",
       "        [ 0.08332634,  1.        ]], dtype=float32), next_state=tensor([[ 0.0000, -0.8682, -0.7708],\n",
       "         [ 0.0000,  0.0511,  0.3837],\n",
       "         [ 1.0000, -0.8964,  0.0833],\n",
       "         [-1.0000, -0.9419,  1.0000],\n",
       "         [ 0.0000,  0.0000,  0.0000],\n",
       "         [ 0.0000,  0.0000,  0.0000]]), reward=-22341.267528511744),\n",
       " Transition(state=tensor([[ 0.0000, -0.8682, -0.7708],\n",
       "         [ 0.0000,  0.0511,  0.3837],\n",
       "         [ 1.0000, -0.8964,  0.0833],\n",
       "         [-1.0000, -0.9419,  1.0000],\n",
       "         [ 0.0000,  0.0000,  0.0000],\n",
       "         [ 0.0000,  0.0000,  0.0000]]), action=array([[ 1.        , -0.0649696 ],\n",
       "        [-1.        , -0.8540221 ],\n",
       "        [-0.48870093,  0.03699189]], dtype=float32), next_state=tensor([[ 0.0000, -1.0682, -0.9196],\n",
       "         [ 0.0000, -0.0278,  0.3939],\n",
       "         [ 1.0000, -1.0000, -0.4887],\n",
       "         [-0.0650, -0.8540,  0.0370],\n",
       "         [ 0.0000,  0.0000,  0.0000],\n",
       "         [ 0.0000,  0.0000,  0.0000]]), reward=-24325.382288574947),\n",
       " Transition(state=tensor([[ 0.0000, -1.0682, -0.9196],\n",
       "         [ 0.0000, -0.0278,  0.3939],\n",
       "         [ 1.0000, -1.0000, -0.4887],\n",
       "         [-0.0650, -0.8540,  0.0370],\n",
       "         [ 0.0000,  0.0000,  0.0000],\n",
       "         [ 0.0000,  0.0000,  0.0000]]), action=array([[ 0.7821317 , -1.        ],\n",
       "        [-1.        , -0.5990635 ],\n",
       "        [-1.        , -0.65311855]], dtype=float32), next_state=tensor([[ 0.0000, -1.2464, -1.0978],\n",
       "         [ 0.0000,  0.0123,  0.4286],\n",
       "         [ 0.7821, -1.0000, -1.0000],\n",
       "         [-1.0000, -0.5991, -0.6531],\n",
       "         [ 0.0000,  0.0000,  0.0000],\n",
       "         [ 0.0000,  0.0000,  0.0000]]), reward=-26084.656627890734),\n",
       " Transition(state=tensor([[ 0.0000, -1.2464, -1.0978],\n",
       "         [ 0.0000,  0.0123,  0.4286],\n",
       "         [ 0.7821, -1.0000, -1.0000],\n",
       "         [-1.0000, -0.5991, -0.6531],\n",
       "         [ 0.0000,  0.0000,  0.0000],\n",
       "         [ 0.0000,  0.0000,  0.0000]]), action=array([[ 1.        , -1.        ],\n",
       "        [-0.7029419 , -0.6478027 ],\n",
       "        [-0.4409486 ,  0.47104627]], dtype=float32), next_state=tensor([[ 0.0000, -1.4167, -1.2419],\n",
       "         [ 0.0000,  0.0476,  0.5757],\n",
       "         [ 1.0000, -0.7029, -0.4409],\n",
       "         [-1.0000, -0.6478,  0.4710],\n",
       "         [ 0.0000,  0.0000,  0.0000],\n",
       "         [ 0.0000,  0.0000,  0.0000]]), reward=-28450.615449298137),\n",
       " Transition(state=tensor([[ 0.0000, -1.4167, -1.2419],\n",
       "         [ 0.0000,  0.0476,  0.5757],\n",
       "         [ 1.0000, -0.7029, -0.4409],\n",
       "         [-1.0000, -0.6478,  0.4710],\n",
       "         [ 0.0000,  0.0000,  0.0000],\n",
       "         [ 0.0000,  0.0000,  0.0000]]), action=array([[ 1., -1.],\n",
       "        [-1., -1.],\n",
       "        [-1.,  1.]], dtype=float32), next_state=tensor([[ 0.0000, -1.6167, -1.4419],\n",
       "         [ 0.0000,  0.0476,  0.7757],\n",
       "         [ 1.0000, -1.0000, -1.0000],\n",
       "         [-1.0000, -1.0000,  1.0000],\n",
       "         [ 0.0000,  0.0000,  0.0000],\n",
       "         [ 0.0000,  0.0000,  0.0000]]), reward=-31897.38513342369),\n",
       " Transition(state=tensor([[ 0.0000, -1.6167, -1.4419],\n",
       "         [ 0.0000,  0.0476,  0.7757],\n",
       "         [ 1.0000, -1.0000, -1.0000],\n",
       "         [-1.0000, -1.0000,  1.0000],\n",
       "         [ 0.0000,  0.0000,  0.0000],\n",
       "         [ 0.0000,  0.0000,  0.0000]]), action=array([[ 1.        ,  0.14658469],\n",
       "        [-1.        , -1.        ],\n",
       "        [-1.        ,  0.08995521]], dtype=float32), next_state=tensor([[ 0.0000, -1.8167, -1.6419],\n",
       "         [ 0.0000, -0.0671,  0.7700],\n",
       "         [ 1.0000, -1.0000, -1.0000],\n",
       "         [ 0.1466, -1.0000,  0.0900],\n",
       "         [ 0.0000,  0.0000,  0.0000],\n",
       "         [ 0.0000,  0.0000,  0.0000]]), reward=-34627.33802871304)]"
      ]
     },
     "execution_count": 92,
     "metadata": {},
     "output_type": "execute_result"
    }
   ],
   "source": [
    "memory_backup[0].memory[0:10]"
   ]
  },
  {
   "cell_type": "code",
   "execution_count": 11,
   "metadata": {},
   "outputs": [],
   "source": [
    "newstuff = env_list[0].reset()"
   ]
  },
  {
   "cell_type": "code",
   "execution_count": 94,
   "metadata": {},
   "outputs": [
    {
     "data": {
      "text/plain": [
       "0"
      ]
     },
     "execution_count": 94,
     "metadata": {},
     "output_type": "execute_result"
    }
   ],
   "source": [
    "len(torch.tensor([]))"
   ]
  },
  {
   "cell_type": "code",
   "execution_count": null,
   "metadata": {},
   "outputs": [],
   "source": []
  }
 ],
 "metadata": {
  "kernelspec": {
   "display_name": "Python 3",
   "language": "python",
   "name": "python3"
  },
  "language_info": {
   "codemirror_mode": {
    "name": "ipython",
    "version": 3
   },
   "file_extension": ".py",
   "mimetype": "text/x-python",
   "name": "python",
   "nbconvert_exporter": "python",
   "pygments_lexer": "ipython3",
   "version": "3.6.2"
  }
 },
 "nbformat": 4,
 "nbformat_minor": 4
}
