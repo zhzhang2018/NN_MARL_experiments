{
 "cells": [
  {
   "cell_type": "markdown",
   "metadata": {},
   "source": [
    "### Debug environment for the MARL process"
   ]
  },
  {
   "cell_type": "code",
   "execution_count": 1,
   "metadata": {},
   "outputs": [],
   "source": [
    "%matplotlib inline\n",
    "import gym\n",
    "import math\n",
    "import random\n",
    "import numpy as np\n",
    "import matplotlib\n",
    "import matplotlib.pyplot as plt\n",
    "from collections import namedtuple\n",
    "from itertools import count\n",
    "from PIL import Image\n",
    "\n",
    "import torch\n",
    "import torch.nn as nn\n",
    "import torch.optim as optim\n",
    "import torch.nn.functional as F\n",
    "import torchvision.transforms as T\n",
    "from torch.autograd import Variable\n",
    "\n",
    "# set up matplotlib\n",
    "is_ipython = 'inline' in matplotlib.get_backend()\n",
    "if is_ipython:\n",
    "    from IPython import display\n",
    "\n",
    "plt.ion()\n",
    "\n",
    "# if gpu is to be used\n",
    "device = torch.device(\"cuda\" if torch.cuda.is_available() else \"cpu\")\n",
    "\n",
    "from utils.ReplayMemory import * \n",
    "from utils.networks import *\n",
    "from utils.agents import *\n",
    "from utils.plotting import *\n",
    "from utils.train_test_methods import *\n",
    "from utils.params import *\n",
    "from utils.retrieve_sim import *\n",
    "\n",
    "from importlib import reload\n",
    "import utils\n",
    "\n",
    "input_type = U_VELOCITY\n",
    "observe_type = O_VELOCITY\n",
    "observe_action = O_ACTION\n",
    "reward_mode=ALL_REWARD\n",
    "\n",
    "import os\n",
    "try:\n",
    "    os.mkdir('screencaps')\n",
    "except:\n",
    "    pass\n"
   ]
  },
  {
   "cell_type": "code",
   "execution_count": 103,
   "metadata": {},
   "outputs": [
    {
     "name": "stdout",
     "output_type": "stream",
     "text": [
      "Loading model from models/AC2Agent_AC2_dist_reward_posGauss_fixed0_m1208_soft_bound_cumu_posReward_N2_749\n"
     ]
    }
   ],
   "source": [
    "# Load the model and make the right environment\n",
    "reload(utils.agents)\n",
    "from utils.agents import *\n",
    "num_episode=500#250#500\n",
    "test_interval=10#0\n",
    "num_test=10#50\n",
    "num_iteration=200\n",
    "BATCH_SIZE=128#64#128\n",
    "save_sim_intv=50\n",
    "debug=False\n",
    "num_sample=50\n",
    "seed=22222\n",
    "hidden=32\n",
    "action_space=[-1,1]\n",
    "\n",
    "# rand_mode = NO_RAND\n",
    "rand_mode = GAUSS_RAND\n",
    "N = 2\n",
    "env = gym.make('ConsensusEnv:ConsensusContEnv-v0', N=N, dt=0.1, Delta=0.05, #o_radius=40000,\n",
    "              input_type=input_type, observe_type=observe_type, observe_action=O_ACTION, reward_mode=DIST_REWARD,\n",
    "                 boundary_policy=SOFT_PENALTY, finish_reward_policy=REWARD_IF_CONSENSUS, \n",
    "                 uses_boundary=False\n",
    "#                  uses_boundary=True\n",
    "        ).unwrapped\n",
    "agent = AC2Agent(device, env.N, env.nf, env.na, hidden, rand_modeA=rand_mode,\n",
    "                 learning_rateA=0.01, learning_rateC=0.02, mode=1208)\n",
    "agent.load_model('models/AC2Agent_AC2_dist_reward_posGauss_fixed0_m1208_soft_bound_cumu_posReward_N2_749')\n",
    "steps = 0"
   ]
  },
  {
   "cell_type": "code",
   "execution_count": 104,
   "metadata": {},
   "outputs": [
    {
     "data": {
      "text/plain": [
       "<matplotlib.image.AxesImage at 0x1609e6c18>"
      ]
     },
     "execution_count": 104,
     "metadata": {},
     "output_type": "execute_result"
    },
    {
     "data": {
      "image/png": "[encoded data removed]",
      "text/plain": [
       "<Figure size 432x288 with 1 Axes>"
      ]
     },
     "metadata": {
      "needs_background": "light"
     },
     "output_type": "display_data"
    }
   ],
   "source": [
    "# Copy the code from train and test functions, and prepare to run it\n",
    "agent.set_train(False)\n",
    "cum_reward = 0\n",
    "reward_hist = []\n",
    "\n",
    "state = env.reset()\n",
    "if agent.centralized:\n",
    "    state = env.state\n",
    "state = torch.from_numpy(state).float()\n",
    "state = Variable(state)\n",
    "\n",
    "img = env.render(mode=\"rgb_array\")\n",
    "env.close()\n",
    "plt.imshow(img)"
   ]
  },
  {
   "cell_type": "code",
   "execution_count": 105,
   "metadata": {},
   "outputs": [
    {
     "name": "stdout",
     "output_type": "stream",
     "text": [
      "Current env state: (loc in x, loc in y, vel in x, vel in y) \n",
      " [[ 0.          0.17738344]\n",
      " [ 0.         -0.15457512]\n",
      " [ 0.99999988  0.99999988]\n",
      " [-0.99999982 -0.99999988]] \n",
      " Observed state: (4x relative states, 2x self and neighbor actions, 1x time count)\n",
      " [[[ 0.00000000e+00 -1.77383442e-01]\n",
      "  [ 0.00000000e+00  1.54575116e-01]\n",
      "  [ 0.00000000e+00  0.00000000e+00]\n",
      "  [ 0.00000000e+00  5.96046448e-08]\n",
      "  [ 9.99999881e-01  9.99999881e-01]\n",
      "  [-9.99999821e-01 -9.99999881e-01]\n",
      "  [ 0.00000000e+00  0.00000000e+00]]\n",
      "\n",
      " [[ 1.77383442e-01  0.00000000e+00]\n",
      "  [-1.54575116e-01  0.00000000e+00]\n",
      "  [ 0.00000000e+00  0.00000000e+00]\n",
      "  [-5.96046448e-08  0.00000000e+00]\n",
      "  [ 9.99999881e-01  9.99999881e-01]\n",
      "  [-9.99999821e-01 -9.99999881e-01]\n",
      "  [ 0.00000000e+00  0.00000000e+00]]] \n",
      "Reward: \n",
      " [-94.1134224 -94.1134224]\n"
     ]
    },
    {
     "data": {
      "image/png": "[encoded data removed]",
      "text/plain": [
       "<Figure size 432x288 with 1 Axes>"
      ]
     },
     "metadata": {
      "needs_background": "light"
     },
     "output_type": "display_data"
    }
   ],
   "source": [
    "# Copy the code from train and test functions, and run it iteration by iteration\n",
    "with torch.no_grad():  \n",
    "    # Try to pick an action, react, and store the resulting behavior in the pool here\n",
    "    if agent.centralized:\n",
    "        action = agent.select_action(state, **{\n",
    "                'steps_done':steps, 'rand':False, 'num_sample':50, 'action_space':action_space\n",
    "            }).T\n",
    "    else:\n",
    "        actions = []\n",
    "        for i in range(N):\n",
    "            action = agent.select_action(state[i], **{\n",
    "                'steps_done':steps, 'rand':False, 'num_sample':50, 'action_space':action_space\n",
    "            })\n",
    "            actions.append(action)\n",
    "        action = np.array(actions).T \n",
    "\n",
    "    next_state, reward, done, _ = env.step(action)\n",
    "    img = env.render(mode=\"rgb_array\")\n",
    "    env.close()\n",
    "    plt.imshow(img)\n",
    "    \n",
    "    if agent.centralized:\n",
    "        next_state = env.state\n",
    "    print(\"Current env state: (loc in x, loc in y, vel in x, vel in y) \\n\", env.state[:4], \n",
    "          \"\\n Observed state: (4x relative states, 2x self and neighbor actions, 1x time count)\\n\", next_state, \n",
    "          \"\\nReward: \\n\", reward)\n",
    "    \n",
    "    next_state = Variable(torch.from_numpy(next_state).float()) # The float() probably avoids bug in net.forward()\n",
    "    state = next_state\n",
    "    cum_reward += sum(reward)\n",
    "    reward_hist.append(reward)\n",
    "    steps += 1\n",
    "\n",
    "    if done:\n",
    "        print(\"Took \", steps, \" steps to converge\")\n",
    "        "
   ]
  },
  {
   "cell_type": "code",
   "execution_count": 106,
   "metadata": {},
   "outputs": [
    {
     "data": {
      "text/plain": [
       "array([[0., 1.],\n",
       "       [1., 0.]])"
      ]
     },
     "execution_count": 106,
     "metadata": {},
     "output_type": "execute_result"
    }
   ],
   "source": [
    "env.Adj"
   ]
  },
  {
   "cell_type": "code",
   "execution_count": 111,
   "metadata": {},
   "outputs": [
    {
     "data": {
      "text/plain": [
       "array([[0.        , 0.23528356],\n",
       "       [0.23528356, 0.        ]])"
      ]
     },
     "execution_count": 111,
     "metadata": {},
     "output_type": "execute_result"
    }
   ],
   "source": [
    "diff = env.state.T.reshape((env.N,env.ns,1)) - env.state.reshape((1,env.ns,env.N))\n",
    "\n",
    "diff_norm = np.linalg.norm(diff[:,:2,:], ord=2, axis=1)\n",
    "\n",
    "diff_norm"
   ]
  },
  {
   "cell_type": "code",
   "execution_count": 108,
   "metadata": {},
   "outputs": [
    {
     "data": {
      "text/plain": [
       "array([[ 0.9999999,  0.9999999],\n",
       "       [-0.9999998, -0.9999999]], dtype=float32)"
      ]
     },
     "execution_count": 108,
     "metadata": {},
     "output_type": "execute_result"
    }
   ],
   "source": [
    "action"
   ]
  },
  {
   "cell_type": "code",
   "execution_count": 107,
   "metadata": {},
   "outputs": [
    {
     "data": {
      "text/plain": [
       "array([[ 0.        ,  0.17738344],\n",
       "       [ 0.        , -0.15457512],\n",
       "       [ 0.99999988,  0.99999988],\n",
       "       [-0.99999982, -0.99999988],\n",
       "       [ 0.        ,  0.        ],\n",
       "       [ 0.        ,  0.        ]])"
      ]
     },
     "execution_count": 107,
     "metadata": {},
     "output_type": "execute_result"
    }
   ],
   "source": [
    "env.state"
   ]
  },
  {
   "cell_type": "code",
   "execution_count": 110,
   "metadata": {},
   "outputs": [
    {
     "data": {
      "text/plain": [
       "tensor([[ 1., -1.,  1.,  1.]], grad_fn=<CatBackward>)"
      ]
     },
     "execution_count": 110,
     "metadata": {},
     "output_type": "execute_result"
    }
   ],
   "source": [
    "act_params = agent.netA(Variable(next_state[1].view(1, -1, N)))\n",
    "act_params"
   ]
  },
  {
   "cell_type": "code",
   "execution_count": 95,
   "metadata": {},
   "outputs": [
    {
     "data": {
      "text/plain": [
       "tensor([[ 0.7810, -1.2545]])"
      ]
     },
     "execution_count": 95,
     "metadata": {},
     "output_type": "execute_result"
    }
   ],
   "source": [
    "pred_action = torch.zeros(1,agent.na)\n",
    "pred_probs = torch.zeros(1)\n",
    "\n",
    "distrb = torch.distributions.Normal(\n",
    "    act_params[:,:agent.na],\n",
    "    torch.diag( nn.functional.softplus( act_params[:,agent.na:] ) )\n",
    ")\n",
    "aa = distrb.sample()\n",
    "aa"
   ]
  },
  {
   "cell_type": "code",
   "execution_count": 96,
   "metadata": {},
   "outputs": [
    {
     "data": {
      "text/plain": [
       "(tensor([[ 0.7810, -1.0000]]),\n",
       " tensor([[-1.2054, -1.1915]], grad_fn=<SubBackward0>))"
      ]
     },
     "execution_count": 96,
     "metadata": {},
     "output_type": "execute_result"
    }
   ],
   "source": [
    "pred_action = torch.clamp( aa, agent.action_range[0], agent.action_range[1] )\n",
    "pred_probs = distrb.log_prob(pred_action)\n",
    "pred_action, pred_probs"
   ]
  },
  {
   "cell_type": "code",
   "execution_count": 90,
   "metadata": {},
   "outputs": [
    {
     "data": {
      "text/plain": [
       "tensor([[1.3133, 1.3133]], grad_fn=<SoftplusBackward>)"
      ]
     },
     "execution_count": 90,
     "metadata": {},
     "output_type": "execute_result"
    }
   ],
   "source": [
    "nn.functional.softplus( act_params[:,agent.na:] )"
   ]
  },
  {
   "cell_type": "code",
   "execution_count": 91,
   "metadata": {},
   "outputs": [
    {
     "data": {
      "text/plain": [
       "tensor([[-0.4820, -2.4129]])"
      ]
     },
     "execution_count": 91,
     "metadata": {},
     "output_type": "execute_result"
    }
   ],
   "source": [
    "aa = distrb.sample()\n",
    "aa"
   ]
  },
  {
   "cell_type": "code",
   "execution_count": 92,
   "metadata": {},
   "outputs": [
    {
     "data": {
      "text/plain": [
       "tensor([[-0.4820, -1.0000]])"
      ]
     },
     "execution_count": 92,
     "metadata": {},
     "output_type": "execute_result"
    }
   ],
   "source": [
    "torch.clamp( aa, agent.action_range[0], agent.action_range[1] )"
   ]
  },
  {
   "cell_type": "code",
   "execution_count": 102,
   "metadata": {},
   "outputs": [
    {
     "data": {
      "text/plain": [
       "2"
      ]
     },
     "execution_count": 102,
     "metadata": {},
     "output_type": "execute_result"
    }
   ],
   "source": [
    "agent.rand_modeA"
   ]
  },
  {
   "cell_type": "code",
   "execution_count": null,
   "metadata": {},
   "outputs": [],
   "source": []
  }
 ],
 "metadata": {
  "kernelspec": {
   "display_name": "Python 3",
   "language": "python",
   "name": "python3"
  },
  "language_info": {
   "codemirror_mode": {
    "name": "ipython",
    "version": 3
   },
   "file_extension": ".py",
   "mimetype": "text/x-python",
   "name": "python",
   "nbconvert_exporter": "python",
   "pygments_lexer": "ipython3",
   "version": "3.6.2"
  }
 },
 "nbformat": 4,
 "nbformat_minor": 4
}
